{
 "cells": [
  {
   "cell_type": "code",
   "execution_count": 1,
   "id": "43d5f030",
   "metadata": {
    "execution": {
     "iopub.execute_input": "2024-05-05T12:37:26.551925Z",
     "iopub.status.busy": "2024-05-05T12:37:26.551437Z",
     "iopub.status.idle": "2024-05-05T12:37:29.101789Z",
     "shell.execute_reply": "2024-05-05T12:37:29.100261Z"
    },
    "papermill": {
     "duration": 2.576087,
     "end_time": "2024-05-05T12:37:29.104918",
     "exception": false,
     "start_time": "2024-05-05T12:37:26.528831",
     "status": "completed"
    },
    "tags": []
   },
   "outputs": [],
   "source": [
    "import pandas as pd\n",
    "import numpy as np\n",
    "import matplotlib.pyplot as plt\n",
    "import seaborn as sns"
   ]
  },
  {
   "cell_type": "code",
   "execution_count": 2,
   "id": "5b7d9949",
   "metadata": {
    "execution": {
     "iopub.execute_input": "2024-05-05T12:37:29.148696Z",
     "iopub.status.busy": "2024-05-05T12:37:29.148053Z",
     "iopub.status.idle": "2024-05-05T12:37:29.229011Z",
     "shell.execute_reply": "2024-05-05T12:37:29.227885Z"
    },
    "papermill": {
     "duration": 0.107045,
     "end_time": "2024-05-05T12:37:29.232800",
     "exception": false,
     "start_time": "2024-05-05T12:37:29.125755",
     "status": "completed"
    },
    "tags": []
   },
   "outputs": [],
   "source": [
    "df = pd.read_csv('/kaggle/input/ford-car-price-prediction/ford.csv')"
   ]
  },
  {
   "cell_type": "code",
   "execution_count": 3,
   "id": "41291e21",
   "metadata": {
    "execution": {
     "iopub.execute_input": "2024-05-05T12:37:29.280573Z",
     "iopub.status.busy": "2024-05-05T12:37:29.280089Z",
     "iopub.status.idle": "2024-05-05T12:37:29.312325Z",
     "shell.execute_reply": "2024-05-05T12:37:29.311439Z"
    },
    "papermill": {
     "duration": 0.059137,
     "end_time": "2024-05-05T12:37:29.315707",
     "exception": false,
     "start_time": "2024-05-05T12:37:29.256570",
     "status": "completed"
    },
    "tags": []
   },
   "outputs": [
    {
     "data": {
      "text/html": [
       "<div>\n",
       "<style scoped>\n",
       "    .dataframe tbody tr th:only-of-type {\n",
       "        vertical-align: middle;\n",
       "    }\n",
       "\n",
       "    .dataframe tbody tr th {\n",
       "        vertical-align: top;\n",
       "    }\n",
       "\n",
       "    .dataframe thead th {\n",
       "        text-align: right;\n",
       "    }\n",
       "</style>\n",
       "<table border=\"1\" class=\"dataframe\">\n",
       "  <thead>\n",
       "    <tr style=\"text-align: right;\">\n",
       "      <th></th>\n",
       "      <th>model</th>\n",
       "      <th>year</th>\n",
       "      <th>price</th>\n",
       "      <th>transmission</th>\n",
       "      <th>mileage</th>\n",
       "      <th>fuelType</th>\n",
       "      <th>tax</th>\n",
       "      <th>mpg</th>\n",
       "      <th>engineSize</th>\n",
       "    </tr>\n",
       "  </thead>\n",
       "  <tbody>\n",
       "    <tr>\n",
       "      <th>0</th>\n",
       "      <td>Fiesta</td>\n",
       "      <td>2017</td>\n",
       "      <td>12000</td>\n",
       "      <td>Automatic</td>\n",
       "      <td>15944</td>\n",
       "      <td>Petrol</td>\n",
       "      <td>150</td>\n",
       "      <td>57.7</td>\n",
       "      <td>1.0</td>\n",
       "    </tr>\n",
       "    <tr>\n",
       "      <th>1</th>\n",
       "      <td>Focus</td>\n",
       "      <td>2018</td>\n",
       "      <td>14000</td>\n",
       "      <td>Manual</td>\n",
       "      <td>9083</td>\n",
       "      <td>Petrol</td>\n",
       "      <td>150</td>\n",
       "      <td>57.7</td>\n",
       "      <td>1.0</td>\n",
       "    </tr>\n",
       "    <tr>\n",
       "      <th>2</th>\n",
       "      <td>Focus</td>\n",
       "      <td>2017</td>\n",
       "      <td>13000</td>\n",
       "      <td>Manual</td>\n",
       "      <td>12456</td>\n",
       "      <td>Petrol</td>\n",
       "      <td>150</td>\n",
       "      <td>57.7</td>\n",
       "      <td>1.0</td>\n",
       "    </tr>\n",
       "    <tr>\n",
       "      <th>3</th>\n",
       "      <td>Fiesta</td>\n",
       "      <td>2019</td>\n",
       "      <td>17500</td>\n",
       "      <td>Manual</td>\n",
       "      <td>10460</td>\n",
       "      <td>Petrol</td>\n",
       "      <td>145</td>\n",
       "      <td>40.3</td>\n",
       "      <td>1.5</td>\n",
       "    </tr>\n",
       "    <tr>\n",
       "      <th>4</th>\n",
       "      <td>Fiesta</td>\n",
       "      <td>2019</td>\n",
       "      <td>16500</td>\n",
       "      <td>Automatic</td>\n",
       "      <td>1482</td>\n",
       "      <td>Petrol</td>\n",
       "      <td>145</td>\n",
       "      <td>48.7</td>\n",
       "      <td>1.0</td>\n",
       "    </tr>\n",
       "  </tbody>\n",
       "</table>\n",
       "</div>"
      ],
      "text/plain": [
       "     model  year  price transmission  mileage fuelType  tax   mpg  engineSize\n",
       "0   Fiesta  2017  12000    Automatic    15944   Petrol  150  57.7         1.0\n",
       "1    Focus  2018  14000       Manual     9083   Petrol  150  57.7         1.0\n",
       "2    Focus  2017  13000       Manual    12456   Petrol  150  57.7         1.0\n",
       "3   Fiesta  2019  17500       Manual    10460   Petrol  145  40.3         1.5\n",
       "4   Fiesta  2019  16500    Automatic     1482   Petrol  145  48.7         1.0"
      ]
     },
     "execution_count": 3,
     "metadata": {},
     "output_type": "execute_result"
    }
   ],
   "source": [
    "df.head()"
   ]
  },
  {
   "cell_type": "code",
   "execution_count": 4,
   "id": "7d213b6c",
   "metadata": {
    "execution": {
     "iopub.execute_input": "2024-05-05T12:37:29.363417Z",
     "iopub.status.busy": "2024-05-05T12:37:29.362778Z",
     "iopub.status.idle": "2024-05-05T12:37:29.378374Z",
     "shell.execute_reply": "2024-05-05T12:37:29.376818Z"
    },
    "papermill": {
     "duration": 0.042221,
     "end_time": "2024-05-05T12:37:29.381252",
     "exception": false,
     "start_time": "2024-05-05T12:37:29.339031",
     "status": "completed"
    },
    "tags": []
   },
   "outputs": [
    {
     "data": {
      "text/html": [
       "<div>\n",
       "<style scoped>\n",
       "    .dataframe tbody tr th:only-of-type {\n",
       "        vertical-align: middle;\n",
       "    }\n",
       "\n",
       "    .dataframe tbody tr th {\n",
       "        vertical-align: top;\n",
       "    }\n",
       "\n",
       "    .dataframe thead th {\n",
       "        text-align: right;\n",
       "    }\n",
       "</style>\n",
       "<table border=\"1\" class=\"dataframe\">\n",
       "  <thead>\n",
       "    <tr style=\"text-align: right;\">\n",
       "      <th></th>\n",
       "      <th>model</th>\n",
       "      <th>year</th>\n",
       "      <th>price</th>\n",
       "      <th>transmission</th>\n",
       "      <th>mileage</th>\n",
       "      <th>fuelType</th>\n",
       "      <th>tax</th>\n",
       "      <th>mpg</th>\n",
       "      <th>engineSize</th>\n",
       "    </tr>\n",
       "  </thead>\n",
       "  <tbody>\n",
       "    <tr>\n",
       "      <th>17961</th>\n",
       "      <td>B-MAX</td>\n",
       "      <td>2017</td>\n",
       "      <td>8999</td>\n",
       "      <td>Manual</td>\n",
       "      <td>16700</td>\n",
       "      <td>Petrol</td>\n",
       "      <td>150</td>\n",
       "      <td>47.1</td>\n",
       "      <td>1.4</td>\n",
       "    </tr>\n",
       "    <tr>\n",
       "      <th>17962</th>\n",
       "      <td>B-MAX</td>\n",
       "      <td>2014</td>\n",
       "      <td>7499</td>\n",
       "      <td>Manual</td>\n",
       "      <td>40700</td>\n",
       "      <td>Petrol</td>\n",
       "      <td>30</td>\n",
       "      <td>57.7</td>\n",
       "      <td>1.0</td>\n",
       "    </tr>\n",
       "    <tr>\n",
       "      <th>17963</th>\n",
       "      <td>Focus</td>\n",
       "      <td>2015</td>\n",
       "      <td>9999</td>\n",
       "      <td>Manual</td>\n",
       "      <td>7010</td>\n",
       "      <td>Diesel</td>\n",
       "      <td>20</td>\n",
       "      <td>67.3</td>\n",
       "      <td>1.6</td>\n",
       "    </tr>\n",
       "    <tr>\n",
       "      <th>17964</th>\n",
       "      <td>KA</td>\n",
       "      <td>2018</td>\n",
       "      <td>8299</td>\n",
       "      <td>Manual</td>\n",
       "      <td>5007</td>\n",
       "      <td>Petrol</td>\n",
       "      <td>145</td>\n",
       "      <td>57.7</td>\n",
       "      <td>1.2</td>\n",
       "    </tr>\n",
       "    <tr>\n",
       "      <th>17965</th>\n",
       "      <td>Focus</td>\n",
       "      <td>2015</td>\n",
       "      <td>8299</td>\n",
       "      <td>Manual</td>\n",
       "      <td>5007</td>\n",
       "      <td>Petrol</td>\n",
       "      <td>22</td>\n",
       "      <td>57.7</td>\n",
       "      <td>1.0</td>\n",
       "    </tr>\n",
       "  </tbody>\n",
       "</table>\n",
       "</div>"
      ],
      "text/plain": [
       "        model  year  price transmission  mileage fuelType  tax   mpg  \\\n",
       "17961   B-MAX  2017   8999       Manual    16700   Petrol  150  47.1   \n",
       "17962   B-MAX  2014   7499       Manual    40700   Petrol   30  57.7   \n",
       "17963   Focus  2015   9999       Manual     7010   Diesel   20  67.3   \n",
       "17964      KA  2018   8299       Manual     5007   Petrol  145  57.7   \n",
       "17965   Focus  2015   8299       Manual     5007   Petrol   22  57.7   \n",
       "\n",
       "       engineSize  \n",
       "17961         1.4  \n",
       "17962         1.0  \n",
       "17963         1.6  \n",
       "17964         1.2  \n",
       "17965         1.0  "
      ]
     },
     "execution_count": 4,
     "metadata": {},
     "output_type": "execute_result"
    }
   ],
   "source": [
    "df.tail()"
   ]
  },
  {
   "cell_type": "code",
   "execution_count": 5,
   "id": "68a71a02",
   "metadata": {
    "execution": {
     "iopub.execute_input": "2024-05-05T12:37:29.425689Z",
     "iopub.status.busy": "2024-05-05T12:37:29.425273Z",
     "iopub.status.idle": "2024-05-05T12:37:29.458477Z",
     "shell.execute_reply": "2024-05-05T12:37:29.456888Z"
    },
    "papermill": {
     "duration": 0.059725,
     "end_time": "2024-05-05T12:37:29.462338",
     "exception": false,
     "start_time": "2024-05-05T12:37:29.402613",
     "status": "completed"
    },
    "tags": []
   },
   "outputs": [
    {
     "name": "stdout",
     "output_type": "stream",
     "text": [
      "<class 'pandas.core.frame.DataFrame'>\n",
      "RangeIndex: 17966 entries, 0 to 17965\n",
      "Data columns (total 9 columns):\n",
      " #   Column        Non-Null Count  Dtype  \n",
      "---  ------        --------------  -----  \n",
      " 0   model         17966 non-null  object \n",
      " 1   year          17966 non-null  int64  \n",
      " 2   price         17966 non-null  int64  \n",
      " 3   transmission  17966 non-null  object \n",
      " 4   mileage       17966 non-null  int64  \n",
      " 5   fuelType      17966 non-null  object \n",
      " 6   tax           17966 non-null  int64  \n",
      " 7   mpg           17966 non-null  float64\n",
      " 8   engineSize    17966 non-null  float64\n",
      "dtypes: float64(2), int64(4), object(3)\n",
      "memory usage: 1.2+ MB\n"
     ]
    }
   ],
   "source": [
    "df.info()"
   ]
  },
  {
   "cell_type": "code",
   "execution_count": 6,
   "id": "fa779788",
   "metadata": {
    "execution": {
     "iopub.execute_input": "2024-05-05T12:37:29.506324Z",
     "iopub.status.busy": "2024-05-05T12:37:29.505819Z",
     "iopub.status.idle": "2024-05-05T12:37:29.513348Z",
     "shell.execute_reply": "2024-05-05T12:37:29.512092Z"
    },
    "papermill": {
     "duration": 0.032242,
     "end_time": "2024-05-05T12:37:29.515650",
     "exception": false,
     "start_time": "2024-05-05T12:37:29.483408",
     "status": "completed"
    },
    "tags": []
   },
   "outputs": [
    {
     "data": {
      "text/plain": [
       "(17966, 9)"
      ]
     },
     "execution_count": 6,
     "metadata": {},
     "output_type": "execute_result"
    }
   ],
   "source": [
    "df.shape"
   ]
  },
  {
   "cell_type": "code",
   "execution_count": 7,
   "id": "bd15151b",
   "metadata": {
    "execution": {
     "iopub.execute_input": "2024-05-05T12:37:29.560009Z",
     "iopub.status.busy": "2024-05-05T12:37:29.559629Z",
     "iopub.status.idle": "2024-05-05T12:37:29.594520Z",
     "shell.execute_reply": "2024-05-05T12:37:29.593587Z"
    },
    "papermill": {
     "duration": 0.060151,
     "end_time": "2024-05-05T12:37:29.596950",
     "exception": false,
     "start_time": "2024-05-05T12:37:29.536799",
     "status": "completed"
    },
    "tags": []
   },
   "outputs": [
    {
     "data": {
      "text/html": [
       "<div>\n",
       "<style scoped>\n",
       "    .dataframe tbody tr th:only-of-type {\n",
       "        vertical-align: middle;\n",
       "    }\n",
       "\n",
       "    .dataframe tbody tr th {\n",
       "        vertical-align: top;\n",
       "    }\n",
       "\n",
       "    .dataframe thead th {\n",
       "        text-align: right;\n",
       "    }\n",
       "</style>\n",
       "<table border=\"1\" class=\"dataframe\">\n",
       "  <thead>\n",
       "    <tr style=\"text-align: right;\">\n",
       "      <th></th>\n",
       "      <th>year</th>\n",
       "      <th>price</th>\n",
       "      <th>mileage</th>\n",
       "      <th>tax</th>\n",
       "      <th>mpg</th>\n",
       "      <th>engineSize</th>\n",
       "    </tr>\n",
       "  </thead>\n",
       "  <tbody>\n",
       "    <tr>\n",
       "      <th>count</th>\n",
       "      <td>17966.000000</td>\n",
       "      <td>17966.000000</td>\n",
       "      <td>17966.000000</td>\n",
       "      <td>17966.000000</td>\n",
       "      <td>17966.000000</td>\n",
       "      <td>17966.000000</td>\n",
       "    </tr>\n",
       "    <tr>\n",
       "      <th>mean</th>\n",
       "      <td>2016.866470</td>\n",
       "      <td>12279.534844</td>\n",
       "      <td>23362.608761</td>\n",
       "      <td>113.329456</td>\n",
       "      <td>57.906980</td>\n",
       "      <td>1.350807</td>\n",
       "    </tr>\n",
       "    <tr>\n",
       "      <th>std</th>\n",
       "      <td>2.050336</td>\n",
       "      <td>4741.343657</td>\n",
       "      <td>19472.054349</td>\n",
       "      <td>62.012456</td>\n",
       "      <td>10.125696</td>\n",
       "      <td>0.432367</td>\n",
       "    </tr>\n",
       "    <tr>\n",
       "      <th>min</th>\n",
       "      <td>1996.000000</td>\n",
       "      <td>495.000000</td>\n",
       "      <td>1.000000</td>\n",
       "      <td>0.000000</td>\n",
       "      <td>20.800000</td>\n",
       "      <td>0.000000</td>\n",
       "    </tr>\n",
       "    <tr>\n",
       "      <th>25%</th>\n",
       "      <td>2016.000000</td>\n",
       "      <td>8999.000000</td>\n",
       "      <td>9987.000000</td>\n",
       "      <td>30.000000</td>\n",
       "      <td>52.300000</td>\n",
       "      <td>1.000000</td>\n",
       "    </tr>\n",
       "    <tr>\n",
       "      <th>50%</th>\n",
       "      <td>2017.000000</td>\n",
       "      <td>11291.000000</td>\n",
       "      <td>18242.500000</td>\n",
       "      <td>145.000000</td>\n",
       "      <td>58.900000</td>\n",
       "      <td>1.200000</td>\n",
       "    </tr>\n",
       "    <tr>\n",
       "      <th>75%</th>\n",
       "      <td>2018.000000</td>\n",
       "      <td>15299.000000</td>\n",
       "      <td>31060.000000</td>\n",
       "      <td>145.000000</td>\n",
       "      <td>65.700000</td>\n",
       "      <td>1.500000</td>\n",
       "    </tr>\n",
       "    <tr>\n",
       "      <th>max</th>\n",
       "      <td>2060.000000</td>\n",
       "      <td>54995.000000</td>\n",
       "      <td>177644.000000</td>\n",
       "      <td>580.000000</td>\n",
       "      <td>201.800000</td>\n",
       "      <td>5.000000</td>\n",
       "    </tr>\n",
       "  </tbody>\n",
       "</table>\n",
       "</div>"
      ],
      "text/plain": [
       "               year         price        mileage           tax           mpg  \\\n",
       "count  17966.000000  17966.000000   17966.000000  17966.000000  17966.000000   \n",
       "mean    2016.866470  12279.534844   23362.608761    113.329456     57.906980   \n",
       "std        2.050336   4741.343657   19472.054349     62.012456     10.125696   \n",
       "min     1996.000000    495.000000       1.000000      0.000000     20.800000   \n",
       "25%     2016.000000   8999.000000    9987.000000     30.000000     52.300000   \n",
       "50%     2017.000000  11291.000000   18242.500000    145.000000     58.900000   \n",
       "75%     2018.000000  15299.000000   31060.000000    145.000000     65.700000   \n",
       "max     2060.000000  54995.000000  177644.000000    580.000000    201.800000   \n",
       "\n",
       "         engineSize  \n",
       "count  17966.000000  \n",
       "mean       1.350807  \n",
       "std        0.432367  \n",
       "min        0.000000  \n",
       "25%        1.000000  \n",
       "50%        1.200000  \n",
       "75%        1.500000  \n",
       "max        5.000000  "
      ]
     },
     "execution_count": 7,
     "metadata": {},
     "output_type": "execute_result"
    }
   ],
   "source": [
    "df.describe()"
   ]
  },
  {
   "cell_type": "code",
   "execution_count": 8,
   "id": "9f3c5b90",
   "metadata": {
    "execution": {
     "iopub.execute_input": "2024-05-05T12:37:29.642499Z",
     "iopub.status.busy": "2024-05-05T12:37:29.642085Z",
     "iopub.status.idle": "2024-05-05T12:37:29.658890Z",
     "shell.execute_reply": "2024-05-05T12:37:29.657468Z"
    },
    "papermill": {
     "duration": 0.042842,
     "end_time": "2024-05-05T12:37:29.661579",
     "exception": false,
     "start_time": "2024-05-05T12:37:29.618737",
     "status": "completed"
    },
    "tags": []
   },
   "outputs": [
    {
     "data": {
      "text/plain": [
       "model           0\n",
       "year            0\n",
       "price           0\n",
       "transmission    0\n",
       "mileage         0\n",
       "fuelType        0\n",
       "tax             0\n",
       "mpg             0\n",
       "engineSize      0\n",
       "dtype: int64"
      ]
     },
     "execution_count": 8,
     "metadata": {},
     "output_type": "execute_result"
    }
   ],
   "source": [
    "df.isnull().sum()"
   ]
  },
  {
   "cell_type": "code",
   "execution_count": 9,
   "id": "ce91e4be",
   "metadata": {
    "execution": {
     "iopub.execute_input": "2024-05-05T12:37:29.709314Z",
     "iopub.status.busy": "2024-05-05T12:37:29.708865Z",
     "iopub.status.idle": "2024-05-05T12:37:29.744811Z",
     "shell.execute_reply": "2024-05-05T12:37:29.743669Z"
    },
    "papermill": {
     "duration": 0.061857,
     "end_time": "2024-05-05T12:37:29.747268",
     "exception": false,
     "start_time": "2024-05-05T12:37:29.685411",
     "status": "completed"
    },
    "tags": []
   },
   "outputs": [
    {
     "data": {
      "text/html": [
       "<div>\n",
       "<style scoped>\n",
       "    .dataframe tbody tr th:only-of-type {\n",
       "        vertical-align: middle;\n",
       "    }\n",
       "\n",
       "    .dataframe tbody tr th {\n",
       "        vertical-align: top;\n",
       "    }\n",
       "\n",
       "    .dataframe thead th {\n",
       "        text-align: right;\n",
       "    }\n",
       "</style>\n",
       "<table border=\"1\" class=\"dataframe\">\n",
       "  <thead>\n",
       "    <tr style=\"text-align: right;\">\n",
       "      <th></th>\n",
       "      <th>count</th>\n",
       "      <th>mean</th>\n",
       "      <th>std</th>\n",
       "      <th>min</th>\n",
       "      <th>25%</th>\n",
       "      <th>50%</th>\n",
       "      <th>75%</th>\n",
       "      <th>max</th>\n",
       "    </tr>\n",
       "  </thead>\n",
       "  <tbody>\n",
       "    <tr>\n",
       "      <th>year</th>\n",
       "      <td>17966.0</td>\n",
       "      <td>2016.866470</td>\n",
       "      <td>2.050336</td>\n",
       "      <td>1996.0</td>\n",
       "      <td>2016.0</td>\n",
       "      <td>2017.0</td>\n",
       "      <td>2018.0</td>\n",
       "      <td>2060.0</td>\n",
       "    </tr>\n",
       "    <tr>\n",
       "      <th>price</th>\n",
       "      <td>17966.0</td>\n",
       "      <td>12279.534844</td>\n",
       "      <td>4741.343657</td>\n",
       "      <td>495.0</td>\n",
       "      <td>8999.0</td>\n",
       "      <td>11291.0</td>\n",
       "      <td>15299.0</td>\n",
       "      <td>54995.0</td>\n",
       "    </tr>\n",
       "    <tr>\n",
       "      <th>mileage</th>\n",
       "      <td>17966.0</td>\n",
       "      <td>23362.608761</td>\n",
       "      <td>19472.054349</td>\n",
       "      <td>1.0</td>\n",
       "      <td>9987.0</td>\n",
       "      <td>18242.5</td>\n",
       "      <td>31060.0</td>\n",
       "      <td>177644.0</td>\n",
       "    </tr>\n",
       "    <tr>\n",
       "      <th>tax</th>\n",
       "      <td>17966.0</td>\n",
       "      <td>113.329456</td>\n",
       "      <td>62.012456</td>\n",
       "      <td>0.0</td>\n",
       "      <td>30.0</td>\n",
       "      <td>145.0</td>\n",
       "      <td>145.0</td>\n",
       "      <td>580.0</td>\n",
       "    </tr>\n",
       "    <tr>\n",
       "      <th>mpg</th>\n",
       "      <td>17966.0</td>\n",
       "      <td>57.906980</td>\n",
       "      <td>10.125696</td>\n",
       "      <td>20.8</td>\n",
       "      <td>52.3</td>\n",
       "      <td>58.9</td>\n",
       "      <td>65.7</td>\n",
       "      <td>201.8</td>\n",
       "    </tr>\n",
       "    <tr>\n",
       "      <th>engineSize</th>\n",
       "      <td>17966.0</td>\n",
       "      <td>1.350807</td>\n",
       "      <td>0.432367</td>\n",
       "      <td>0.0</td>\n",
       "      <td>1.0</td>\n",
       "      <td>1.2</td>\n",
       "      <td>1.5</td>\n",
       "      <td>5.0</td>\n",
       "    </tr>\n",
       "  </tbody>\n",
       "</table>\n",
       "</div>"
      ],
      "text/plain": [
       "              count          mean           std     min     25%      50%  \\\n",
       "year        17966.0   2016.866470      2.050336  1996.0  2016.0   2017.0   \n",
       "price       17966.0  12279.534844   4741.343657   495.0  8999.0  11291.0   \n",
       "mileage     17966.0  23362.608761  19472.054349     1.0  9987.0  18242.5   \n",
       "tax         17966.0    113.329456     62.012456     0.0    30.0    145.0   \n",
       "mpg         17966.0     57.906980     10.125696    20.8    52.3     58.9   \n",
       "engineSize  17966.0      1.350807      0.432367     0.0     1.0      1.2   \n",
       "\n",
       "                75%       max  \n",
       "year         2018.0    2060.0  \n",
       "price       15299.0   54995.0  \n",
       "mileage     31060.0  177644.0  \n",
       "tax           145.0     580.0  \n",
       "mpg            65.7     201.8  \n",
       "engineSize      1.5       5.0  "
      ]
     },
     "execution_count": 9,
     "metadata": {},
     "output_type": "execute_result"
    }
   ],
   "source": [
    "df.describe().T"
   ]
  },
  {
   "cell_type": "markdown",
   "id": "80f8c18c",
   "metadata": {
    "papermill": {
     "duration": 0.022438,
     "end_time": "2024-05-05T12:37:29.792779",
     "exception": false,
     "start_time": "2024-05-05T12:37:29.770341",
     "status": "completed"
    },
    "tags": []
   },
   "source": [
    "# Data Visualization"
   ]
  },
  {
   "cell_type": "code",
   "execution_count": 10,
   "id": "04967b53",
   "metadata": {
    "execution": {
     "iopub.execute_input": "2024-05-05T12:37:29.839104Z",
     "iopub.status.busy": "2024-05-05T12:37:29.838715Z",
     "iopub.status.idle": "2024-05-05T12:37:30.862398Z",
     "shell.execute_reply": "2024-05-05T12:37:30.861206Z"
    },
    "papermill": {
     "duration": 1.04978,
     "end_time": "2024-05-05T12:37:30.864807",
     "exception": false,
     "start_time": "2024-05-05T12:37:29.815027",
     "status": "completed"
    },
    "tags": []
   },
   "outputs": [
    {
     "name": "stderr",
     "output_type": "stream",
     "text": [
      "/opt/conda/lib/python3.10/site-packages/seaborn/_oldcore.py:1119: FutureWarning: use_inf_as_na option is deprecated and will be removed in a future version. Convert inf values to NaN before operating instead.\n",
      "  with pd.option_context('mode.use_inf_as_na', True):\n"
     ]
    },
    {
     "data": {
      "text/plain": [
       "<Axes: xlabel='price', ylabel='Count'>"
      ]
     },
     "execution_count": 10,
     "metadata": {},
     "output_type": "execute_result"
    },
    {
     "data": {
      "image/png": "[encoded data removed]",
      "text/plain": [
       "<Figure size 2000x1000 with 1 Axes>"
      ]
     },
     "metadata": {},
     "output_type": "display_data"
    }
   ],
   "source": [
    "plt.figure(figsize = (20,10))\n",
    "sns.histplot(data = df['price'], kde = True)"
   ]
  },
  {
   "cell_type": "code",
   "execution_count": 11,
   "id": "a5611429",
   "metadata": {
    "execution": {
     "iopub.execute_input": "2024-05-05T12:37:30.914127Z",
     "iopub.status.busy": "2024-05-05T12:37:30.913647Z",
     "iopub.status.idle": "2024-05-05T12:37:30.924002Z",
     "shell.execute_reply": "2024-05-05T12:37:30.923092Z"
    },
    "papermill": {
     "duration": 0.038864,
     "end_time": "2024-05-05T12:37:30.926571",
     "exception": false,
     "start_time": "2024-05-05T12:37:30.887707",
     "status": "completed"
    },
    "tags": []
   },
   "outputs": [
    {
     "data": {
      "text/plain": [
       "year\n",
       "2017    4888\n",
       "2018    4014\n",
       "2019    3194\n",
       "2016    2331\n",
       "2015    1368\n",
       "2014     805\n",
       "2013     609\n",
       "2020     258\n",
       "2012     115\n",
       "2011      94\n",
       "2009      91\n",
       "2010      67\n",
       "2008      57\n",
       "2007      32\n",
       "2005      16\n",
       "2006      13\n",
       "2004       4\n",
       "2002       3\n",
       "2003       3\n",
       "1998       1\n",
       "1996       1\n",
       "2000       1\n",
       "2060       1\n",
       "Name: count, dtype: int64"
      ]
     },
     "execution_count": 11,
     "metadata": {},
     "output_type": "execute_result"
    }
   ],
   "source": [
    "df.year.value_counts()"
   ]
  },
  {
   "cell_type": "code",
   "execution_count": 12,
   "id": "7ad69775",
   "metadata": {
    "execution": {
     "iopub.execute_input": "2024-05-05T12:37:30.975888Z",
     "iopub.status.busy": "2024-05-05T12:37:30.975174Z",
     "iopub.status.idle": "2024-05-05T12:37:30.986374Z",
     "shell.execute_reply": "2024-05-05T12:37:30.985005Z"
    },
    "papermill": {
     "duration": 0.039969,
     "end_time": "2024-05-05T12:37:30.989724",
     "exception": false,
     "start_time": "2024-05-05T12:37:30.949755",
     "status": "completed"
    },
    "tags": []
   },
   "outputs": [],
   "source": [
    "df = df.drop(df[df.year > 2024].index)"
   ]
  },
  {
   "cell_type": "code",
   "execution_count": 13,
   "id": "46d77818",
   "metadata": {
    "execution": {
     "iopub.execute_input": "2024-05-05T12:37:31.045349Z",
     "iopub.status.busy": "2024-05-05T12:37:31.044412Z",
     "iopub.status.idle": "2024-05-05T12:37:31.053861Z",
     "shell.execute_reply": "2024-05-05T12:37:31.053022Z"
    },
    "papermill": {
     "duration": 0.038098,
     "end_time": "2024-05-05T12:37:31.056215",
     "exception": false,
     "start_time": "2024-05-05T12:37:31.018117",
     "status": "completed"
    },
    "tags": []
   },
   "outputs": [
    {
     "data": {
      "text/plain": [
       "year\n",
       "2017    4888\n",
       "2018    4014\n",
       "2019    3194\n",
       "2016    2331\n",
       "2015    1368\n",
       "2014     805\n",
       "2013     609\n",
       "2020     258\n",
       "2012     115\n",
       "2011      94\n",
       "2009      91\n",
       "2010      67\n",
       "2008      57\n",
       "2007      32\n",
       "2005      16\n",
       "2006      13\n",
       "2004       4\n",
       "2002       3\n",
       "2003       3\n",
       "1998       1\n",
       "1996       1\n",
       "2000       1\n",
       "Name: count, dtype: int64"
      ]
     },
     "execution_count": 13,
     "metadata": {},
     "output_type": "execute_result"
    }
   ],
   "source": [
    "df.year.value_counts()"
   ]
  },
  {
   "cell_type": "code",
   "execution_count": 14,
   "id": "b0b4f242",
   "metadata": {
    "execution": {
     "iopub.execute_input": "2024-05-05T12:37:31.106613Z",
     "iopub.status.busy": "2024-05-05T12:37:31.105745Z",
     "iopub.status.idle": "2024-05-05T12:37:31.669682Z",
     "shell.execute_reply": "2024-05-05T12:37:31.668267Z"
    },
    "papermill": {
     "duration": 0.592882,
     "end_time": "2024-05-05T12:37:31.673147",
     "exception": false,
     "start_time": "2024-05-05T12:37:31.080265",
     "status": "completed"
    },
    "tags": []
   },
   "outputs": [
    {
     "data": {
      "text/plain": [
       "<Axes: xlabel='year', ylabel='count'>"
      ]
     },
     "execution_count": 14,
     "metadata": {},
     "output_type": "execute_result"
    },
    {
     "data": {
      "image/png": "[encoded data removed]",
      "text/plain": [
       "<Figure size 2000x1000 with 1 Axes>"
      ]
     },
     "metadata": {},
     "output_type": "display_data"
    }
   ],
   "source": [
    "plt.figure(figsize = (20,10))\n",
    "sns.countplot(df, x= \"year\")"
   ]
  },
  {
   "cell_type": "code",
   "execution_count": 15,
   "id": "2d455155",
   "metadata": {
    "execution": {
     "iopub.execute_input": "2024-05-05T12:37:31.728034Z",
     "iopub.status.busy": "2024-05-05T12:37:31.727587Z",
     "iopub.status.idle": "2024-05-05T12:37:31.743383Z",
     "shell.execute_reply": "2024-05-05T12:37:31.742120Z"
    },
    "papermill": {
     "duration": 0.046948,
     "end_time": "2024-05-05T12:37:31.745878",
     "exception": false,
     "start_time": "2024-05-05T12:37:31.698930",
     "status": "completed"
    },
    "tags": []
   },
   "outputs": [
    {
     "data": {
      "text/plain": [
       "transmission\n",
       "Manual       15518\n",
       "Automatic     1360\n",
       "Semi-Auto     1087\n",
       "Name: count, dtype: int64"
      ]
     },
     "execution_count": 15,
     "metadata": {},
     "output_type": "execute_result"
    }
   ],
   "source": [
    "df.transmission.value_counts()"
   ]
  },
  {
   "cell_type": "code",
   "execution_count": 16,
   "id": "4a04ba75",
   "metadata": {
    "execution": {
     "iopub.execute_input": "2024-05-05T12:37:31.800296Z",
     "iopub.status.busy": "2024-05-05T12:37:31.798728Z",
     "iopub.status.idle": "2024-05-05T12:37:32.050399Z",
     "shell.execute_reply": "2024-05-05T12:37:32.049058Z"
    },
    "papermill": {
     "duration": 0.280778,
     "end_time": "2024-05-05T12:37:32.053771",
     "exception": false,
     "start_time": "2024-05-05T12:37:31.772993",
     "status": "completed"
    },
    "tags": []
   },
   "outputs": [
    {
     "data": {
      "text/plain": [
       "<matplotlib.legend.Legend at 0x7ace23898e20>"
      ]
     },
     "execution_count": 16,
     "metadata": {},
     "output_type": "execute_result"
    },
    {
     "data": {
      "image/png": "[encoded data removed]",
      "text/plain": [
       "<Figure size 1000x800 with 1 Axes>"
      ]
     },
     "metadata": {},
     "output_type": "display_data"
    }
   ],
   "source": [
    "transmission_counts = df['transmission'].value_counts()\n",
    "\n",
    "plt.figure(figsize = (10,8))\n",
    "plt.pie(transmission_counts, labels=transmission_counts.index, autopct='%1.1f%%', startangle=140)\n",
    "plt.axis('equal')\n",
    "plt.title(\"Transmission Distrubition\")\n",
    "\n",
    "plt.legend(transmission_counts.index, loc=\"best\")"
   ]
  },
  {
   "cell_type": "code",
   "execution_count": 17,
   "id": "f150d21d",
   "metadata": {
    "execution": {
     "iopub.execute_input": "2024-05-05T12:37:32.108950Z",
     "iopub.status.busy": "2024-05-05T12:37:32.108526Z",
     "iopub.status.idle": "2024-05-05T12:37:32.369508Z",
     "shell.execute_reply": "2024-05-05T12:37:32.368240Z"
    },
    "papermill": {
     "duration": 0.291675,
     "end_time": "2024-05-05T12:37:32.372480",
     "exception": false,
     "start_time": "2024-05-05T12:37:32.080805",
     "status": "completed"
    },
    "tags": []
   },
   "outputs": [
    {
     "data": {
      "text/plain": [
       "<Axes: xlabel='transmission', ylabel='count'>"
      ]
     },
     "execution_count": 17,
     "metadata": {},
     "output_type": "execute_result"
    },
    {
     "data": {
      "image/png": "[encoded data removed]",
      "text/plain": [
       "<Figure size 800x1000 with 1 Axes>"
      ]
     },
     "metadata": {},
     "output_type": "display_data"
    }
   ],
   "source": [
    "plt.figure(figsize=(8,10))\n",
    "sns.countplot(df, x= \"transmission\")"
   ]
  },
  {
   "cell_type": "code",
   "execution_count": 18,
   "id": "71d2f6af",
   "metadata": {
    "execution": {
     "iopub.execute_input": "2024-05-05T12:37:32.428708Z",
     "iopub.status.busy": "2024-05-05T12:37:32.428267Z",
     "iopub.status.idle": "2024-05-05T12:37:32.441722Z",
     "shell.execute_reply": "2024-05-05T12:37:32.440316Z"
    },
    "papermill": {
     "duration": 0.044613,
     "end_time": "2024-05-05T12:37:32.444443",
     "exception": false,
     "start_time": "2024-05-05T12:37:32.399830",
     "status": "completed"
    },
    "tags": []
   },
   "outputs": [
    {
     "data": {
      "text/plain": [
       "model\n",
       " Fiesta                   6556\n",
       " Focus                    4588\n",
       " Kuga                     2225\n",
       " EcoSport                 1143\n",
       " C-MAX                     543\n",
       " Ka+                       531\n",
       " Mondeo                    526\n",
       " B-MAX                     355\n",
       " S-MAX                     296\n",
       " Grand C-MAX               247\n",
       " Galaxy                    228\n",
       " Edge                      208\n",
       " KA                        199\n",
       " Puma                       80\n",
       " Tourneo Custom             69\n",
       " Grand Tourneo Connect      59\n",
       " Mustang                    57\n",
       " Tourneo Connect            33\n",
       " Fusion                     16\n",
       " Streetka                    2\n",
       " Ranger                      1\n",
       " Escort                      1\n",
       " Transit Tourneo             1\n",
       "Focus                        1\n",
       "Name: count, dtype: int64"
      ]
     },
     "execution_count": 18,
     "metadata": {},
     "output_type": "execute_result"
    }
   ],
   "source": [
    "df.model.value_counts()"
   ]
  },
  {
   "cell_type": "code",
   "execution_count": 19,
   "id": "ce8da070",
   "metadata": {
    "execution": {
     "iopub.execute_input": "2024-05-05T12:37:32.501799Z",
     "iopub.status.busy": "2024-05-05T12:37:32.500859Z",
     "iopub.status.idle": "2024-05-05T12:37:33.079531Z",
     "shell.execute_reply": "2024-05-05T12:37:33.078590Z"
    },
    "papermill": {
     "duration": 0.609214,
     "end_time": "2024-05-05T12:37:33.081797",
     "exception": false,
     "start_time": "2024-05-05T12:37:32.472583",
     "status": "completed"
    },
    "tags": []
   },
   "outputs": [
    {
     "data": {
      "text/plain": [
       "<Axes: xlabel='model', ylabel='count'>"
      ]
     },
     "execution_count": 19,
     "metadata": {},
     "output_type": "execute_result"
    },
    {
     "data": {
      "image/png": "[encoded data removed]",
      "text/plain": [
       "<Figure size 3000x1000 with 1 Axes>"
      ]
     },
     "metadata": {},
     "output_type": "display_data"
    }
   ],
   "source": [
    "plt.figure(figsize = (30,10))\n",
    "sns.countplot(df, x = \"model\")"
   ]
  },
  {
   "cell_type": "code",
   "execution_count": 20,
   "id": "dfbf222a",
   "metadata": {
    "execution": {
     "iopub.execute_input": "2024-05-05T12:37:33.207580Z",
     "iopub.status.busy": "2024-05-05T12:37:33.206784Z",
     "iopub.status.idle": "2024-05-05T12:37:33.218887Z",
     "shell.execute_reply": "2024-05-05T12:37:33.217593Z"
    },
    "papermill": {
     "duration": 0.113119,
     "end_time": "2024-05-05T12:37:33.221065",
     "exception": false,
     "start_time": "2024-05-05T12:37:33.107946",
     "status": "completed"
    },
    "tags": []
   },
   "outputs": [
    {
     "data": {
      "text/plain": [
       "fuelType\n",
       "Petrol      12178\n",
       "Diesel       5762\n",
       "Hybrid         22\n",
       "Electric        2\n",
       "Other           1\n",
       "Name: count, dtype: int64"
      ]
     },
     "execution_count": 20,
     "metadata": {},
     "output_type": "execute_result"
    }
   ],
   "source": [
    "df.fuelType.value_counts()"
   ]
  },
  {
   "cell_type": "code",
   "execution_count": 21,
   "id": "da2565c3",
   "metadata": {
    "execution": {
     "iopub.execute_input": "2024-05-05T12:37:33.275884Z",
     "iopub.status.busy": "2024-05-05T12:37:33.275472Z",
     "iopub.status.idle": "2024-05-05T12:37:33.599638Z",
     "shell.execute_reply": "2024-05-05T12:37:33.598351Z"
    },
    "papermill": {
     "duration": 0.354886,
     "end_time": "2024-05-05T12:37:33.602437",
     "exception": false,
     "start_time": "2024-05-05T12:37:33.247551",
     "status": "completed"
    },
    "tags": []
   },
   "outputs": [
    {
     "data": {
      "text/plain": [
       "<Axes: xlabel='fuelType', ylabel='count'>"
      ]
     },
     "execution_count": 21,
     "metadata": {},
     "output_type": "execute_result"
    },
    {
     "data": {
      "image/png": "[encoded data removed]",
      "text/plain": [
       "<Figure size 2000x1000 with 1 Axes>"
      ]
     },
     "metadata": {},
     "output_type": "display_data"
    }
   ],
   "source": [
    "plt.figure(figsize = (20,10))\n",
    "sns.countplot(df, x = 'fuelType')"
   ]
  },
  {
   "cell_type": "code",
   "execution_count": 22,
   "id": "b79d04a7",
   "metadata": {
    "execution": {
     "iopub.execute_input": "2024-05-05T12:37:33.660182Z",
     "iopub.status.busy": "2024-05-05T12:37:33.659686Z",
     "iopub.status.idle": "2024-05-05T12:37:33.677777Z",
     "shell.execute_reply": "2024-05-05T12:37:33.676574Z"
    },
    "papermill": {
     "duration": 0.050586,
     "end_time": "2024-05-05T12:37:33.680230",
     "exception": false,
     "start_time": "2024-05-05T12:37:33.629644",
     "status": "completed"
    },
    "tags": []
   },
   "outputs": [
    {
     "data": {
      "text/plain": [
       "154"
      ]
     },
     "execution_count": 22,
     "metadata": {},
     "output_type": "execute_result"
    }
   ],
   "source": [
    "df.duplicated().sum()"
   ]
  },
  {
   "cell_type": "code",
   "execution_count": 23,
   "id": "b4723158",
   "metadata": {
    "execution": {
     "iopub.execute_input": "2024-05-05T12:37:33.737025Z",
     "iopub.status.busy": "2024-05-05T12:37:33.736552Z",
     "iopub.status.idle": "2024-05-05T12:37:33.754143Z",
     "shell.execute_reply": "2024-05-05T12:37:33.752727Z"
    },
    "papermill": {
     "duration": 0.049758,
     "end_time": "2024-05-05T12:37:33.757335",
     "exception": false,
     "start_time": "2024-05-05T12:37:33.707577",
     "status": "completed"
    },
    "tags": []
   },
   "outputs": [],
   "source": [
    "df = df.drop_duplicates()"
   ]
  },
  {
   "cell_type": "code",
   "execution_count": 24,
   "id": "41822e6d",
   "metadata": {
    "execution": {
     "iopub.execute_input": "2024-05-05T12:37:33.815355Z",
     "iopub.status.busy": "2024-05-05T12:37:33.814826Z",
     "iopub.status.idle": "2024-05-05T12:37:33.850505Z",
     "shell.execute_reply": "2024-05-05T12:37:33.849264Z"
    },
    "papermill": {
     "duration": 0.068225,
     "end_time": "2024-05-05T12:37:33.853282",
     "exception": false,
     "start_time": "2024-05-05T12:37:33.785057",
     "status": "completed"
    },
    "tags": []
   },
   "outputs": [
    {
     "data": {
      "text/html": [
       "<div>\n",
       "<style scoped>\n",
       "    .dataframe tbody tr th:only-of-type {\n",
       "        vertical-align: middle;\n",
       "    }\n",
       "\n",
       "    .dataframe tbody tr th {\n",
       "        vertical-align: top;\n",
       "    }\n",
       "\n",
       "    .dataframe thead th {\n",
       "        text-align: right;\n",
       "    }\n",
       "</style>\n",
       "<table border=\"1\" class=\"dataframe\">\n",
       "  <thead>\n",
       "    <tr style=\"text-align: right;\">\n",
       "      <th></th>\n",
       "      <th>year</th>\n",
       "      <th>price</th>\n",
       "      <th>mileage</th>\n",
       "      <th>tax</th>\n",
       "      <th>mpg</th>\n",
       "      <th>engineSize</th>\n",
       "    </tr>\n",
       "  </thead>\n",
       "  <tbody>\n",
       "    <tr>\n",
       "      <th>count</th>\n",
       "      <td>17811.000000</td>\n",
       "      <td>17811.000000</td>\n",
       "      <td>17811.000000</td>\n",
       "      <td>17811.000000</td>\n",
       "      <td>17811.000000</td>\n",
       "      <td>17811.000000</td>\n",
       "    </tr>\n",
       "    <tr>\n",
       "      <th>mean</th>\n",
       "      <td>2016.859974</td>\n",
       "      <td>12269.880523</td>\n",
       "      <td>23379.381955</td>\n",
       "      <td>113.309865</td>\n",
       "      <td>57.909545</td>\n",
       "      <td>1.350620</td>\n",
       "    </tr>\n",
       "    <tr>\n",
       "      <th>std</th>\n",
       "      <td>2.026478</td>\n",
       "      <td>4736.220719</td>\n",
       "      <td>19418.128363</td>\n",
       "      <td>62.032540</td>\n",
       "      <td>10.132348</td>\n",
       "      <td>0.432593</td>\n",
       "    </tr>\n",
       "    <tr>\n",
       "      <th>min</th>\n",
       "      <td>1996.000000</td>\n",
       "      <td>495.000000</td>\n",
       "      <td>1.000000</td>\n",
       "      <td>0.000000</td>\n",
       "      <td>20.800000</td>\n",
       "      <td>0.000000</td>\n",
       "    </tr>\n",
       "    <tr>\n",
       "      <th>25%</th>\n",
       "      <td>2016.000000</td>\n",
       "      <td>8999.000000</td>\n",
       "      <td>10000.000000</td>\n",
       "      <td>30.000000</td>\n",
       "      <td>52.300000</td>\n",
       "      <td>1.000000</td>\n",
       "    </tr>\n",
       "    <tr>\n",
       "      <th>50%</th>\n",
       "      <td>2017.000000</td>\n",
       "      <td>11289.000000</td>\n",
       "      <td>18274.000000</td>\n",
       "      <td>145.000000</td>\n",
       "      <td>58.900000</td>\n",
       "      <td>1.200000</td>\n",
       "    </tr>\n",
       "    <tr>\n",
       "      <th>75%</th>\n",
       "      <td>2018.000000</td>\n",
       "      <td>15295.000000</td>\n",
       "      <td>31092.500000</td>\n",
       "      <td>145.000000</td>\n",
       "      <td>65.700000</td>\n",
       "      <td>1.500000</td>\n",
       "    </tr>\n",
       "    <tr>\n",
       "      <th>max</th>\n",
       "      <td>2020.000000</td>\n",
       "      <td>54995.000000</td>\n",
       "      <td>177644.000000</td>\n",
       "      <td>580.000000</td>\n",
       "      <td>201.800000</td>\n",
       "      <td>5.000000</td>\n",
       "    </tr>\n",
       "  </tbody>\n",
       "</table>\n",
       "</div>"
      ],
      "text/plain": [
       "               year         price        mileage           tax           mpg  \\\n",
       "count  17811.000000  17811.000000   17811.000000  17811.000000  17811.000000   \n",
       "mean    2016.859974  12269.880523   23379.381955    113.309865     57.909545   \n",
       "std        2.026478   4736.220719   19418.128363     62.032540     10.132348   \n",
       "min     1996.000000    495.000000       1.000000      0.000000     20.800000   \n",
       "25%     2016.000000   8999.000000   10000.000000     30.000000     52.300000   \n",
       "50%     2017.000000  11289.000000   18274.000000    145.000000     58.900000   \n",
       "75%     2018.000000  15295.000000   31092.500000    145.000000     65.700000   \n",
       "max     2020.000000  54995.000000  177644.000000    580.000000    201.800000   \n",
       "\n",
       "         engineSize  \n",
       "count  17811.000000  \n",
       "mean       1.350620  \n",
       "std        0.432593  \n",
       "min        0.000000  \n",
       "25%        1.000000  \n",
       "50%        1.200000  \n",
       "75%        1.500000  \n",
       "max        5.000000  "
      ]
     },
     "execution_count": 24,
     "metadata": {},
     "output_type": "execute_result"
    }
   ],
   "source": [
    "df.describe()"
   ]
  },
  {
   "cell_type": "markdown",
   "id": "8ceed4fc",
   "metadata": {
    "papermill": {
     "duration": 0.027208,
     "end_time": "2024-05-05T12:37:33.908490",
     "exception": false,
     "start_time": "2024-05-05T12:37:33.881282",
     "status": "completed"
    },
    "tags": []
   },
   "source": [
    "# **Label Encoder**"
   ]
  },
  {
   "cell_type": "code",
   "execution_count": 25,
   "id": "f8659b6a",
   "metadata": {
    "execution": {
     "iopub.execute_input": "2024-05-05T12:37:33.965847Z",
     "iopub.status.busy": "2024-05-05T12:37:33.965429Z",
     "iopub.status.idle": "2024-05-05T12:37:33.983916Z",
     "shell.execute_reply": "2024-05-05T12:37:33.982748Z"
    },
    "papermill": {
     "duration": 0.050938,
     "end_time": "2024-05-05T12:37:33.987446",
     "exception": false,
     "start_time": "2024-05-05T12:37:33.936508",
     "status": "completed"
    },
    "tags": []
   },
   "outputs": [
    {
     "name": "stdout",
     "output_type": "stream",
     "text": [
      "<class 'pandas.core.frame.DataFrame'>\n",
      "Index: 17811 entries, 0 to 17965\n",
      "Data columns (total 9 columns):\n",
      " #   Column        Non-Null Count  Dtype  \n",
      "---  ------        --------------  -----  \n",
      " 0   model         17811 non-null  object \n",
      " 1   year          17811 non-null  int64  \n",
      " 2   price         17811 non-null  int64  \n",
      " 3   transmission  17811 non-null  object \n",
      " 4   mileage       17811 non-null  int64  \n",
      " 5   fuelType      17811 non-null  object \n",
      " 6   tax           17811 non-null  int64  \n",
      " 7   mpg           17811 non-null  float64\n",
      " 8   engineSize    17811 non-null  float64\n",
      "dtypes: float64(2), int64(4), object(3)\n",
      "memory usage: 1.4+ MB\n"
     ]
    }
   ],
   "source": [
    "df.info()"
   ]
  },
  {
   "cell_type": "code",
   "execution_count": 26,
   "id": "747fd765",
   "metadata": {
    "execution": {
     "iopub.execute_input": "2024-05-05T12:37:34.050755Z",
     "iopub.status.busy": "2024-05-05T12:37:34.049859Z",
     "iopub.status.idle": "2024-05-05T12:37:34.242734Z",
     "shell.execute_reply": "2024-05-05T12:37:34.241437Z"
    },
    "papermill": {
     "duration": 0.227709,
     "end_time": "2024-05-05T12:37:34.246116",
     "exception": false,
     "start_time": "2024-05-05T12:37:34.018407",
     "status": "completed"
    },
    "tags": []
   },
   "outputs": [],
   "source": [
    "from sklearn.preprocessing import LabelEncoder\n",
    "\n",
    "label_encoder = LabelEncoder()\n",
    "\n",
    "model = df['model']\n",
    "\n",
    "encoded_model = label_encoder.fit_transform(model)\n",
    "\n",
    "df['encoded_model'] = encoded_model"
   ]
  },
  {
   "cell_type": "code",
   "execution_count": 27,
   "id": "57de9ef5",
   "metadata": {
    "execution": {
     "iopub.execute_input": "2024-05-05T12:37:34.307705Z",
     "iopub.status.busy": "2024-05-05T12:37:34.307285Z",
     "iopub.status.idle": "2024-05-05T12:37:34.324859Z",
     "shell.execute_reply": "2024-05-05T12:37:34.323847Z"
    },
    "papermill": {
     "duration": 0.051261,
     "end_time": "2024-05-05T12:37:34.327630",
     "exception": false,
     "start_time": "2024-05-05T12:37:34.276369",
     "status": "completed"
    },
    "tags": []
   },
   "outputs": [
    {
     "data": {
      "text/html": [
       "<div>\n",
       "<style scoped>\n",
       "    .dataframe tbody tr th:only-of-type {\n",
       "        vertical-align: middle;\n",
       "    }\n",
       "\n",
       "    .dataframe tbody tr th {\n",
       "        vertical-align: top;\n",
       "    }\n",
       "\n",
       "    .dataframe thead th {\n",
       "        text-align: right;\n",
       "    }\n",
       "</style>\n",
       "<table border=\"1\" class=\"dataframe\">\n",
       "  <thead>\n",
       "    <tr style=\"text-align: right;\">\n",
       "      <th></th>\n",
       "      <th>model</th>\n",
       "      <th>year</th>\n",
       "      <th>price</th>\n",
       "      <th>transmission</th>\n",
       "      <th>mileage</th>\n",
       "      <th>fuelType</th>\n",
       "      <th>tax</th>\n",
       "      <th>mpg</th>\n",
       "      <th>engineSize</th>\n",
       "      <th>encoded_model</th>\n",
       "    </tr>\n",
       "  </thead>\n",
       "  <tbody>\n",
       "    <tr>\n",
       "      <th>0</th>\n",
       "      <td>Fiesta</td>\n",
       "      <td>2017</td>\n",
       "      <td>12000</td>\n",
       "      <td>Automatic</td>\n",
       "      <td>15944</td>\n",
       "      <td>Petrol</td>\n",
       "      <td>150</td>\n",
       "      <td>57.7</td>\n",
       "      <td>1.0</td>\n",
       "      <td>5</td>\n",
       "    </tr>\n",
       "    <tr>\n",
       "      <th>1</th>\n",
       "      <td>Focus</td>\n",
       "      <td>2018</td>\n",
       "      <td>14000</td>\n",
       "      <td>Manual</td>\n",
       "      <td>9083</td>\n",
       "      <td>Petrol</td>\n",
       "      <td>150</td>\n",
       "      <td>57.7</td>\n",
       "      <td>1.0</td>\n",
       "      <td>6</td>\n",
       "    </tr>\n",
       "    <tr>\n",
       "      <th>2</th>\n",
       "      <td>Focus</td>\n",
       "      <td>2017</td>\n",
       "      <td>13000</td>\n",
       "      <td>Manual</td>\n",
       "      <td>12456</td>\n",
       "      <td>Petrol</td>\n",
       "      <td>150</td>\n",
       "      <td>57.7</td>\n",
       "      <td>1.0</td>\n",
       "      <td>6</td>\n",
       "    </tr>\n",
       "    <tr>\n",
       "      <th>3</th>\n",
       "      <td>Fiesta</td>\n",
       "      <td>2019</td>\n",
       "      <td>17500</td>\n",
       "      <td>Manual</td>\n",
       "      <td>10460</td>\n",
       "      <td>Petrol</td>\n",
       "      <td>145</td>\n",
       "      <td>40.3</td>\n",
       "      <td>1.5</td>\n",
       "      <td>5</td>\n",
       "    </tr>\n",
       "    <tr>\n",
       "      <th>4</th>\n",
       "      <td>Fiesta</td>\n",
       "      <td>2019</td>\n",
       "      <td>16500</td>\n",
       "      <td>Automatic</td>\n",
       "      <td>1482</td>\n",
       "      <td>Petrol</td>\n",
       "      <td>145</td>\n",
       "      <td>48.7</td>\n",
       "      <td>1.0</td>\n",
       "      <td>5</td>\n",
       "    </tr>\n",
       "  </tbody>\n",
       "</table>\n",
       "</div>"
      ],
      "text/plain": [
       "     model  year  price transmission  mileage fuelType  tax   mpg  engineSize  \\\n",
       "0   Fiesta  2017  12000    Automatic    15944   Petrol  150  57.7         1.0   \n",
       "1    Focus  2018  14000       Manual     9083   Petrol  150  57.7         1.0   \n",
       "2    Focus  2017  13000       Manual    12456   Petrol  150  57.7         1.0   \n",
       "3   Fiesta  2019  17500       Manual    10460   Petrol  145  40.3         1.5   \n",
       "4   Fiesta  2019  16500    Automatic     1482   Petrol  145  48.7         1.0   \n",
       "\n",
       "   encoded_model  \n",
       "0              5  \n",
       "1              6  \n",
       "2              6  \n",
       "3              5  \n",
       "4              5  "
      ]
     },
     "execution_count": 27,
     "metadata": {},
     "output_type": "execute_result"
    }
   ],
   "source": [
    "df.head()"
   ]
  },
  {
   "cell_type": "code",
   "execution_count": 28,
   "id": "01f30853",
   "metadata": {
    "execution": {
     "iopub.execute_input": "2024-05-05T12:37:34.392969Z",
     "iopub.status.busy": "2024-05-05T12:37:34.392211Z",
     "iopub.status.idle": "2024-05-05T12:37:34.400629Z",
     "shell.execute_reply": "2024-05-05T12:37:34.399259Z"
    },
    "papermill": {
     "duration": 0.042211,
     "end_time": "2024-05-05T12:37:34.403068",
     "exception": false,
     "start_time": "2024-05-05T12:37:34.360857",
     "status": "completed"
    },
    "tags": []
   },
   "outputs": [
    {
     "data": {
      "text/plain": [
       "(17811, 10)"
      ]
     },
     "execution_count": 28,
     "metadata": {},
     "output_type": "execute_result"
    }
   ],
   "source": [
    "df.shape\n"
   ]
  },
  {
   "cell_type": "code",
   "execution_count": 29,
   "id": "186fc2c1",
   "metadata": {
    "execution": {
     "iopub.execute_input": "2024-05-05T12:37:34.462469Z",
     "iopub.status.busy": "2024-05-05T12:37:34.462050Z",
     "iopub.status.idle": "2024-05-05T12:37:34.471863Z",
     "shell.execute_reply": "2024-05-05T12:37:34.470668Z"
    },
    "papermill": {
     "duration": 0.042871,
     "end_time": "2024-05-05T12:37:34.474549",
     "exception": false,
     "start_time": "2024-05-05T12:37:34.431678",
     "status": "completed"
    },
    "tags": []
   },
   "outputs": [],
   "source": [
    "df.drop('model', axis=1, inplace=True)"
   ]
  },
  {
   "cell_type": "code",
   "execution_count": 30,
   "id": "392a0f42",
   "metadata": {
    "execution": {
     "iopub.execute_input": "2024-05-05T12:37:34.534825Z",
     "iopub.status.busy": "2024-05-05T12:37:34.534392Z",
     "iopub.status.idle": "2024-05-05T12:37:34.542466Z",
     "shell.execute_reply": "2024-05-05T12:37:34.541254Z"
    },
    "papermill": {
     "duration": 0.041389,
     "end_time": "2024-05-05T12:37:34.544895",
     "exception": false,
     "start_time": "2024-05-05T12:37:34.503506",
     "status": "completed"
    },
    "tags": []
   },
   "outputs": [
    {
     "data": {
      "text/plain": [
       "(17811, 9)"
      ]
     },
     "execution_count": 30,
     "metadata": {},
     "output_type": "execute_result"
    }
   ],
   "source": [
    "df.shape"
   ]
  },
  {
   "cell_type": "code",
   "execution_count": 31,
   "id": "54b252c5",
   "metadata": {
    "execution": {
     "iopub.execute_input": "2024-05-05T12:37:34.606089Z",
     "iopub.status.busy": "2024-05-05T12:37:34.605649Z",
     "iopub.status.idle": "2024-05-05T12:37:34.618822Z",
     "shell.execute_reply": "2024-05-05T12:37:34.617472Z"
    },
    "papermill": {
     "duration": 0.047616,
     "end_time": "2024-05-05T12:37:34.621448",
     "exception": false,
     "start_time": "2024-05-05T12:37:34.573832",
     "status": "completed"
    },
    "tags": []
   },
   "outputs": [],
   "source": [
    "from sklearn.preprocessing import LabelEncoder\n",
    "\n",
    "label_encoder = LabelEncoder()\n",
    "\n",
    "transmission = df['transmission']\n",
    "\n",
    "encoded_transmission = label_encoder.fit_transform(transmission)\n",
    "\n",
    "df['encoded_transmission'] = encoded_transmission"
   ]
  },
  {
   "cell_type": "code",
   "execution_count": 32,
   "id": "25a717f8",
   "metadata": {
    "execution": {
     "iopub.execute_input": "2024-05-05T12:37:34.683252Z",
     "iopub.status.busy": "2024-05-05T12:37:34.682758Z",
     "iopub.status.idle": "2024-05-05T12:37:34.700198Z",
     "shell.execute_reply": "2024-05-05T12:37:34.699006Z"
    },
    "papermill": {
     "duration": 0.052109,
     "end_time": "2024-05-05T12:37:34.702547",
     "exception": false,
     "start_time": "2024-05-05T12:37:34.650438",
     "status": "completed"
    },
    "tags": []
   },
   "outputs": [
    {
     "data": {
      "text/html": [
       "<div>\n",
       "<style scoped>\n",
       "    .dataframe tbody tr th:only-of-type {\n",
       "        vertical-align: middle;\n",
       "    }\n",
       "\n",
       "    .dataframe tbody tr th {\n",
       "        vertical-align: top;\n",
       "    }\n",
       "\n",
       "    .dataframe thead th {\n",
       "        text-align: right;\n",
       "    }\n",
       "</style>\n",
       "<table border=\"1\" class=\"dataframe\">\n",
       "  <thead>\n",
       "    <tr style=\"text-align: right;\">\n",
       "      <th></th>\n",
       "      <th>year</th>\n",
       "      <th>price</th>\n",
       "      <th>transmission</th>\n",
       "      <th>mileage</th>\n",
       "      <th>fuelType</th>\n",
       "      <th>tax</th>\n",
       "      <th>mpg</th>\n",
       "      <th>engineSize</th>\n",
       "      <th>encoded_model</th>\n",
       "      <th>encoded_transmission</th>\n",
       "    </tr>\n",
       "  </thead>\n",
       "  <tbody>\n",
       "    <tr>\n",
       "      <th>0</th>\n",
       "      <td>2017</td>\n",
       "      <td>12000</td>\n",
       "      <td>Automatic</td>\n",
       "      <td>15944</td>\n",
       "      <td>Petrol</td>\n",
       "      <td>150</td>\n",
       "      <td>57.7</td>\n",
       "      <td>1.0</td>\n",
       "      <td>5</td>\n",
       "      <td>0</td>\n",
       "    </tr>\n",
       "    <tr>\n",
       "      <th>1</th>\n",
       "      <td>2018</td>\n",
       "      <td>14000</td>\n",
       "      <td>Manual</td>\n",
       "      <td>9083</td>\n",
       "      <td>Petrol</td>\n",
       "      <td>150</td>\n",
       "      <td>57.7</td>\n",
       "      <td>1.0</td>\n",
       "      <td>6</td>\n",
       "      <td>1</td>\n",
       "    </tr>\n",
       "    <tr>\n",
       "      <th>2</th>\n",
       "      <td>2017</td>\n",
       "      <td>13000</td>\n",
       "      <td>Manual</td>\n",
       "      <td>12456</td>\n",
       "      <td>Petrol</td>\n",
       "      <td>150</td>\n",
       "      <td>57.7</td>\n",
       "      <td>1.0</td>\n",
       "      <td>6</td>\n",
       "      <td>1</td>\n",
       "    </tr>\n",
       "    <tr>\n",
       "      <th>3</th>\n",
       "      <td>2019</td>\n",
       "      <td>17500</td>\n",
       "      <td>Manual</td>\n",
       "      <td>10460</td>\n",
       "      <td>Petrol</td>\n",
       "      <td>145</td>\n",
       "      <td>40.3</td>\n",
       "      <td>1.5</td>\n",
       "      <td>5</td>\n",
       "      <td>1</td>\n",
       "    </tr>\n",
       "    <tr>\n",
       "      <th>4</th>\n",
       "      <td>2019</td>\n",
       "      <td>16500</td>\n",
       "      <td>Automatic</td>\n",
       "      <td>1482</td>\n",
       "      <td>Petrol</td>\n",
       "      <td>145</td>\n",
       "      <td>48.7</td>\n",
       "      <td>1.0</td>\n",
       "      <td>5</td>\n",
       "      <td>0</td>\n",
       "    </tr>\n",
       "  </tbody>\n",
       "</table>\n",
       "</div>"
      ],
      "text/plain": [
       "   year  price transmission  mileage fuelType  tax   mpg  engineSize  \\\n",
       "0  2017  12000    Automatic    15944   Petrol  150  57.7         1.0   \n",
       "1  2018  14000       Manual     9083   Petrol  150  57.7         1.0   \n",
       "2  2017  13000       Manual    12456   Petrol  150  57.7         1.0   \n",
       "3  2019  17500       Manual    10460   Petrol  145  40.3         1.5   \n",
       "4  2019  16500    Automatic     1482   Petrol  145  48.7         1.0   \n",
       "\n",
       "   encoded_model  encoded_transmission  \n",
       "0              5                     0  \n",
       "1              6                     1  \n",
       "2              6                     1  \n",
       "3              5                     1  \n",
       "4              5                     0  "
      ]
     },
     "execution_count": 32,
     "metadata": {},
     "output_type": "execute_result"
    }
   ],
   "source": [
    "df.head()"
   ]
  },
  {
   "cell_type": "code",
   "execution_count": 33,
   "id": "0ce5a9e1",
   "metadata": {
    "execution": {
     "iopub.execute_input": "2024-05-05T12:37:34.763286Z",
     "iopub.status.busy": "2024-05-05T12:37:34.762262Z",
     "iopub.status.idle": "2024-05-05T12:37:34.770719Z",
     "shell.execute_reply": "2024-05-05T12:37:34.769461Z"
    },
    "papermill": {
     "duration": 0.041644,
     "end_time": "2024-05-05T12:37:34.773357",
     "exception": false,
     "start_time": "2024-05-05T12:37:34.731713",
     "status": "completed"
    },
    "tags": []
   },
   "outputs": [],
   "source": [
    "df.drop('transmission', axis = 1, inplace = True)"
   ]
  },
  {
   "cell_type": "code",
   "execution_count": 34,
   "id": "ea535a9d",
   "metadata": {
    "execution": {
     "iopub.execute_input": "2024-05-05T12:37:34.834129Z",
     "iopub.status.busy": "2024-05-05T12:37:34.833647Z",
     "iopub.status.idle": "2024-05-05T12:37:34.853894Z",
     "shell.execute_reply": "2024-05-05T12:37:34.852698Z"
    },
    "papermill": {
     "duration": 0.053977,
     "end_time": "2024-05-05T12:37:34.856855",
     "exception": false,
     "start_time": "2024-05-05T12:37:34.802878",
     "status": "completed"
    },
    "tags": []
   },
   "outputs": [
    {
     "data": {
      "text/html": [
       "<div>\n",
       "<style scoped>\n",
       "    .dataframe tbody tr th:only-of-type {\n",
       "        vertical-align: middle;\n",
       "    }\n",
       "\n",
       "    .dataframe tbody tr th {\n",
       "        vertical-align: top;\n",
       "    }\n",
       "\n",
       "    .dataframe thead th {\n",
       "        text-align: right;\n",
       "    }\n",
       "</style>\n",
       "<table border=\"1\" class=\"dataframe\">\n",
       "  <thead>\n",
       "    <tr style=\"text-align: right;\">\n",
       "      <th></th>\n",
       "      <th>year</th>\n",
       "      <th>price</th>\n",
       "      <th>mileage</th>\n",
       "      <th>fuelType</th>\n",
       "      <th>tax</th>\n",
       "      <th>mpg</th>\n",
       "      <th>engineSize</th>\n",
       "      <th>encoded_model</th>\n",
       "      <th>encoded_transmission</th>\n",
       "    </tr>\n",
       "  </thead>\n",
       "  <tbody>\n",
       "    <tr>\n",
       "      <th>0</th>\n",
       "      <td>2017</td>\n",
       "      <td>12000</td>\n",
       "      <td>15944</td>\n",
       "      <td>Petrol</td>\n",
       "      <td>150</td>\n",
       "      <td>57.7</td>\n",
       "      <td>1.0</td>\n",
       "      <td>5</td>\n",
       "      <td>0</td>\n",
       "    </tr>\n",
       "    <tr>\n",
       "      <th>1</th>\n",
       "      <td>2018</td>\n",
       "      <td>14000</td>\n",
       "      <td>9083</td>\n",
       "      <td>Petrol</td>\n",
       "      <td>150</td>\n",
       "      <td>57.7</td>\n",
       "      <td>1.0</td>\n",
       "      <td>6</td>\n",
       "      <td>1</td>\n",
       "    </tr>\n",
       "    <tr>\n",
       "      <th>2</th>\n",
       "      <td>2017</td>\n",
       "      <td>13000</td>\n",
       "      <td>12456</td>\n",
       "      <td>Petrol</td>\n",
       "      <td>150</td>\n",
       "      <td>57.7</td>\n",
       "      <td>1.0</td>\n",
       "      <td>6</td>\n",
       "      <td>1</td>\n",
       "    </tr>\n",
       "    <tr>\n",
       "      <th>3</th>\n",
       "      <td>2019</td>\n",
       "      <td>17500</td>\n",
       "      <td>10460</td>\n",
       "      <td>Petrol</td>\n",
       "      <td>145</td>\n",
       "      <td>40.3</td>\n",
       "      <td>1.5</td>\n",
       "      <td>5</td>\n",
       "      <td>1</td>\n",
       "    </tr>\n",
       "    <tr>\n",
       "      <th>4</th>\n",
       "      <td>2019</td>\n",
       "      <td>16500</td>\n",
       "      <td>1482</td>\n",
       "      <td>Petrol</td>\n",
       "      <td>145</td>\n",
       "      <td>48.7</td>\n",
       "      <td>1.0</td>\n",
       "      <td>5</td>\n",
       "      <td>0</td>\n",
       "    </tr>\n",
       "  </tbody>\n",
       "</table>\n",
       "</div>"
      ],
      "text/plain": [
       "   year  price  mileage fuelType  tax   mpg  engineSize  encoded_model  \\\n",
       "0  2017  12000    15944   Petrol  150  57.7         1.0              5   \n",
       "1  2018  14000     9083   Petrol  150  57.7         1.0              6   \n",
       "2  2017  13000    12456   Petrol  150  57.7         1.0              6   \n",
       "3  2019  17500    10460   Petrol  145  40.3         1.5              5   \n",
       "4  2019  16500     1482   Petrol  145  48.7         1.0              5   \n",
       "\n",
       "   encoded_transmission  \n",
       "0                     0  \n",
       "1                     1  \n",
       "2                     1  \n",
       "3                     1  \n",
       "4                     0  "
      ]
     },
     "execution_count": 34,
     "metadata": {},
     "output_type": "execute_result"
    }
   ],
   "source": [
    "df.head()"
   ]
  },
  {
   "cell_type": "code",
   "execution_count": 35,
   "id": "3a595a9f",
   "metadata": {
    "execution": {
     "iopub.execute_input": "2024-05-05T12:37:34.920791Z",
     "iopub.status.busy": "2024-05-05T12:37:34.920351Z",
     "iopub.status.idle": "2024-05-05T12:37:34.933199Z",
     "shell.execute_reply": "2024-05-05T12:37:34.931684Z"
    },
    "papermill": {
     "duration": 0.048203,
     "end_time": "2024-05-05T12:37:34.935764",
     "exception": false,
     "start_time": "2024-05-05T12:37:34.887561",
     "status": "completed"
    },
    "tags": []
   },
   "outputs": [],
   "source": [
    "fuelType = df['fuelType']\n",
    "\n",
    "encoded_fuelType = label_encoder.fit_transform(fuelType)\n",
    "\n",
    "df['encoded_fuelType'] = encoded_fuelType"
   ]
  },
  {
   "cell_type": "code",
   "execution_count": 36,
   "id": "0607309f",
   "metadata": {
    "execution": {
     "iopub.execute_input": "2024-05-05T12:37:34.998211Z",
     "iopub.status.busy": "2024-05-05T12:37:34.997754Z",
     "iopub.status.idle": "2024-05-05T12:37:35.005550Z",
     "shell.execute_reply": "2024-05-05T12:37:35.004233Z"
    },
    "papermill": {
     "duration": 0.042293,
     "end_time": "2024-05-05T12:37:35.008327",
     "exception": false,
     "start_time": "2024-05-05T12:37:34.966034",
     "status": "completed"
    },
    "tags": []
   },
   "outputs": [],
   "source": [
    "df.drop('fuelType', axis = 1, inplace = True)"
   ]
  },
  {
   "cell_type": "code",
   "execution_count": 37,
   "id": "ab5782d7",
   "metadata": {
    "execution": {
     "iopub.execute_input": "2024-05-05T12:37:35.071522Z",
     "iopub.status.busy": "2024-05-05T12:37:35.071100Z",
     "iopub.status.idle": "2024-05-05T12:37:35.087908Z",
     "shell.execute_reply": "2024-05-05T12:37:35.086411Z"
    },
    "papermill": {
     "duration": 0.051246,
     "end_time": "2024-05-05T12:37:35.090629",
     "exception": false,
     "start_time": "2024-05-05T12:37:35.039383",
     "status": "completed"
    },
    "tags": []
   },
   "outputs": [
    {
     "data": {
      "text/html": [
       "<div>\n",
       "<style scoped>\n",
       "    .dataframe tbody tr th:only-of-type {\n",
       "        vertical-align: middle;\n",
       "    }\n",
       "\n",
       "    .dataframe tbody tr th {\n",
       "        vertical-align: top;\n",
       "    }\n",
       "\n",
       "    .dataframe thead th {\n",
       "        text-align: right;\n",
       "    }\n",
       "</style>\n",
       "<table border=\"1\" class=\"dataframe\">\n",
       "  <thead>\n",
       "    <tr style=\"text-align: right;\">\n",
       "      <th></th>\n",
       "      <th>year</th>\n",
       "      <th>price</th>\n",
       "      <th>mileage</th>\n",
       "      <th>tax</th>\n",
       "      <th>mpg</th>\n",
       "      <th>engineSize</th>\n",
       "      <th>encoded_model</th>\n",
       "      <th>encoded_transmission</th>\n",
       "      <th>encoded_fuelType</th>\n",
       "    </tr>\n",
       "  </thead>\n",
       "  <tbody>\n",
       "    <tr>\n",
       "      <th>0</th>\n",
       "      <td>2017</td>\n",
       "      <td>12000</td>\n",
       "      <td>15944</td>\n",
       "      <td>150</td>\n",
       "      <td>57.7</td>\n",
       "      <td>1.0</td>\n",
       "      <td>5</td>\n",
       "      <td>0</td>\n",
       "      <td>4</td>\n",
       "    </tr>\n",
       "    <tr>\n",
       "      <th>1</th>\n",
       "      <td>2018</td>\n",
       "      <td>14000</td>\n",
       "      <td>9083</td>\n",
       "      <td>150</td>\n",
       "      <td>57.7</td>\n",
       "      <td>1.0</td>\n",
       "      <td>6</td>\n",
       "      <td>1</td>\n",
       "      <td>4</td>\n",
       "    </tr>\n",
       "    <tr>\n",
       "      <th>2</th>\n",
       "      <td>2017</td>\n",
       "      <td>13000</td>\n",
       "      <td>12456</td>\n",
       "      <td>150</td>\n",
       "      <td>57.7</td>\n",
       "      <td>1.0</td>\n",
       "      <td>6</td>\n",
       "      <td>1</td>\n",
       "      <td>4</td>\n",
       "    </tr>\n",
       "    <tr>\n",
       "      <th>3</th>\n",
       "      <td>2019</td>\n",
       "      <td>17500</td>\n",
       "      <td>10460</td>\n",
       "      <td>145</td>\n",
       "      <td>40.3</td>\n",
       "      <td>1.5</td>\n",
       "      <td>5</td>\n",
       "      <td>1</td>\n",
       "      <td>4</td>\n",
       "    </tr>\n",
       "    <tr>\n",
       "      <th>4</th>\n",
       "      <td>2019</td>\n",
       "      <td>16500</td>\n",
       "      <td>1482</td>\n",
       "      <td>145</td>\n",
       "      <td>48.7</td>\n",
       "      <td>1.0</td>\n",
       "      <td>5</td>\n",
       "      <td>0</td>\n",
       "      <td>4</td>\n",
       "    </tr>\n",
       "  </tbody>\n",
       "</table>\n",
       "</div>"
      ],
      "text/plain": [
       "   year  price  mileage  tax   mpg  engineSize  encoded_model  \\\n",
       "0  2017  12000    15944  150  57.7         1.0              5   \n",
       "1  2018  14000     9083  150  57.7         1.0              6   \n",
       "2  2017  13000    12456  150  57.7         1.0              6   \n",
       "3  2019  17500    10460  145  40.3         1.5              5   \n",
       "4  2019  16500     1482  145  48.7         1.0              5   \n",
       "\n",
       "   encoded_transmission  encoded_fuelType  \n",
       "0                     0                 4  \n",
       "1                     1                 4  \n",
       "2                     1                 4  \n",
       "3                     1                 4  \n",
       "4                     0                 4  "
      ]
     },
     "execution_count": 37,
     "metadata": {},
     "output_type": "execute_result"
    }
   ],
   "source": [
    "df.head()"
   ]
  },
  {
   "cell_type": "code",
   "execution_count": 38,
   "id": "2d8c31e0",
   "metadata": {
    "execution": {
     "iopub.execute_input": "2024-05-05T12:37:35.153806Z",
     "iopub.status.busy": "2024-05-05T12:37:35.153423Z",
     "iopub.status.idle": "2024-05-05T12:37:35.179431Z",
     "shell.execute_reply": "2024-05-05T12:37:35.177979Z"
    },
    "papermill": {
     "duration": 0.061229,
     "end_time": "2024-05-05T12:37:35.182377",
     "exception": false,
     "start_time": "2024-05-05T12:37:35.121148",
     "status": "completed"
    },
    "tags": []
   },
   "outputs": [
    {
     "data": {
      "text/html": [
       "<div>\n",
       "<style scoped>\n",
       "    .dataframe tbody tr th:only-of-type {\n",
       "        vertical-align: middle;\n",
       "    }\n",
       "\n",
       "    .dataframe tbody tr th {\n",
       "        vertical-align: top;\n",
       "    }\n",
       "\n",
       "    .dataframe thead th {\n",
       "        text-align: right;\n",
       "    }\n",
       "</style>\n",
       "<table border=\"1\" class=\"dataframe\">\n",
       "  <thead>\n",
       "    <tr style=\"text-align: right;\">\n",
       "      <th></th>\n",
       "      <th>year</th>\n",
       "      <th>price</th>\n",
       "      <th>mileage</th>\n",
       "      <th>tax</th>\n",
       "      <th>mpg</th>\n",
       "      <th>engineSize</th>\n",
       "      <th>encoded_model</th>\n",
       "      <th>encoded_transmission</th>\n",
       "      <th>encoded_fuelType</th>\n",
       "    </tr>\n",
       "  </thead>\n",
       "  <tbody>\n",
       "    <tr>\n",
       "      <th>year</th>\n",
       "      <td>1.000000</td>\n",
       "      <td>0.645236</td>\n",
       "      <td>-0.719636</td>\n",
       "      <td>0.299192</td>\n",
       "      <td>-0.020195</td>\n",
       "      <td>-0.139458</td>\n",
       "      <td>0.031419</td>\n",
       "      <td>-0.014566</td>\n",
       "      <td>0.088444</td>\n",
       "    </tr>\n",
       "    <tr>\n",
       "      <th>price</th>\n",
       "      <td>0.645236</td>\n",
       "      <td>1.000000</td>\n",
       "      <td>-0.530433</td>\n",
       "      <td>0.406112</td>\n",
       "      <td>-0.346401</td>\n",
       "      <td>0.411476</td>\n",
       "      <td>0.316099</td>\n",
       "      <td>-0.058800</td>\n",
       "      <td>-0.201938</td>\n",
       "    </tr>\n",
       "    <tr>\n",
       "      <th>mileage</th>\n",
       "      <td>-0.719636</td>\n",
       "      <td>-0.530433</td>\n",
       "      <td>1.000000</td>\n",
       "      <td>-0.257712</td>\n",
       "      <td>0.117849</td>\n",
       "      <td>0.214698</td>\n",
       "      <td>0.076776</td>\n",
       "      <td>0.017233</td>\n",
       "      <td>-0.257353</td>\n",
       "    </tr>\n",
       "    <tr>\n",
       "      <th>tax</th>\n",
       "      <td>0.299192</td>\n",
       "      <td>0.406112</td>\n",
       "      <td>-0.257712</td>\n",
       "      <td>1.000000</td>\n",
       "      <td>-0.502282</td>\n",
       "      <td>0.185360</td>\n",
       "      <td>0.185237</td>\n",
       "      <td>-0.053207</td>\n",
       "      <td>0.129170</td>\n",
       "    </tr>\n",
       "    <tr>\n",
       "      <th>mpg</th>\n",
       "      <td>-0.020195</td>\n",
       "      <td>-0.346401</td>\n",
       "      <td>0.117849</td>\n",
       "      <td>-0.502282</td>\n",
       "      <td>1.000000</td>\n",
       "      <td>-0.262246</td>\n",
       "      <td>-0.224528</td>\n",
       "      <td>0.056083</td>\n",
       "      <td>-0.297105</td>\n",
       "    </tr>\n",
       "    <tr>\n",
       "      <th>engineSize</th>\n",
       "      <td>-0.139458</td>\n",
       "      <td>0.411476</td>\n",
       "      <td>0.214698</td>\n",
       "      <td>0.185360</td>\n",
       "      <td>-0.262246</td>\n",
       "      <td>1.000000</td>\n",
       "      <td>0.499679</td>\n",
       "      <td>-0.026222</td>\n",
       "      <td>-0.643434</td>\n",
       "    </tr>\n",
       "    <tr>\n",
       "      <th>encoded_model</th>\n",
       "      <td>0.031419</td>\n",
       "      <td>0.316099</td>\n",
       "      <td>0.076776</td>\n",
       "      <td>0.185237</td>\n",
       "      <td>-0.224528</td>\n",
       "      <td>0.499679</td>\n",
       "      <td>1.000000</td>\n",
       "      <td>-0.064771</td>\n",
       "      <td>-0.387281</td>\n",
       "    </tr>\n",
       "    <tr>\n",
       "      <th>encoded_transmission</th>\n",
       "      <td>-0.014566</td>\n",
       "      <td>-0.058800</td>\n",
       "      <td>0.017233</td>\n",
       "      <td>-0.053207</td>\n",
       "      <td>0.056083</td>\n",
       "      <td>-0.026222</td>\n",
       "      <td>-0.064771</td>\n",
       "      <td>1.000000</td>\n",
       "      <td>-0.005223</td>\n",
       "    </tr>\n",
       "    <tr>\n",
       "      <th>encoded_fuelType</th>\n",
       "      <td>0.088444</td>\n",
       "      <td>-0.201938</td>\n",
       "      <td>-0.257353</td>\n",
       "      <td>0.129170</td>\n",
       "      <td>-0.297105</td>\n",
       "      <td>-0.643434</td>\n",
       "      <td>-0.387281</td>\n",
       "      <td>-0.005223</td>\n",
       "      <td>1.000000</td>\n",
       "    </tr>\n",
       "  </tbody>\n",
       "</table>\n",
       "</div>"
      ],
      "text/plain": [
       "                          year     price   mileage       tax       mpg  \\\n",
       "year                  1.000000  0.645236 -0.719636  0.299192 -0.020195   \n",
       "price                 0.645236  1.000000 -0.530433  0.406112 -0.346401   \n",
       "mileage              -0.719636 -0.530433  1.000000 -0.257712  0.117849   \n",
       "tax                   0.299192  0.406112 -0.257712  1.000000 -0.502282   \n",
       "mpg                  -0.020195 -0.346401  0.117849 -0.502282  1.000000   \n",
       "engineSize           -0.139458  0.411476  0.214698  0.185360 -0.262246   \n",
       "encoded_model         0.031419  0.316099  0.076776  0.185237 -0.224528   \n",
       "encoded_transmission -0.014566 -0.058800  0.017233 -0.053207  0.056083   \n",
       "encoded_fuelType      0.088444 -0.201938 -0.257353  0.129170 -0.297105   \n",
       "\n",
       "                      engineSize  encoded_model  encoded_transmission  \\\n",
       "year                   -0.139458       0.031419             -0.014566   \n",
       "price                   0.411476       0.316099             -0.058800   \n",
       "mileage                 0.214698       0.076776              0.017233   \n",
       "tax                     0.185360       0.185237             -0.053207   \n",
       "mpg                    -0.262246      -0.224528              0.056083   \n",
       "engineSize              1.000000       0.499679             -0.026222   \n",
       "encoded_model           0.499679       1.000000             -0.064771   \n",
       "encoded_transmission   -0.026222      -0.064771              1.000000   \n",
       "encoded_fuelType       -0.643434      -0.387281             -0.005223   \n",
       "\n",
       "                      encoded_fuelType  \n",
       "year                          0.088444  \n",
       "price                        -0.201938  \n",
       "mileage                      -0.257353  \n",
       "tax                           0.129170  \n",
       "mpg                          -0.297105  \n",
       "engineSize                   -0.643434  \n",
       "encoded_model                -0.387281  \n",
       "encoded_transmission         -0.005223  \n",
       "encoded_fuelType              1.000000  "
      ]
     },
     "execution_count": 38,
     "metadata": {},
     "output_type": "execute_result"
    }
   ],
   "source": [
    "df.corr()"
   ]
  },
  {
   "cell_type": "code",
   "execution_count": 39,
   "id": "4e3b2f0e",
   "metadata": {
    "execution": {
     "iopub.execute_input": "2024-05-05T12:37:35.246970Z",
     "iopub.status.busy": "2024-05-05T12:37:35.246534Z",
     "iopub.status.idle": "2024-05-05T12:37:35.262486Z",
     "shell.execute_reply": "2024-05-05T12:37:35.261231Z"
    },
    "papermill": {
     "duration": 0.051914,
     "end_time": "2024-05-05T12:37:35.265514",
     "exception": false,
     "start_time": "2024-05-05T12:37:35.213600",
     "status": "completed"
    },
    "tags": []
   },
   "outputs": [
    {
     "data": {
      "text/plain": [
       "mileage                -0.530433\n",
       "mpg                    -0.346401\n",
       "encoded_fuelType       -0.201938\n",
       "encoded_transmission   -0.058800\n",
       "encoded_model           0.316099\n",
       "tax                     0.406112\n",
       "engineSize              0.411476\n",
       "year                    0.645236\n",
       "price                   1.000000\n",
       "Name: price, dtype: float64"
      ]
     },
     "execution_count": 39,
     "metadata": {},
     "output_type": "execute_result"
    }
   ],
   "source": [
    "df.corr()['price'].sort_values()"
   ]
  },
  {
   "cell_type": "code",
   "execution_count": 40,
   "id": "9b1cb171",
   "metadata": {
    "execution": {
     "iopub.execute_input": "2024-05-05T12:37:35.330874Z",
     "iopub.status.busy": "2024-05-05T12:37:35.330445Z",
     "iopub.status.idle": "2024-05-05T12:37:36.681619Z",
     "shell.execute_reply": "2024-05-05T12:37:36.680462Z"
    },
    "papermill": {
     "duration": 1.388156,
     "end_time": "2024-05-05T12:37:36.685419",
     "exception": false,
     "start_time": "2024-05-05T12:37:35.297263",
     "status": "completed"
    },
    "tags": []
   },
   "outputs": [
    {
     "data": {
      "image/png": "[encoded data removed]",
      "text/plain": [
       "<Figure size 2000x1200 with 2 Axes>"
      ]
     },
     "metadata": {},
     "output_type": "display_data"
    }
   ],
   "source": [
    "plt.figure(figsize=(20,12)) \n",
    "heatmap = plt.imshow(df.corr(), cmap='RdBu_r', interpolation='nearest')  \n",
    "plt.colorbar(heatmap) \n",
    "plt.xticks(ticks=np.arange(len(df.columns)), labels=df.columns, rotation=45) \n",
    "plt.yticks(ticks=np.arange(len(df.columns)), labels=df.columns)  \n",
    "plt.title('Correlation Matrix') \n",
    "\n",
    "\n",
    "for i in range(len(df.columns)):\n",
    "    for j in range(len(df.columns)):\n",
    "        plt.text(j, i, round(df.corr().iloc[i, j], 2), ha='center', va='center', color='black')\n",
    "\n"
   ]
  },
  {
   "cell_type": "code",
   "execution_count": 41,
   "id": "ca8519e4",
   "metadata": {
    "execution": {
     "iopub.execute_input": "2024-05-05T12:37:36.755045Z",
     "iopub.status.busy": "2024-05-05T12:37:36.754566Z",
     "iopub.status.idle": "2024-05-05T12:37:37.142716Z",
     "shell.execute_reply": "2024-05-05T12:37:37.141376Z"
    },
    "papermill": {
     "duration": 0.425506,
     "end_time": "2024-05-05T12:37:37.145247",
     "exception": false,
     "start_time": "2024-05-05T12:37:36.719741",
     "status": "completed"
    },
    "tags": []
   },
   "outputs": [
    {
     "data": {
      "text/plain": [
       "<Axes: xlabel='mileage', ylabel='price'>"
      ]
     },
     "execution_count": 41,
     "metadata": {},
     "output_type": "execute_result"
    },
    {
     "data": {
      "image/png": "[encoded data removed]",
      "text/plain": [
       "<Figure size 640x480 with 1 Axes>"
      ]
     },
     "metadata": {},
     "output_type": "display_data"
    }
   ],
   "source": [
    "sns.scatterplot(data = df, x = 'mileage', y= 'price')"
   ]
  },
  {
   "cell_type": "code",
   "execution_count": 42,
   "id": "1e4124b0",
   "metadata": {
    "execution": {
     "iopub.execute_input": "2024-05-05T12:37:37.214901Z",
     "iopub.status.busy": "2024-05-05T12:37:37.213995Z",
     "iopub.status.idle": "2024-05-05T12:37:37.241590Z",
     "shell.execute_reply": "2024-05-05T12:37:37.240134Z"
    },
    "papermill": {
     "duration": 0.065893,
     "end_time": "2024-05-05T12:37:37.244419",
     "exception": false,
     "start_time": "2024-05-05T12:37:37.178526",
     "status": "completed"
    },
    "tags": []
   },
   "outputs": [
    {
     "data": {
      "text/html": [
       "<div>\n",
       "<style scoped>\n",
       "    .dataframe tbody tr th:only-of-type {\n",
       "        vertical-align: middle;\n",
       "    }\n",
       "\n",
       "    .dataframe tbody tr th {\n",
       "        vertical-align: top;\n",
       "    }\n",
       "\n",
       "    .dataframe thead th {\n",
       "        text-align: right;\n",
       "    }\n",
       "</style>\n",
       "<table border=\"1\" class=\"dataframe\">\n",
       "  <thead>\n",
       "    <tr style=\"text-align: right;\">\n",
       "      <th></th>\n",
       "      <th>year</th>\n",
       "      <th>price</th>\n",
       "      <th>mileage</th>\n",
       "      <th>tax</th>\n",
       "      <th>mpg</th>\n",
       "      <th>engineSize</th>\n",
       "      <th>encoded_model</th>\n",
       "      <th>encoded_transmission</th>\n",
       "      <th>encoded_fuelType</th>\n",
       "    </tr>\n",
       "  </thead>\n",
       "  <tbody>\n",
       "    <tr>\n",
       "      <th>11912</th>\n",
       "      <td>2018</td>\n",
       "      <td>54995</td>\n",
       "      <td>11000</td>\n",
       "      <td>145</td>\n",
       "      <td>36.7</td>\n",
       "      <td>2.3</td>\n",
       "      <td>6</td>\n",
       "      <td>1</td>\n",
       "      <td>4</td>\n",
       "    </tr>\n",
       "    <tr>\n",
       "      <th>11913</th>\n",
       "      <td>2017</td>\n",
       "      <td>49999</td>\n",
       "      <td>21575</td>\n",
       "      <td>145</td>\n",
       "      <td>20.9</td>\n",
       "      <td>5.0</td>\n",
       "      <td>15</td>\n",
       "      <td>1</td>\n",
       "      <td>4</td>\n",
       "    </tr>\n",
       "    <tr>\n",
       "      <th>11910</th>\n",
       "      <td>2017</td>\n",
       "      <td>48999</td>\n",
       "      <td>7546</td>\n",
       "      <td>145</td>\n",
       "      <td>23.5</td>\n",
       "      <td>5.0</td>\n",
       "      <td>15</td>\n",
       "      <td>0</td>\n",
       "      <td>4</td>\n",
       "    </tr>\n",
       "    <tr>\n",
       "      <th>17866</th>\n",
       "      <td>2020</td>\n",
       "      <td>48000</td>\n",
       "      <td>50</td>\n",
       "      <td>145</td>\n",
       "      <td>23.9</td>\n",
       "      <td>5.0</td>\n",
       "      <td>15</td>\n",
       "      <td>1</td>\n",
       "      <td>4</td>\n",
       "    </tr>\n",
       "    <tr>\n",
       "      <th>12613</th>\n",
       "      <td>2019</td>\n",
       "      <td>45250</td>\n",
       "      <td>2500</td>\n",
       "      <td>145</td>\n",
       "      <td>22.1</td>\n",
       "      <td>5.0</td>\n",
       "      <td>15</td>\n",
       "      <td>0</td>\n",
       "      <td>4</td>\n",
       "    </tr>\n",
       "    <tr>\n",
       "      <th>10901</th>\n",
       "      <td>2020</td>\n",
       "      <td>42999</td>\n",
       "      <td>10</td>\n",
       "      <td>145</td>\n",
       "      <td>23.7</td>\n",
       "      <td>5.0</td>\n",
       "      <td>15</td>\n",
       "      <td>1</td>\n",
       "      <td>4</td>\n",
       "    </tr>\n",
       "    <tr>\n",
       "      <th>12996</th>\n",
       "      <td>2019</td>\n",
       "      <td>42500</td>\n",
       "      <td>226</td>\n",
       "      <td>145</td>\n",
       "      <td>22.1</td>\n",
       "      <td>5.0</td>\n",
       "      <td>15</td>\n",
       "      <td>0</td>\n",
       "      <td>4</td>\n",
       "    </tr>\n",
       "    <tr>\n",
       "      <th>302</th>\n",
       "      <td>2020</td>\n",
       "      <td>42489</td>\n",
       "      <td>3500</td>\n",
       "      <td>145</td>\n",
       "      <td>22.1</td>\n",
       "      <td>5.0</td>\n",
       "      <td>15</td>\n",
       "      <td>0</td>\n",
       "      <td>4</td>\n",
       "    </tr>\n",
       "    <tr>\n",
       "      <th>13431</th>\n",
       "      <td>2019</td>\n",
       "      <td>42000</td>\n",
       "      <td>756</td>\n",
       "      <td>150</td>\n",
       "      <td>22.6</td>\n",
       "      <td>5.0</td>\n",
       "      <td>15</td>\n",
       "      <td>2</td>\n",
       "      <td>4</td>\n",
       "    </tr>\n",
       "    <tr>\n",
       "      <th>12600</th>\n",
       "      <td>2020</td>\n",
       "      <td>41000</td>\n",
       "      <td>100</td>\n",
       "      <td>145</td>\n",
       "      <td>22.8</td>\n",
       "      <td>5.0</td>\n",
       "      <td>15</td>\n",
       "      <td>1</td>\n",
       "      <td>4</td>\n",
       "    </tr>\n",
       "    <tr>\n",
       "      <th>9695</th>\n",
       "      <td>2019</td>\n",
       "      <td>41000</td>\n",
       "      <td>678</td>\n",
       "      <td>145</td>\n",
       "      <td>22.1</td>\n",
       "      <td>5.0</td>\n",
       "      <td>15</td>\n",
       "      <td>2</td>\n",
       "      <td>4</td>\n",
       "    </tr>\n",
       "    <tr>\n",
       "      <th>10736</th>\n",
       "      <td>2019</td>\n",
       "      <td>40495</td>\n",
       "      <td>2000</td>\n",
       "      <td>145</td>\n",
       "      <td>22.1</td>\n",
       "      <td>5.0</td>\n",
       "      <td>15</td>\n",
       "      <td>0</td>\n",
       "      <td>4</td>\n",
       "    </tr>\n",
       "    <tr>\n",
       "      <th>7164</th>\n",
       "      <td>2020</td>\n",
       "      <td>40495</td>\n",
       "      <td>3200</td>\n",
       "      <td>145</td>\n",
       "      <td>24.8</td>\n",
       "      <td>5.0</td>\n",
       "      <td>15</td>\n",
       "      <td>2</td>\n",
       "      <td>4</td>\n",
       "    </tr>\n",
       "    <tr>\n",
       "      <th>10670</th>\n",
       "      <td>2019</td>\n",
       "      <td>40000</td>\n",
       "      <td>813</td>\n",
       "      <td>145</td>\n",
       "      <td>22.8</td>\n",
       "      <td>5.0</td>\n",
       "      <td>15</td>\n",
       "      <td>1</td>\n",
       "      <td>4</td>\n",
       "    </tr>\n",
       "    <tr>\n",
       "      <th>387</th>\n",
       "      <td>2019</td>\n",
       "      <td>39998</td>\n",
       "      <td>5000</td>\n",
       "      <td>145</td>\n",
       "      <td>22.6</td>\n",
       "      <td>5.0</td>\n",
       "      <td>15</td>\n",
       "      <td>0</td>\n",
       "      <td>4</td>\n",
       "    </tr>\n",
       "    <tr>\n",
       "      <th>17304</th>\n",
       "      <td>2019</td>\n",
       "      <td>39995</td>\n",
       "      <td>800</td>\n",
       "      <td>145</td>\n",
       "      <td>22.1</td>\n",
       "      <td>5.0</td>\n",
       "      <td>15</td>\n",
       "      <td>0</td>\n",
       "      <td>4</td>\n",
       "    </tr>\n",
       "    <tr>\n",
       "      <th>2264</th>\n",
       "      <td>2020</td>\n",
       "      <td>39990</td>\n",
       "      <td>691</td>\n",
       "      <td>145</td>\n",
       "      <td>22.1</td>\n",
       "      <td>5.0</td>\n",
       "      <td>15</td>\n",
       "      <td>2</td>\n",
       "      <td>4</td>\n",
       "    </tr>\n",
       "    <tr>\n",
       "      <th>339</th>\n",
       "      <td>2020</td>\n",
       "      <td>38489</td>\n",
       "      <td>3500</td>\n",
       "      <td>145</td>\n",
       "      <td>30.7</td>\n",
       "      <td>2.3</td>\n",
       "      <td>15</td>\n",
       "      <td>0</td>\n",
       "      <td>4</td>\n",
       "    </tr>\n",
       "    <tr>\n",
       "      <th>1039</th>\n",
       "      <td>2017</td>\n",
       "      <td>38015</td>\n",
       "      <td>197</td>\n",
       "      <td>145</td>\n",
       "      <td>74.3</td>\n",
       "      <td>1.5</td>\n",
       "      <td>6</td>\n",
       "      <td>1</td>\n",
       "      <td>0</td>\n",
       "    </tr>\n",
       "    <tr>\n",
       "      <th>9462</th>\n",
       "      <td>2019</td>\n",
       "      <td>38000</td>\n",
       "      <td>1780</td>\n",
       "      <td>145</td>\n",
       "      <td>22.1</td>\n",
       "      <td>5.0</td>\n",
       "      <td>15</td>\n",
       "      <td>2</td>\n",
       "      <td>4</td>\n",
       "    </tr>\n",
       "  </tbody>\n",
       "</table>\n",
       "</div>"
      ],
      "text/plain": [
       "       year  price  mileage  tax   mpg  engineSize  encoded_model  \\\n",
       "11912  2018  54995    11000  145  36.7         2.3              6   \n",
       "11913  2017  49999    21575  145  20.9         5.0             15   \n",
       "11910  2017  48999     7546  145  23.5         5.0             15   \n",
       "17866  2020  48000       50  145  23.9         5.0             15   \n",
       "12613  2019  45250     2500  145  22.1         5.0             15   \n",
       "10901  2020  42999       10  145  23.7         5.0             15   \n",
       "12996  2019  42500      226  145  22.1         5.0             15   \n",
       "302    2020  42489     3500  145  22.1         5.0             15   \n",
       "13431  2019  42000      756  150  22.6         5.0             15   \n",
       "12600  2020  41000      100  145  22.8         5.0             15   \n",
       "9695   2019  41000      678  145  22.1         5.0             15   \n",
       "10736  2019  40495     2000  145  22.1         5.0             15   \n",
       "7164   2020  40495     3200  145  24.8         5.0             15   \n",
       "10670  2019  40000      813  145  22.8         5.0             15   \n",
       "387    2019  39998     5000  145  22.6         5.0             15   \n",
       "17304  2019  39995      800  145  22.1         5.0             15   \n",
       "2264   2020  39990      691  145  22.1         5.0             15   \n",
       "339    2020  38489     3500  145  30.7         2.3             15   \n",
       "1039   2017  38015      197  145  74.3         1.5              6   \n",
       "9462   2019  38000     1780  145  22.1         5.0             15   \n",
       "\n",
       "       encoded_transmission  encoded_fuelType  \n",
       "11912                     1                 4  \n",
       "11913                     1                 4  \n",
       "11910                     0                 4  \n",
       "17866                     1                 4  \n",
       "12613                     0                 4  \n",
       "10901                     1                 4  \n",
       "12996                     0                 4  \n",
       "302                       0                 4  \n",
       "13431                     2                 4  \n",
       "12600                     1                 4  \n",
       "9695                      2                 4  \n",
       "10736                     0                 4  \n",
       "7164                      2                 4  \n",
       "10670                     1                 4  \n",
       "387                       0                 4  \n",
       "17304                     0                 4  \n",
       "2264                      2                 4  \n",
       "339                       0                 4  \n",
       "1039                      1                 0  \n",
       "9462                      2                 4  "
      ]
     },
     "execution_count": 42,
     "metadata": {},
     "output_type": "execute_result"
    }
   ],
   "source": [
    "df.sort_values(\"price\", ascending = False).head(20) "
   ]
  },
  {
   "cell_type": "code",
   "execution_count": 43,
   "id": "357ff1a0",
   "metadata": {
    "execution": {
     "iopub.execute_input": "2024-05-05T12:37:37.315409Z",
     "iopub.status.busy": "2024-05-05T12:37:37.314945Z",
     "iopub.status.idle": "2024-05-05T12:37:37.885977Z",
     "shell.execute_reply": "2024-05-05T12:37:37.884637Z"
    },
    "papermill": {
     "duration": 0.609752,
     "end_time": "2024-05-05T12:37:37.888710",
     "exception": false,
     "start_time": "2024-05-05T12:37:37.278958",
     "status": "completed"
    },
    "tags": []
   },
   "outputs": [
    {
     "data": {
      "image/png": "[encoded data removed]",
      "text/plain": [
       "<Figure size 2000x400 with 2 Axes>"
      ]
     },
     "metadata": {},
     "output_type": "display_data"
    },
    {
     "data": {
      "image/png": "[encoded data removed]",
      "text/plain": [
       "<Figure size 2000x400 with 1 Axes>"
      ]
     },
     "metadata": {},
     "output_type": "display_data"
    }
   ],
   "source": [
    "numerical = ['price','mileage',\t'tax']\n",
    "\n",
    "for i in range(0, len(numerical), 2):  \n",
    "    plt.figure(figsize=(20, 4))\n",
    "    \n",
    "    plt.subplot(1, 2, 1)\n",
    "    sns.boxplot(x=numerical[i], data=df)\n",
    "    \n",
    "    if i + 1 < len(numerical): \n",
    "        plt.subplot(1, 2, 2)\n",
    "        sns.boxplot(x=numerical[i + 1], data=df)\n",
    "    \n",
    "    plt.show()"
   ]
  },
  {
   "cell_type": "code",
   "execution_count": 44,
   "id": "e4134ecc",
   "metadata": {
    "execution": {
     "iopub.execute_input": "2024-05-05T12:37:37.960938Z",
     "iopub.status.busy": "2024-05-05T12:37:37.960444Z",
     "iopub.status.idle": "2024-05-05T12:37:37.982885Z",
     "shell.execute_reply": "2024-05-05T12:37:37.981302Z"
    },
    "papermill": {
     "duration": 0.061937,
     "end_time": "2024-05-05T12:37:37.985625",
     "exception": false,
     "start_time": "2024-05-05T12:37:37.923688",
     "status": "completed"
    },
    "tags": []
   },
   "outputs": [
    {
     "data": {
      "text/html": [
       "<div>\n",
       "<style scoped>\n",
       "    .dataframe tbody tr th:only-of-type {\n",
       "        vertical-align: middle;\n",
       "    }\n",
       "\n",
       "    .dataframe tbody tr th {\n",
       "        vertical-align: top;\n",
       "    }\n",
       "\n",
       "    .dataframe thead th {\n",
       "        text-align: right;\n",
       "    }\n",
       "</style>\n",
       "<table border=\"1\" class=\"dataframe\">\n",
       "  <thead>\n",
       "    <tr style=\"text-align: right;\">\n",
       "      <th></th>\n",
       "      <th>year</th>\n",
       "      <th>price</th>\n",
       "      <th>mileage</th>\n",
       "      <th>tax</th>\n",
       "      <th>mpg</th>\n",
       "      <th>engineSize</th>\n",
       "      <th>encoded_model</th>\n",
       "      <th>encoded_transmission</th>\n",
       "      <th>encoded_fuelType</th>\n",
       "    </tr>\n",
       "  </thead>\n",
       "  <tbody>\n",
       "    <tr>\n",
       "      <th>0</th>\n",
       "      <td>2017</td>\n",
       "      <td>12000</td>\n",
       "      <td>15944</td>\n",
       "      <td>150</td>\n",
       "      <td>57.7</td>\n",
       "      <td>1.0</td>\n",
       "      <td>5</td>\n",
       "      <td>0</td>\n",
       "      <td>4</td>\n",
       "    </tr>\n",
       "    <tr>\n",
       "      <th>1</th>\n",
       "      <td>2018</td>\n",
       "      <td>14000</td>\n",
       "      <td>9083</td>\n",
       "      <td>150</td>\n",
       "      <td>57.7</td>\n",
       "      <td>1.0</td>\n",
       "      <td>6</td>\n",
       "      <td>1</td>\n",
       "      <td>4</td>\n",
       "    </tr>\n",
       "    <tr>\n",
       "      <th>2</th>\n",
       "      <td>2017</td>\n",
       "      <td>13000</td>\n",
       "      <td>12456</td>\n",
       "      <td>150</td>\n",
       "      <td>57.7</td>\n",
       "      <td>1.0</td>\n",
       "      <td>6</td>\n",
       "      <td>1</td>\n",
       "      <td>4</td>\n",
       "    </tr>\n",
       "    <tr>\n",
       "      <th>3</th>\n",
       "      <td>2019</td>\n",
       "      <td>17500</td>\n",
       "      <td>10460</td>\n",
       "      <td>145</td>\n",
       "      <td>40.3</td>\n",
       "      <td>1.5</td>\n",
       "      <td>5</td>\n",
       "      <td>1</td>\n",
       "      <td>4</td>\n",
       "    </tr>\n",
       "    <tr>\n",
       "      <th>4</th>\n",
       "      <td>2019</td>\n",
       "      <td>16500</td>\n",
       "      <td>1482</td>\n",
       "      <td>145</td>\n",
       "      <td>48.7</td>\n",
       "      <td>1.0</td>\n",
       "      <td>5</td>\n",
       "      <td>0</td>\n",
       "      <td>4</td>\n",
       "    </tr>\n",
       "  </tbody>\n",
       "</table>\n",
       "</div>"
      ],
      "text/plain": [
       "   year  price  mileage  tax   mpg  engineSize  encoded_model  \\\n",
       "0  2017  12000    15944  150  57.7         1.0              5   \n",
       "1  2018  14000     9083  150  57.7         1.0              6   \n",
       "2  2017  13000    12456  150  57.7         1.0              6   \n",
       "3  2019  17500    10460  145  40.3         1.5              5   \n",
       "4  2019  16500     1482  145  48.7         1.0              5   \n",
       "\n",
       "   encoded_transmission  encoded_fuelType  \n",
       "0                     0                 4  \n",
       "1                     1                 4  \n",
       "2                     1                 4  \n",
       "3                     1                 4  \n",
       "4                     0                 4  "
      ]
     },
     "execution_count": 44,
     "metadata": {},
     "output_type": "execute_result"
    }
   ],
   "source": [
    "std_dev = df['price'].std()\n",
    "mean = df['price'].mean()\n",
    "\n",
    "\n",
    "lower_limit = mean - 3 * std_dev  \n",
    "upper_limit = mean + 3 * std_dev  \n",
    "\n",
    "\n",
    "filtered_df = df[(df['price'] >= lower_limit) & (df['price'] <= upper_limit)]\n",
    "\n",
    "filtered_df.head()"
   ]
  },
  {
   "cell_type": "code",
   "execution_count": 45,
   "id": "da25aa52",
   "metadata": {
    "execution": {
     "iopub.execute_input": "2024-05-05T12:37:38.059661Z",
     "iopub.status.busy": "2024-05-05T12:37:38.059180Z",
     "iopub.status.idle": "2024-05-05T12:37:38.104930Z",
     "shell.execute_reply": "2024-05-05T12:37:38.103451Z"
    },
    "papermill": {
     "duration": 0.085691,
     "end_time": "2024-05-05T12:37:38.107657",
     "exception": false,
     "start_time": "2024-05-05T12:37:38.021966",
     "status": "completed"
    },
    "tags": []
   },
   "outputs": [
    {
     "data": {
      "text/html": [
       "<div>\n",
       "<style scoped>\n",
       "    .dataframe tbody tr th:only-of-type {\n",
       "        vertical-align: middle;\n",
       "    }\n",
       "\n",
       "    .dataframe tbody tr th {\n",
       "        vertical-align: top;\n",
       "    }\n",
       "\n",
       "    .dataframe thead th {\n",
       "        text-align: right;\n",
       "    }\n",
       "</style>\n",
       "<table border=\"1\" class=\"dataframe\">\n",
       "  <thead>\n",
       "    <tr style=\"text-align: right;\">\n",
       "      <th></th>\n",
       "      <th>year</th>\n",
       "      <th>price</th>\n",
       "      <th>mileage</th>\n",
       "      <th>tax</th>\n",
       "      <th>mpg</th>\n",
       "      <th>engineSize</th>\n",
       "      <th>encoded_model</th>\n",
       "      <th>encoded_transmission</th>\n",
       "      <th>encoded_fuelType</th>\n",
       "    </tr>\n",
       "  </thead>\n",
       "  <tbody>\n",
       "    <tr>\n",
       "      <th>count</th>\n",
       "      <td>17635.000000</td>\n",
       "      <td>17635.000000</td>\n",
       "      <td>17635.000000</td>\n",
       "      <td>17635.000000</td>\n",
       "      <td>17635.000000</td>\n",
       "      <td>17635.000000</td>\n",
       "      <td>17635.000000</td>\n",
       "      <td>17635.000000</td>\n",
       "      <td>17635.000000</td>\n",
       "    </tr>\n",
       "    <tr>\n",
       "      <th>mean</th>\n",
       "      <td>2016.840885</td>\n",
       "      <td>12076.558151</td>\n",
       "      <td>23552.134222</td>\n",
       "      <td>112.834817</td>\n",
       "      <td>58.082762</td>\n",
       "      <td>1.336360</td>\n",
       "      <td>6.811965</td>\n",
       "      <td>0.984293</td>\n",
       "      <td>2.723164</td>\n",
       "    </tr>\n",
       "    <tr>\n",
       "      <th>std</th>\n",
       "      <td>2.025603</td>\n",
       "      <td>4315.088683</td>\n",
       "      <td>19427.634765</td>\n",
       "      <td>61.666295</td>\n",
       "      <td>9.589533</td>\n",
       "      <td>0.390727</td>\n",
       "      <td>3.972404</td>\n",
       "      <td>0.361986</td>\n",
       "      <td>1.863562</td>\n",
       "    </tr>\n",
       "    <tr>\n",
       "      <th>min</th>\n",
       "      <td>1996.000000</td>\n",
       "      <td>495.000000</td>\n",
       "      <td>1.000000</td>\n",
       "      <td>0.000000</td>\n",
       "      <td>20.900000</td>\n",
       "      <td>0.000000</td>\n",
       "      <td>0.000000</td>\n",
       "      <td>0.000000</td>\n",
       "      <td>0.000000</td>\n",
       "    </tr>\n",
       "    <tr>\n",
       "      <th>25%</th>\n",
       "      <td>2016.000000</td>\n",
       "      <td>8998.000000</td>\n",
       "      <td>10147.000000</td>\n",
       "      <td>30.000000</td>\n",
       "      <td>53.300000</td>\n",
       "      <td>1.000000</td>\n",
       "      <td>5.000000</td>\n",
       "      <td>1.000000</td>\n",
       "      <td>0.000000</td>\n",
       "    </tr>\n",
       "    <tr>\n",
       "      <th>50%</th>\n",
       "      <td>2017.000000</td>\n",
       "      <td>11200.000000</td>\n",
       "      <td>18472.000000</td>\n",
       "      <td>145.000000</td>\n",
       "      <td>58.900000</td>\n",
       "      <td>1.200000</td>\n",
       "      <td>6.000000</td>\n",
       "      <td>1.000000</td>\n",
       "      <td>4.000000</td>\n",
       "    </tr>\n",
       "    <tr>\n",
       "      <th>75%</th>\n",
       "      <td>2018.000000</td>\n",
       "      <td>15000.000000</td>\n",
       "      <td>31292.500000</td>\n",
       "      <td>145.000000</td>\n",
       "      <td>65.700000</td>\n",
       "      <td>1.500000</td>\n",
       "      <td>8.000000</td>\n",
       "      <td>1.000000</td>\n",
       "      <td>4.000000</td>\n",
       "    </tr>\n",
       "    <tr>\n",
       "      <th>max</th>\n",
       "      <td>2020.000000</td>\n",
       "      <td>26475.000000</td>\n",
       "      <td>177644.000000</td>\n",
       "      <td>570.000000</td>\n",
       "      <td>88.300000</td>\n",
       "      <td>5.000000</td>\n",
       "      <td>23.000000</td>\n",
       "      <td>2.000000</td>\n",
       "      <td>4.000000</td>\n",
       "    </tr>\n",
       "  </tbody>\n",
       "</table>\n",
       "</div>"
      ],
      "text/plain": [
       "               year         price        mileage           tax           mpg  \\\n",
       "count  17635.000000  17635.000000   17635.000000  17635.000000  17635.000000   \n",
       "mean    2016.840885  12076.558151   23552.134222    112.834817     58.082762   \n",
       "std        2.025603   4315.088683   19427.634765     61.666295      9.589533   \n",
       "min     1996.000000    495.000000       1.000000      0.000000     20.900000   \n",
       "25%     2016.000000   8998.000000   10147.000000     30.000000     53.300000   \n",
       "50%     2017.000000  11200.000000   18472.000000    145.000000     58.900000   \n",
       "75%     2018.000000  15000.000000   31292.500000    145.000000     65.700000   \n",
       "max     2020.000000  26475.000000  177644.000000    570.000000     88.300000   \n",
       "\n",
       "         engineSize  encoded_model  encoded_transmission  encoded_fuelType  \n",
       "count  17635.000000   17635.000000          17635.000000      17635.000000  \n",
       "mean       1.336360       6.811965              0.984293          2.723164  \n",
       "std        0.390727       3.972404              0.361986          1.863562  \n",
       "min        0.000000       0.000000              0.000000          0.000000  \n",
       "25%        1.000000       5.000000              1.000000          0.000000  \n",
       "50%        1.200000       6.000000              1.000000          4.000000  \n",
       "75%        1.500000       8.000000              1.000000          4.000000  \n",
       "max        5.000000      23.000000              2.000000          4.000000  "
      ]
     },
     "execution_count": 45,
     "metadata": {},
     "output_type": "execute_result"
    }
   ],
   "source": [
    "filtered_df.describe()"
   ]
  },
  {
   "cell_type": "code",
   "execution_count": 46,
   "id": "50cb01cf",
   "metadata": {
    "execution": {
     "iopub.execute_input": "2024-05-05T12:37:38.180794Z",
     "iopub.status.busy": "2024-05-05T12:37:38.180300Z",
     "iopub.status.idle": "2024-05-05T12:37:38.918421Z",
     "shell.execute_reply": "2024-05-05T12:37:38.916992Z"
    },
    "papermill": {
     "duration": 0.778605,
     "end_time": "2024-05-05T12:37:38.921439",
     "exception": false,
     "start_time": "2024-05-05T12:37:38.142834",
     "status": "completed"
    },
    "tags": []
   },
   "outputs": [
    {
     "data": {
      "image/png": "[encoded data removed]",
      "text/plain": [
       "<Figure size 2000x400 with 2 Axes>"
      ]
     },
     "metadata": {},
     "output_type": "display_data"
    },
    {
     "data": {
      "image/png": "[encoded data removed]",
      "text/plain": [
       "<Figure size 2000x400 with 1 Axes>"
      ]
     },
     "metadata": {},
     "output_type": "display_data"
    }
   ],
   "source": [
    "numerical = ['price','mileage',\t'tax']\n",
    "\n",
    "for i in range(0, len(numerical), 2):  \n",
    "    plt.figure(figsize=(20, 4))\n",
    "    \n",
    "    plt.subplot(1, 2, 1)\n",
    "    sns.boxplot(x=numerical[i], data=filtered_df)\n",
    "    \n",
    "    if i + 1 < len(numerical): \n",
    "        plt.subplot(1, 2, 2)\n",
    "        sns.boxplot(x=numerical[i + 1], data=filtered_df)\n",
    "    \n",
    "    plt.show()"
   ]
  },
  {
   "cell_type": "code",
   "execution_count": 47,
   "id": "3e73e522",
   "metadata": {
    "execution": {
     "iopub.execute_input": "2024-05-05T12:37:38.997925Z",
     "iopub.status.busy": "2024-05-05T12:37:38.997451Z",
     "iopub.status.idle": "2024-05-05T12:37:39.044504Z",
     "shell.execute_reply": "2024-05-05T12:37:39.042863Z"
    },
    "papermill": {
     "duration": 0.087779,
     "end_time": "2024-05-05T12:37:39.047192",
     "exception": false,
     "start_time": "2024-05-05T12:37:38.959413",
     "status": "completed"
    },
    "tags": []
   },
   "outputs": [
    {
     "data": {
      "text/html": [
       "<div>\n",
       "<style scoped>\n",
       "    .dataframe tbody tr th:only-of-type {\n",
       "        vertical-align: middle;\n",
       "    }\n",
       "\n",
       "    .dataframe tbody tr th {\n",
       "        vertical-align: top;\n",
       "    }\n",
       "\n",
       "    .dataframe thead th {\n",
       "        text-align: right;\n",
       "    }\n",
       "</style>\n",
       "<table border=\"1\" class=\"dataframe\">\n",
       "  <thead>\n",
       "    <tr style=\"text-align: right;\">\n",
       "      <th></th>\n",
       "      <th>year</th>\n",
       "      <th>price</th>\n",
       "      <th>mileage</th>\n",
       "      <th>tax</th>\n",
       "      <th>mpg</th>\n",
       "      <th>engineSize</th>\n",
       "      <th>encoded_model</th>\n",
       "      <th>encoded_transmission</th>\n",
       "      <th>encoded_fuelType</th>\n",
       "    </tr>\n",
       "  </thead>\n",
       "  <tbody>\n",
       "    <tr>\n",
       "      <th>count</th>\n",
       "      <td>17811.000000</td>\n",
       "      <td>17811.000000</td>\n",
       "      <td>17811.000000</td>\n",
       "      <td>17811.000000</td>\n",
       "      <td>17811.000000</td>\n",
       "      <td>17811.000000</td>\n",
       "      <td>17811.000000</td>\n",
       "      <td>17811.000000</td>\n",
       "      <td>17811.000000</td>\n",
       "    </tr>\n",
       "    <tr>\n",
       "      <th>mean</th>\n",
       "      <td>2016.859974</td>\n",
       "      <td>12269.880523</td>\n",
       "      <td>23379.381955</td>\n",
       "      <td>113.309865</td>\n",
       "      <td>57.909545</td>\n",
       "      <td>1.350620</td>\n",
       "      <td>6.845264</td>\n",
       "      <td>0.984392</td>\n",
       "      <td>2.715681</td>\n",
       "    </tr>\n",
       "    <tr>\n",
       "      <th>std</th>\n",
       "      <td>2.026478</td>\n",
       "      <td>4736.220719</td>\n",
       "      <td>19418.128363</td>\n",
       "      <td>62.032540</td>\n",
       "      <td>10.132348</td>\n",
       "      <td>0.432593</td>\n",
       "      <td>4.008970</td>\n",
       "      <td>0.368896</td>\n",
       "      <td>1.866159</td>\n",
       "    </tr>\n",
       "    <tr>\n",
       "      <th>min</th>\n",
       "      <td>1996.000000</td>\n",
       "      <td>495.000000</td>\n",
       "      <td>1.000000</td>\n",
       "      <td>0.000000</td>\n",
       "      <td>20.800000</td>\n",
       "      <td>0.000000</td>\n",
       "      <td>0.000000</td>\n",
       "      <td>0.000000</td>\n",
       "      <td>0.000000</td>\n",
       "    </tr>\n",
       "    <tr>\n",
       "      <th>25%</th>\n",
       "      <td>2016.000000</td>\n",
       "      <td>8999.000000</td>\n",
       "      <td>10000.000000</td>\n",
       "      <td>30.000000</td>\n",
       "      <td>52.300000</td>\n",
       "      <td>1.000000</td>\n",
       "      <td>5.000000</td>\n",
       "      <td>1.000000</td>\n",
       "      <td>0.000000</td>\n",
       "    </tr>\n",
       "    <tr>\n",
       "      <th>50%</th>\n",
       "      <td>2017.000000</td>\n",
       "      <td>11289.000000</td>\n",
       "      <td>18274.000000</td>\n",
       "      <td>145.000000</td>\n",
       "      <td>58.900000</td>\n",
       "      <td>1.200000</td>\n",
       "      <td>6.000000</td>\n",
       "      <td>1.000000</td>\n",
       "      <td>4.000000</td>\n",
       "    </tr>\n",
       "    <tr>\n",
       "      <th>75%</th>\n",
       "      <td>2018.000000</td>\n",
       "      <td>15295.000000</td>\n",
       "      <td>31092.500000</td>\n",
       "      <td>145.000000</td>\n",
       "      <td>65.700000</td>\n",
       "      <td>1.500000</td>\n",
       "      <td>8.000000</td>\n",
       "      <td>1.000000</td>\n",
       "      <td>4.000000</td>\n",
       "    </tr>\n",
       "    <tr>\n",
       "      <th>max</th>\n",
       "      <td>2020.000000</td>\n",
       "      <td>54995.000000</td>\n",
       "      <td>177644.000000</td>\n",
       "      <td>580.000000</td>\n",
       "      <td>201.800000</td>\n",
       "      <td>5.000000</td>\n",
       "      <td>23.000000</td>\n",
       "      <td>2.000000</td>\n",
       "      <td>4.000000</td>\n",
       "    </tr>\n",
       "  </tbody>\n",
       "</table>\n",
       "</div>"
      ],
      "text/plain": [
       "               year         price        mileage           tax           mpg  \\\n",
       "count  17811.000000  17811.000000   17811.000000  17811.000000  17811.000000   \n",
       "mean    2016.859974  12269.880523   23379.381955    113.309865     57.909545   \n",
       "std        2.026478   4736.220719   19418.128363     62.032540     10.132348   \n",
       "min     1996.000000    495.000000       1.000000      0.000000     20.800000   \n",
       "25%     2016.000000   8999.000000   10000.000000     30.000000     52.300000   \n",
       "50%     2017.000000  11289.000000   18274.000000    145.000000     58.900000   \n",
       "75%     2018.000000  15295.000000   31092.500000    145.000000     65.700000   \n",
       "max     2020.000000  54995.000000  177644.000000    580.000000    201.800000   \n",
       "\n",
       "         engineSize  encoded_model  encoded_transmission  encoded_fuelType  \n",
       "count  17811.000000   17811.000000          17811.000000      17811.000000  \n",
       "mean       1.350620       6.845264              0.984392          2.715681  \n",
       "std        0.432593       4.008970              0.368896          1.866159  \n",
       "min        0.000000       0.000000              0.000000          0.000000  \n",
       "25%        1.000000       5.000000              1.000000          0.000000  \n",
       "50%        1.200000       6.000000              1.000000          4.000000  \n",
       "75%        1.500000       8.000000              1.000000          4.000000  \n",
       "max        5.000000      23.000000              2.000000          4.000000  "
      ]
     },
     "execution_count": 47,
     "metadata": {},
     "output_type": "execute_result"
    }
   ],
   "source": [
    "df.describe()"
   ]
  },
  {
   "cell_type": "code",
   "execution_count": 48,
   "id": "bc5f2850",
   "metadata": {
    "execution": {
     "iopub.execute_input": "2024-05-05T12:37:39.122520Z",
     "iopub.status.busy": "2024-05-05T12:37:39.122041Z",
     "iopub.status.idle": "2024-05-05T12:37:39.130574Z",
     "shell.execute_reply": "2024-05-05T12:37:39.129273Z"
    },
    "papermill": {
     "duration": 0.049826,
     "end_time": "2024-05-05T12:37:39.133284",
     "exception": false,
     "start_time": "2024-05-05T12:37:39.083458",
     "status": "completed"
    },
    "tags": []
   },
   "outputs": [],
   "source": [
    "y = df['price'].values # prediction\n",
    "x = df.drop(\"price\", axis = 1).values #feature"
   ]
  },
  {
   "cell_type": "code",
   "execution_count": 49,
   "id": "2b82eb22",
   "metadata": {
    "execution": {
     "iopub.execute_input": "2024-05-05T12:37:39.207987Z",
     "iopub.status.busy": "2024-05-05T12:37:39.207535Z",
     "iopub.status.idle": "2024-05-05T12:37:39.215669Z",
     "shell.execute_reply": "2024-05-05T12:37:39.214251Z"
    },
    "papermill": {
     "duration": 0.04906,
     "end_time": "2024-05-05T12:37:39.218331",
     "exception": false,
     "start_time": "2024-05-05T12:37:39.169271",
     "status": "completed"
    },
    "tags": []
   },
   "outputs": [
    {
     "data": {
      "text/plain": [
       "array([12000, 14000, 13000, ...,  9999,  8299,  8299])"
      ]
     },
     "execution_count": 49,
     "metadata": {},
     "output_type": "execute_result"
    }
   ],
   "source": [
    "y"
   ]
  },
  {
   "cell_type": "code",
   "execution_count": 50,
   "id": "1db16f97",
   "metadata": {
    "execution": {
     "iopub.execute_input": "2024-05-05T12:37:39.293968Z",
     "iopub.status.busy": "2024-05-05T12:37:39.292705Z",
     "iopub.status.idle": "2024-05-05T12:37:39.301262Z",
     "shell.execute_reply": "2024-05-05T12:37:39.300191Z"
    },
    "papermill": {
     "duration": 0.048769,
     "end_time": "2024-05-05T12:37:39.303493",
     "exception": false,
     "start_time": "2024-05-05T12:37:39.254724",
     "status": "completed"
    },
    "tags": []
   },
   "outputs": [
    {
     "data": {
      "text/plain": [
       "array([[2.0170e+03, 1.5944e+04, 1.5000e+02, ..., 5.0000e+00, 0.0000e+00,\n",
       "        4.0000e+00],\n",
       "       [2.0180e+03, 9.0830e+03, 1.5000e+02, ..., 6.0000e+00, 1.0000e+00,\n",
       "        4.0000e+00],\n",
       "       [2.0170e+03, 1.2456e+04, 1.5000e+02, ..., 6.0000e+00, 1.0000e+00,\n",
       "        4.0000e+00],\n",
       "       ...,\n",
       "       [2.0150e+03, 7.0100e+03, 2.0000e+01, ..., 6.0000e+00, 1.0000e+00,\n",
       "        0.0000e+00],\n",
       "       [2.0180e+03, 5.0070e+03, 1.4500e+02, ..., 1.1000e+01, 1.0000e+00,\n",
       "        4.0000e+00],\n",
       "       [2.0150e+03, 5.0070e+03, 2.2000e+01, ..., 2.3000e+01, 1.0000e+00,\n",
       "        4.0000e+00]])"
      ]
     },
     "execution_count": 50,
     "metadata": {},
     "output_type": "execute_result"
    }
   ],
   "source": [
    "x"
   ]
  },
  {
   "cell_type": "code",
   "execution_count": 51,
   "id": "4186df76",
   "metadata": {
    "execution": {
     "iopub.execute_input": "2024-05-05T12:37:39.381872Z",
     "iopub.status.busy": "2024-05-05T12:37:39.381406Z",
     "iopub.status.idle": "2024-05-05T12:37:39.511548Z",
     "shell.execute_reply": "2024-05-05T12:37:39.509814Z"
    },
    "papermill": {
     "duration": 0.17432,
     "end_time": "2024-05-05T12:37:39.514653",
     "exception": false,
     "start_time": "2024-05-05T12:37:39.340333",
     "status": "completed"
    },
    "tags": []
   },
   "outputs": [],
   "source": [
    "from sklearn.model_selection import train_test_split\n",
    "\n",
    "x_train, x_test, y_train, y_test = train_test_split(x, y, test_size=0.3, random_state=42)"
   ]
  },
  {
   "cell_type": "code",
   "execution_count": 52,
   "id": "dd21bf4d",
   "metadata": {
    "execution": {
     "iopub.execute_input": "2024-05-05T12:37:39.590727Z",
     "iopub.status.busy": "2024-05-05T12:37:39.590294Z",
     "iopub.status.idle": "2024-05-05T12:37:39.597263Z",
     "shell.execute_reply": "2024-05-05T12:37:39.595817Z"
    },
    "papermill": {
     "duration": 0.048359,
     "end_time": "2024-05-05T12:37:39.599896",
     "exception": false,
     "start_time": "2024-05-05T12:37:39.551537",
     "status": "completed"
    },
    "tags": []
   },
   "outputs": [
    {
     "name": "stdout",
     "output_type": "stream",
     "text": [
      "x train size: 12467\n",
      "x test size: 5344\n"
     ]
    }
   ],
   "source": [
    "print(\"x train size:\", len(x_train))\n",
    "print(\"x test size:\", len(x_test))"
   ]
  },
  {
   "cell_type": "code",
   "execution_count": 53,
   "id": "78d28c4a",
   "metadata": {
    "execution": {
     "iopub.execute_input": "2024-05-05T12:37:39.675288Z",
     "iopub.status.busy": "2024-05-05T12:37:39.674698Z",
     "iopub.status.idle": "2024-05-05T12:37:39.685205Z",
     "shell.execute_reply": "2024-05-05T12:37:39.683842Z"
    },
    "papermill": {
     "duration": 0.052185,
     "end_time": "2024-05-05T12:37:39.688270",
     "exception": false,
     "start_time": "2024-05-05T12:37:39.636085",
     "status": "completed"
    },
    "tags": []
   },
   "outputs": [],
   "source": [
    "from sklearn.preprocessing import MinMaxScaler\n",
    "\n",
    "scaler = MinMaxScaler()\n",
    "\n",
    "x_train = scaler.fit_transform(x_train)\n",
    "x_test = scaler.transform(x_test)"
   ]
  },
  {
   "cell_type": "code",
   "execution_count": 54,
   "id": "bbadabca",
   "metadata": {
    "execution": {
     "iopub.execute_input": "2024-05-05T12:37:39.764832Z",
     "iopub.status.busy": "2024-05-05T12:37:39.763406Z",
     "iopub.status.idle": "2024-05-05T12:37:55.141620Z",
     "shell.execute_reply": "2024-05-05T12:37:55.140081Z"
    },
    "papermill": {
     "duration": 15.420133,
     "end_time": "2024-05-05T12:37:55.145016",
     "exception": false,
     "start_time": "2024-05-05T12:37:39.724883",
     "status": "completed"
    },
    "tags": []
   },
   "outputs": [
    {
     "name": "stderr",
     "output_type": "stream",
     "text": [
      "2024-05-05 12:37:42.057413: E external/local_xla/xla/stream_executor/cuda/cuda_dnn.cc:9261] Unable to register cuDNN factory: Attempting to register factory for plugin cuDNN when one has already been registered\n",
      "2024-05-05 12:37:42.057650: E external/local_xla/xla/stream_executor/cuda/cuda_fft.cc:607] Unable to register cuFFT factory: Attempting to register factory for plugin cuFFT when one has already been registered\n",
      "2024-05-05 12:37:42.217236: E external/local_xla/xla/stream_executor/cuda/cuda_blas.cc:1515] Unable to register cuBLAS factory: Attempting to register factory for plugin cuBLAS when one has already been registered\n"
     ]
    }
   ],
   "source": [
    "from tensorflow.keras.models import Sequential\n",
    "from tensorflow.keras.layers import Dense"
   ]
  },
  {
   "cell_type": "code",
   "execution_count": 55,
   "id": "8cc9d152",
   "metadata": {
    "execution": {
     "iopub.execute_input": "2024-05-05T12:37:55.222306Z",
     "iopub.status.busy": "2024-05-05T12:37:55.221063Z",
     "iopub.status.idle": "2024-05-05T12:37:55.228647Z",
     "shell.execute_reply": "2024-05-05T12:37:55.227768Z"
    },
    "papermill": {
     "duration": 0.048453,
     "end_time": "2024-05-05T12:37:55.230807",
     "exception": false,
     "start_time": "2024-05-05T12:37:55.182354",
     "status": "completed"
    },
    "tags": []
   },
   "outputs": [
    {
     "data": {
      "text/plain": [
       "(12467, 8)"
      ]
     },
     "execution_count": 55,
     "metadata": {},
     "output_type": "execute_result"
    }
   ],
   "source": [
    "x_train.shape"
   ]
  },
  {
   "cell_type": "code",
   "execution_count": 56,
   "id": "50901145",
   "metadata": {
    "execution": {
     "iopub.execute_input": "2024-05-05T12:37:55.307263Z",
     "iopub.status.busy": "2024-05-05T12:37:55.306468Z",
     "iopub.status.idle": "2024-05-05T12:37:55.374246Z",
     "shell.execute_reply": "2024-05-05T12:37:55.373254Z"
    },
    "papermill": {
     "duration": 0.109247,
     "end_time": "2024-05-05T12:37:55.376956",
     "exception": false,
     "start_time": "2024-05-05T12:37:55.267709",
     "status": "completed"
    },
    "tags": []
   },
   "outputs": [],
   "source": [
    "model = Sequential()\n",
    "\n",
    "model.add(Dense(8, activation=\"relu\"))\n",
    "model.add(Dense(8, activation=\"relu\"))\n",
    "model.add(Dense(8, activation=\"relu\"))\n",
    "model.add(Dense(8, activation=\"relu\"))\n",
    "model.add(Dense(8, activation=\"relu\"))\n",
    "model.add(Dense(8, activation=\"relu\"))\n",
    "\n",
    "model.add(Dense(1))\n",
    "\n",
    "model.compile(optimizer = \"adam\", loss = \"mse\")"
   ]
  },
  {
   "cell_type": "code",
   "execution_count": 57,
   "id": "5b2d12c8",
   "metadata": {
    "execution": {
     "iopub.execute_input": "2024-05-05T12:37:55.461283Z",
     "iopub.status.busy": "2024-05-05T12:37:55.460371Z",
     "iopub.status.idle": "2024-05-05T12:39:01.630725Z",
     "shell.execute_reply": "2024-05-05T12:39:01.629276Z"
    },
    "papermill": {
     "duration": 66.217191,
     "end_time": "2024-05-05T12:39:01.633674",
     "exception": false,
     "start_time": "2024-05-05T12:37:55.416483",
     "status": "completed"
    },
    "tags": []
   },
   "outputs": [
    {
     "name": "stdout",
     "output_type": "stream",
     "text": [
      "Epoch 1/250\n",
      "\u001b[1m50/50\u001b[0m \u001b[32m━━━━━━━━━━━━━━━━━━━━\u001b[0m\u001b[37m\u001b[0m \u001b[1m4s\u001b[0m 8ms/step - loss: 171184352.0000 - val_loss: 173932528.0000\n",
      "Epoch 2/250\n",
      "\u001b[1m50/50\u001b[0m \u001b[32m━━━━━━━━━━━━━━━━━━━━\u001b[0m\u001b[37m\u001b[0m \u001b[1m0s\u001b[0m 4ms/step - loss: 171320544.0000 - val_loss: 173725520.0000\n",
      "Epoch 3/250\n",
      "\u001b[1m50/50\u001b[0m \u001b[32m━━━━━━━━━━━━━━━━━━━━\u001b[0m\u001b[37m\u001b[0m \u001b[1m0s\u001b[0m 3ms/step - loss: 173166560.0000 - val_loss: 172219888.0000\n",
      "Epoch 4/250\n",
      "\u001b[1m50/50\u001b[0m \u001b[32m━━━━━━━━━━━━━━━━━━━━\u001b[0m\u001b[37m\u001b[0m \u001b[1m0s\u001b[0m 3ms/step - loss: 170311296.0000 - val_loss: 163258064.0000\n",
      "Epoch 5/250\n",
      "\u001b[1m50/50\u001b[0m \u001b[32m━━━━━━━━━━━━━━━━━━━━\u001b[0m\u001b[37m\u001b[0m \u001b[1m0s\u001b[0m 3ms/step - loss: 155891632.0000 - val_loss: 127290064.0000\n",
      "Epoch 6/250\n",
      "\u001b[1m50/50\u001b[0m \u001b[32m━━━━━━━━━━━━━━━━━━━━\u001b[0m\u001b[37m\u001b[0m \u001b[1m0s\u001b[0m 3ms/step - loss: 109087128.0000 - val_loss: 50926624.0000\n",
      "Epoch 7/250\n",
      "\u001b[1m50/50\u001b[0m \u001b[32m━━━━━━━━━━━━━━━━━━━━\u001b[0m\u001b[37m\u001b[0m \u001b[1m0s\u001b[0m 3ms/step - loss: 37502432.0000 - val_loss: 22229640.0000\n",
      "Epoch 8/250\n",
      "\u001b[1m50/50\u001b[0m \u001b[32m━━━━━━━━━━━━━━━━━━━━\u001b[0m\u001b[37m\u001b[0m \u001b[1m0s\u001b[0m 3ms/step - loss: 21853226.0000 - val_loss: 21745830.0000\n",
      "Epoch 9/250\n",
      "\u001b[1m50/50\u001b[0m \u001b[32m━━━━━━━━━━━━━━━━━━━━\u001b[0m\u001b[37m\u001b[0m \u001b[1m0s\u001b[0m 3ms/step - loss: 21209560.0000 - val_loss: 21277650.0000\n",
      "Epoch 10/250\n",
      "\u001b[1m50/50\u001b[0m \u001b[32m━━━━━━━━━━━━━━━━━━━━\u001b[0m\u001b[37m\u001b[0m \u001b[1m0s\u001b[0m 3ms/step - loss: 21248582.0000 - val_loss: 20824972.0000\n",
      "Epoch 11/250\n",
      "\u001b[1m50/50\u001b[0m \u001b[32m━━━━━━━━━━━━━━━━━━━━\u001b[0m\u001b[37m\u001b[0m \u001b[1m0s\u001b[0m 3ms/step - loss: 20742468.0000 - val_loss: 20380958.0000\n",
      "Epoch 12/250\n",
      "\u001b[1m50/50\u001b[0m \u001b[32m━━━━━━━━━━━━━━━━━━━━\u001b[0m\u001b[37m\u001b[0m \u001b[1m0s\u001b[0m 4ms/step - loss: 19439988.0000 - val_loss: 19935494.0000\n",
      "Epoch 13/250\n",
      "\u001b[1m50/50\u001b[0m \u001b[32m━━━━━━━━━━━━━━━━━━━━\u001b[0m\u001b[37m\u001b[0m \u001b[1m0s\u001b[0m 3ms/step - loss: 20433728.0000 - val_loss: 19511936.0000\n",
      "Epoch 14/250\n",
      "\u001b[1m50/50\u001b[0m \u001b[32m━━━━━━━━━━━━━━━━━━━━\u001b[0m\u001b[37m\u001b[0m \u001b[1m0s\u001b[0m 3ms/step - loss: 19377144.0000 - val_loss: 19079978.0000\n",
      "Epoch 15/250\n",
      "\u001b[1m50/50\u001b[0m \u001b[32m━━━━━━━━━━━━━━━━━━━━\u001b[0m\u001b[37m\u001b[0m \u001b[1m0s\u001b[0m 3ms/step - loss: 19945406.0000 - val_loss: 18657244.0000\n",
      "Epoch 16/250\n",
      "\u001b[1m50/50\u001b[0m \u001b[32m━━━━━━━━━━━━━━━━━━━━\u001b[0m\u001b[37m\u001b[0m \u001b[1m0s\u001b[0m 3ms/step - loss: 17803384.0000 - val_loss: 18251826.0000\n",
      "Epoch 17/250\n",
      "\u001b[1m50/50\u001b[0m \u001b[32m━━━━━━━━━━━━━━━━━━━━\u001b[0m\u001b[37m\u001b[0m \u001b[1m0s\u001b[0m 3ms/step - loss: 17950292.0000 - val_loss: 17848430.0000\n",
      "Epoch 18/250\n",
      "\u001b[1m50/50\u001b[0m \u001b[32m━━━━━━━━━━━━━━━━━━━━\u001b[0m\u001b[37m\u001b[0m \u001b[1m0s\u001b[0m 3ms/step - loss: 17793496.0000 - val_loss: 17447508.0000\n",
      "Epoch 19/250\n",
      "\u001b[1m50/50\u001b[0m \u001b[32m━━━━━━━━━━━━━━━━━━━━\u001b[0m\u001b[37m\u001b[0m \u001b[1m0s\u001b[0m 3ms/step - loss: 16916912.0000 - val_loss: 17052866.0000\n",
      "Epoch 20/250\n",
      "\u001b[1m50/50\u001b[0m \u001b[32m━━━━━━━━━━━━━━━━━━━━\u001b[0m\u001b[37m\u001b[0m \u001b[1m0s\u001b[0m 4ms/step - loss: 17144798.0000 - val_loss: 16668362.0000\n",
      "Epoch 21/250\n",
      "\u001b[1m50/50\u001b[0m \u001b[32m━━━━━━━━━━━━━━━━━━━━\u001b[0m\u001b[37m\u001b[0m \u001b[1m0s\u001b[0m 3ms/step - loss: 16498213.0000 - val_loss: 16285534.0000\n",
      "Epoch 22/250\n",
      "\u001b[1m50/50\u001b[0m \u001b[32m━━━━━━━━━━━━━━━━━━━━\u001b[0m\u001b[37m\u001b[0m \u001b[1m0s\u001b[0m 4ms/step - loss: 16238129.0000 - val_loss: 15904512.0000\n",
      "Epoch 23/250\n",
      "\u001b[1m50/50\u001b[0m \u001b[32m━━━━━━━━━━━━━━━━━━━━\u001b[0m\u001b[37m\u001b[0m \u001b[1m0s\u001b[0m 3ms/step - loss: 15446526.0000 - val_loss: 15534255.0000\n",
      "Epoch 24/250\n",
      "\u001b[1m50/50\u001b[0m \u001b[32m━━━━━━━━━━━━━━━━━━━━\u001b[0m\u001b[37m\u001b[0m \u001b[1m0s\u001b[0m 3ms/step - loss: 14880901.0000 - val_loss: 15164027.0000\n",
      "Epoch 25/250\n",
      "\u001b[1m50/50\u001b[0m \u001b[32m━━━━━━━━━━━━━━━━━━━━\u001b[0m\u001b[37m\u001b[0m \u001b[1m0s\u001b[0m 3ms/step - loss: 14351391.0000 - val_loss: 14809565.0000\n",
      "Epoch 26/250\n",
      "\u001b[1m50/50\u001b[0m \u001b[32m━━━━━━━━━━━━━━━━━━━━\u001b[0m\u001b[37m\u001b[0m \u001b[1m0s\u001b[0m 3ms/step - loss: 14525315.0000 - val_loss: 14429411.0000\n",
      "Epoch 27/250\n",
      "\u001b[1m50/50\u001b[0m \u001b[32m━━━━━━━━━━━━━━━━━━━━\u001b[0m\u001b[37m\u001b[0m \u001b[1m0s\u001b[0m 3ms/step - loss: 14164596.0000 - val_loss: 14068653.0000\n",
      "Epoch 28/250\n",
      "\u001b[1m50/50\u001b[0m \u001b[32m━━━━━━━━━━━━━━━━━━━━\u001b[0m\u001b[37m\u001b[0m \u001b[1m0s\u001b[0m 4ms/step - loss: 13471166.0000 - val_loss: 13705015.0000\n",
      "Epoch 29/250\n",
      "\u001b[1m50/50\u001b[0m \u001b[32m━━━━━━━━━━━━━━━━━━━━\u001b[0m\u001b[37m\u001b[0m \u001b[1m0s\u001b[0m 3ms/step - loss: 13385793.0000 - val_loss: 13355727.0000\n",
      "Epoch 30/250\n",
      "\u001b[1m50/50\u001b[0m \u001b[32m━━━━━━━━━━━━━━━━━━━━\u001b[0m\u001b[37m\u001b[0m \u001b[1m0s\u001b[0m 4ms/step - loss: 13098697.0000 - val_loss: 13002862.0000\n",
      "Epoch 31/250\n",
      "\u001b[1m50/50\u001b[0m \u001b[32m━━━━━━━━━━━━━━━━━━━━\u001b[0m\u001b[37m\u001b[0m \u001b[1m0s\u001b[0m 4ms/step - loss: 12277469.0000 - val_loss: 12629417.0000\n",
      "Epoch 32/250\n",
      "\u001b[1m50/50\u001b[0m \u001b[32m━━━━━━━━━━━━━━━━━━━━\u001b[0m\u001b[37m\u001b[0m \u001b[1m0s\u001b[0m 4ms/step - loss: 12213682.0000 - val_loss: 12273065.0000\n",
      "Epoch 33/250\n",
      "\u001b[1m50/50\u001b[0m \u001b[32m━━━━━━━━━━━━━━━━━━━━\u001b[0m\u001b[37m\u001b[0m \u001b[1m0s\u001b[0m 4ms/step - loss: 12324463.0000 - val_loss: 11907815.0000\n",
      "Epoch 34/250\n",
      "\u001b[1m50/50\u001b[0m \u001b[32m━━━━━━━━━━━━━━━━━━━━\u001b[0m\u001b[37m\u001b[0m \u001b[1m0s\u001b[0m 3ms/step - loss: 11924504.0000 - val_loss: 11551967.0000\n",
      "Epoch 35/250\n",
      "\u001b[1m50/50\u001b[0m \u001b[32m━━━━━━━━━━━━━━━━━━━━\u001b[0m\u001b[37m\u001b[0m \u001b[1m0s\u001b[0m 3ms/step - loss: 11447363.0000 - val_loss: 11203048.0000\n",
      "Epoch 36/250\n",
      "\u001b[1m50/50\u001b[0m \u001b[32m━━━━━━━━━━━━━━━━━━━━\u001b[0m\u001b[37m\u001b[0m \u001b[1m0s\u001b[0m 3ms/step - loss: 10819101.0000 - val_loss: 10858265.0000\n",
      "Epoch 37/250\n",
      "\u001b[1m50/50\u001b[0m \u001b[32m━━━━━━━━━━━━━━━━━━━━\u001b[0m\u001b[37m\u001b[0m \u001b[1m0s\u001b[0m 3ms/step - loss: 10539956.0000 - val_loss: 10523984.0000\n",
      "Epoch 38/250\n",
      "\u001b[1m50/50\u001b[0m \u001b[32m━━━━━━━━━━━━━━━━━━━━\u001b[0m\u001b[37m\u001b[0m \u001b[1m0s\u001b[0m 3ms/step - loss: 10246175.0000 - val_loss: 10195005.0000\n",
      "Epoch 39/250\n",
      "\u001b[1m50/50\u001b[0m \u001b[32m━━━━━━━━━━━━━━━━━━━━\u001b[0m\u001b[37m\u001b[0m \u001b[1m0s\u001b[0m 3ms/step - loss: 9916478.0000 - val_loss: 9895559.0000\n",
      "Epoch 40/250\n",
      "\u001b[1m50/50\u001b[0m \u001b[32m━━━━━━━━━━━━━━━━━━━━\u001b[0m\u001b[37m\u001b[0m \u001b[1m0s\u001b[0m 3ms/step - loss: 9541647.0000 - val_loss: 9598506.0000\n",
      "Epoch 41/250\n",
      "\u001b[1m50/50\u001b[0m \u001b[32m━━━━━━━━━━━━━━━━━━━━\u001b[0m\u001b[37m\u001b[0m \u001b[1m0s\u001b[0m 3ms/step - loss: 9651907.0000 - val_loss: 9326354.0000\n",
      "Epoch 42/250\n",
      "\u001b[1m50/50\u001b[0m \u001b[32m━━━━━━━━━━━━━━━━━━━━\u001b[0m\u001b[37m\u001b[0m \u001b[1m0s\u001b[0m 4ms/step - loss: 9193062.0000 - val_loss: 9091920.0000\n",
      "Epoch 43/250\n",
      "\u001b[1m50/50\u001b[0m \u001b[32m━━━━━━━━━━━━━━━━━━━━\u001b[0m\u001b[37m\u001b[0m \u001b[1m0s\u001b[0m 3ms/step - loss: 8878440.0000 - val_loss: 8829989.0000\n",
      "Epoch 44/250\n",
      "\u001b[1m50/50\u001b[0m \u001b[32m━━━━━━━━━━━━━━━━━━━━\u001b[0m\u001b[37m\u001b[0m \u001b[1m0s\u001b[0m 4ms/step - loss: 8397341.0000 - val_loss: 8612086.0000\n",
      "Epoch 45/250\n",
      "\u001b[1m50/50\u001b[0m \u001b[32m━━━━━━━━━━━━━━━━━━━━\u001b[0m\u001b[37m\u001b[0m \u001b[1m0s\u001b[0m 3ms/step - loss: 8450313.0000 - val_loss: 8412296.0000\n",
      "Epoch 46/250\n",
      "\u001b[1m50/50\u001b[0m \u001b[32m━━━━━━━━━━━━━━━━━━━━\u001b[0m\u001b[37m\u001b[0m \u001b[1m0s\u001b[0m 3ms/step - loss: 8675372.0000 - val_loss: 8226456.5000\n",
      "Epoch 47/250\n",
      "\u001b[1m50/50\u001b[0m \u001b[32m━━━━━━━━━━━━━━━━━━━━\u001b[0m\u001b[37m\u001b[0m \u001b[1m0s\u001b[0m 4ms/step - loss: 8329021.0000 - val_loss: 8053147.0000\n",
      "Epoch 48/250\n",
      "\u001b[1m50/50\u001b[0m \u001b[32m━━━━━━━━━━━━━━━━━━━━\u001b[0m\u001b[37m\u001b[0m \u001b[1m0s\u001b[0m 3ms/step - loss: 8278825.5000 - val_loss: 7891693.5000\n",
      "Epoch 49/250\n",
      "\u001b[1m50/50\u001b[0m \u001b[32m━━━━━━━━━━━━━━━━━━━━\u001b[0m\u001b[37m\u001b[0m \u001b[1m0s\u001b[0m 3ms/step - loss: 7779140.5000 - val_loss: 7758608.0000\n",
      "Epoch 50/250\n",
      "\u001b[1m50/50\u001b[0m \u001b[32m━━━━━━━━━━━━━━━━━━━━\u001b[0m\u001b[37m\u001b[0m \u001b[1m0s\u001b[0m 3ms/step - loss: 7828395.5000 - val_loss: 7560344.5000\n",
      "Epoch 51/250\n",
      "\u001b[1m50/50\u001b[0m \u001b[32m━━━━━━━━━━━━━━━━━━━━\u001b[0m\u001b[37m\u001b[0m \u001b[1m0s\u001b[0m 4ms/step - loss: 7574234.5000 - val_loss: 7391596.0000\n",
      "Epoch 52/250\n",
      "\u001b[1m50/50\u001b[0m \u001b[32m━━━━━━━━━━━━━━━━━━━━\u001b[0m\u001b[37m\u001b[0m \u001b[1m0s\u001b[0m 4ms/step - loss: 7420090.0000 - val_loss: 7235996.5000\n",
      "Epoch 53/250\n",
      "\u001b[1m50/50\u001b[0m \u001b[32m━━━━━━━━━━━━━━━━━━━━\u001b[0m\u001b[37m\u001b[0m \u001b[1m0s\u001b[0m 3ms/step - loss: 7049269.5000 - val_loss: 7092761.5000\n",
      "Epoch 54/250\n",
      "\u001b[1m50/50\u001b[0m \u001b[32m━━━━━━━━━━━━━━━━━━━━\u001b[0m\u001b[37m\u001b[0m \u001b[1m0s\u001b[0m 3ms/step - loss: 6985046.5000 - val_loss: 6973039.0000\n",
      "Epoch 55/250\n",
      "\u001b[1m50/50\u001b[0m \u001b[32m━━━━━━━━━━━━━━━━━━━━\u001b[0m\u001b[37m\u001b[0m \u001b[1m0s\u001b[0m 3ms/step - loss: 7036426.5000 - val_loss: 6876913.5000\n",
      "Epoch 56/250\n",
      "\u001b[1m50/50\u001b[0m \u001b[32m━━━━━━━━━━━━━━━━━━━━\u001b[0m\u001b[37m\u001b[0m \u001b[1m0s\u001b[0m 4ms/step - loss: 7225609.0000 - val_loss: 6787152.5000\n",
      "Epoch 57/250\n",
      "\u001b[1m50/50\u001b[0m \u001b[32m━━━━━━━━━━━━━━━━━━━━\u001b[0m\u001b[37m\u001b[0m \u001b[1m0s\u001b[0m 4ms/step - loss: 6686320.5000 - val_loss: 6697496.5000\n",
      "Epoch 58/250\n",
      "\u001b[1m50/50\u001b[0m \u001b[32m━━━━━━━━━━━━━━━━━━━━\u001b[0m\u001b[37m\u001b[0m \u001b[1m0s\u001b[0m 3ms/step - loss: 6738135.0000 - val_loss: 6604418.5000\n",
      "Epoch 59/250\n",
      "\u001b[1m50/50\u001b[0m \u001b[32m━━━━━━━━━━━━━━━━━━━━\u001b[0m\u001b[37m\u001b[0m \u001b[1m0s\u001b[0m 4ms/step - loss: 6641512.0000 - val_loss: 6539318.5000\n",
      "Epoch 60/250\n",
      "\u001b[1m50/50\u001b[0m \u001b[32m━━━━━━━━━━━━━━━━━━━━\u001b[0m\u001b[37m\u001b[0m \u001b[1m0s\u001b[0m 3ms/step - loss: 6687611.0000 - val_loss: 6439564.5000\n",
      "Epoch 61/250\n",
      "\u001b[1m50/50\u001b[0m \u001b[32m━━━━━━━━━━━━━━━━━━━━\u001b[0m\u001b[37m\u001b[0m \u001b[1m0s\u001b[0m 3ms/step - loss: 6459370.5000 - val_loss: 6365912.0000\n",
      "Epoch 62/250\n",
      "\u001b[1m50/50\u001b[0m \u001b[32m━━━━━━━━━━━━━━━━━━━━\u001b[0m\u001b[37m\u001b[0m \u001b[1m0s\u001b[0m 3ms/step - loss: 6512929.0000 - val_loss: 6300076.5000\n",
      "Epoch 63/250\n",
      "\u001b[1m50/50\u001b[0m \u001b[32m━━━━━━━━━━━━━━━━━━━━\u001b[0m\u001b[37m\u001b[0m \u001b[1m0s\u001b[0m 3ms/step - loss: 6590056.0000 - val_loss: 6230196.0000\n",
      "Epoch 64/250\n",
      "\u001b[1m50/50\u001b[0m \u001b[32m━━━━━━━━━━━━━━━━━━━━\u001b[0m\u001b[37m\u001b[0m \u001b[1m0s\u001b[0m 3ms/step - loss: 6433526.5000 - val_loss: 6179260.5000\n",
      "Epoch 65/250\n",
      "\u001b[1m50/50\u001b[0m \u001b[32m━━━━━━━━━━━━━━━━━━━━\u001b[0m\u001b[37m\u001b[0m \u001b[1m0s\u001b[0m 3ms/step - loss: 6049727.0000 - val_loss: 6115585.5000\n",
      "Epoch 66/250\n",
      "\u001b[1m50/50\u001b[0m \u001b[32m━━━━━━━━━━━━━━━━━━━━\u001b[0m\u001b[37m\u001b[0m \u001b[1m0s\u001b[0m 4ms/step - loss: 6088401.0000 - val_loss: 6062202.5000\n",
      "Epoch 67/250\n",
      "\u001b[1m50/50\u001b[0m \u001b[32m━━━━━━━━━━━━━━━━━━━━\u001b[0m\u001b[37m\u001b[0m \u001b[1m0s\u001b[0m 3ms/step - loss: 6295610.0000 - val_loss: 6018946.5000\n",
      "Epoch 68/250\n",
      "\u001b[1m50/50\u001b[0m \u001b[32m━━━━━━━━━━━━━━━━━━━━\u001b[0m\u001b[37m\u001b[0m \u001b[1m0s\u001b[0m 4ms/step - loss: 6312318.0000 - val_loss: 5959238.5000\n",
      "Epoch 69/250\n",
      "\u001b[1m50/50\u001b[0m \u001b[32m━━━━━━━━━━━━━━━━━━━━\u001b[0m\u001b[37m\u001b[0m \u001b[1m0s\u001b[0m 3ms/step - loss: 6193881.0000 - val_loss: 5910077.5000\n",
      "Epoch 70/250\n",
      "\u001b[1m50/50\u001b[0m \u001b[32m━━━━━━━━━━━━━━━━━━━━\u001b[0m\u001b[37m\u001b[0m \u001b[1m0s\u001b[0m 4ms/step - loss: 6194757.0000 - val_loss: 5872274.5000\n",
      "Epoch 71/250\n",
      "\u001b[1m50/50\u001b[0m \u001b[32m━━━━━━━━━━━━━━━━━━━━\u001b[0m\u001b[37m\u001b[0m \u001b[1m0s\u001b[0m 4ms/step - loss: 6032109.0000 - val_loss: 5831162.5000\n",
      "Epoch 72/250\n",
      "\u001b[1m50/50\u001b[0m \u001b[32m━━━━━━━━━━━━━━━━━━━━\u001b[0m\u001b[37m\u001b[0m \u001b[1m0s\u001b[0m 4ms/step - loss: 6045037.5000 - val_loss: 5783131.0000\n",
      "Epoch 73/250\n",
      "\u001b[1m50/50\u001b[0m \u001b[32m━━━━━━━━━━━━━━━━━━━━\u001b[0m\u001b[37m\u001b[0m \u001b[1m0s\u001b[0m 3ms/step - loss: 5846877.5000 - val_loss: 5745445.0000\n",
      "Epoch 74/250\n",
      "\u001b[1m50/50\u001b[0m \u001b[32m━━━━━━━━━━━━━━━━━━━━\u001b[0m\u001b[37m\u001b[0m \u001b[1m0s\u001b[0m 4ms/step - loss: 6027112.5000 - val_loss: 5699246.0000\n",
      "Epoch 75/250\n",
      "\u001b[1m50/50\u001b[0m \u001b[32m━━━━━━━━━━━━━━━━━━━━\u001b[0m\u001b[37m\u001b[0m \u001b[1m0s\u001b[0m 3ms/step - loss: 5949548.5000 - val_loss: 5657396.0000\n",
      "Epoch 76/250\n",
      "\u001b[1m50/50\u001b[0m \u001b[32m━━━━━━━━━━━━━━━━━━━━\u001b[0m\u001b[37m\u001b[0m \u001b[1m0s\u001b[0m 3ms/step - loss: 5774775.5000 - val_loss: 5617845.5000\n",
      "Epoch 77/250\n",
      "\u001b[1m50/50\u001b[0m \u001b[32m━━━━━━━━━━━━━━━━━━━━\u001b[0m\u001b[37m\u001b[0m \u001b[1m0s\u001b[0m 4ms/step - loss: 5725319.5000 - val_loss: 5591249.0000\n",
      "Epoch 78/250\n",
      "\u001b[1m50/50\u001b[0m \u001b[32m━━━━━━━━━━━━━━━━━━━━\u001b[0m\u001b[37m\u001b[0m \u001b[1m0s\u001b[0m 3ms/step - loss: 5911789.5000 - val_loss: 5545293.5000\n",
      "Epoch 79/250\n",
      "\u001b[1m50/50\u001b[0m \u001b[32m━━━━━━━━━━━━━━━━━━━━\u001b[0m\u001b[37m\u001b[0m \u001b[1m0s\u001b[0m 3ms/step - loss: 5993382.5000 - val_loss: 5517492.5000\n",
      "Epoch 80/250\n",
      "\u001b[1m50/50\u001b[0m \u001b[32m━━━━━━━━━━━━━━━━━━━━\u001b[0m\u001b[37m\u001b[0m \u001b[1m0s\u001b[0m 3ms/step - loss: 5537145.5000 - val_loss: 5518720.0000\n",
      "Epoch 81/250\n",
      "\u001b[1m50/50\u001b[0m \u001b[32m━━━━━━━━━━━━━━━━━━━━\u001b[0m\u001b[37m\u001b[0m \u001b[1m0s\u001b[0m 4ms/step - loss: 5640598.0000 - val_loss: 5449977.5000\n",
      "Epoch 82/250\n",
      "\u001b[1m50/50\u001b[0m \u001b[32m━━━━━━━━━━━━━━━━━━━━\u001b[0m\u001b[37m\u001b[0m \u001b[1m0s\u001b[0m 3ms/step - loss: 5606680.5000 - val_loss: 5454693.5000\n",
      "Epoch 83/250\n",
      "\u001b[1m50/50\u001b[0m \u001b[32m━━━━━━━━━━━━━━━━━━━━\u001b[0m\u001b[37m\u001b[0m \u001b[1m0s\u001b[0m 3ms/step - loss: 5678185.5000 - val_loss: 5393983.0000\n",
      "Epoch 84/250\n",
      "\u001b[1m50/50\u001b[0m \u001b[32m━━━━━━━━━━━━━━━━━━━━\u001b[0m\u001b[37m\u001b[0m \u001b[1m0s\u001b[0m 3ms/step - loss: 5373127.5000 - val_loss: 5370301.0000\n",
      "Epoch 85/250\n",
      "\u001b[1m50/50\u001b[0m \u001b[32m━━━━━━━━━━━━━━━━━━━━\u001b[0m\u001b[37m\u001b[0m \u001b[1m0s\u001b[0m 3ms/step - loss: 5846697.5000 - val_loss: 5367621.5000\n",
      "Epoch 86/250\n",
      "\u001b[1m50/50\u001b[0m \u001b[32m━━━━━━━━━━━━━━━━━━━━\u001b[0m\u001b[37m\u001b[0m \u001b[1m0s\u001b[0m 3ms/step - loss: 5347288.5000 - val_loss: 5315157.0000\n",
      "Epoch 87/250\n",
      "\u001b[1m50/50\u001b[0m \u001b[32m━━━━━━━━━━━━━━━━━━━━\u001b[0m\u001b[37m\u001b[0m \u001b[1m0s\u001b[0m 4ms/step - loss: 5110713.0000 - val_loss: 5285559.5000\n",
      "Epoch 88/250\n",
      "\u001b[1m50/50\u001b[0m \u001b[32m━━━━━━━━━━━━━━━━━━━━\u001b[0m\u001b[37m\u001b[0m \u001b[1m0s\u001b[0m 3ms/step - loss: 5363588.5000 - val_loss: 5250194.5000\n",
      "Epoch 89/250\n",
      "\u001b[1m50/50\u001b[0m \u001b[32m━━━━━━━━━━━━━━━━━━━━\u001b[0m\u001b[37m\u001b[0m \u001b[1m0s\u001b[0m 3ms/step - loss: 5362145.5000 - val_loss: 5227475.0000\n",
      "Epoch 90/250\n",
      "\u001b[1m50/50\u001b[0m \u001b[32m━━━━━━━━━━━━━━━━━━━━\u001b[0m\u001b[37m\u001b[0m \u001b[1m0s\u001b[0m 4ms/step - loss: 5263824.0000 - val_loss: 5208674.0000\n",
      "Epoch 91/250\n",
      "\u001b[1m50/50\u001b[0m \u001b[32m━━━━━━━━━━━━━━━━━━━━\u001b[0m\u001b[37m\u001b[0m \u001b[1m0s\u001b[0m 4ms/step - loss: 5366200.0000 - val_loss: 5192163.5000\n",
      "Epoch 92/250\n",
      "\u001b[1m50/50\u001b[0m \u001b[32m━━━━━━━━━━━━━━━━━━━━\u001b[0m\u001b[37m\u001b[0m \u001b[1m0s\u001b[0m 3ms/step - loss: 5215983.5000 - val_loss: 5165486.5000\n",
      "Epoch 93/250\n",
      "\u001b[1m50/50\u001b[0m \u001b[32m━━━━━━━━━━━━━━━━━━━━\u001b[0m\u001b[37m\u001b[0m \u001b[1m0s\u001b[0m 3ms/step - loss: 5544617.0000 - val_loss: 5142894.0000\n",
      "Epoch 94/250\n",
      "\u001b[1m50/50\u001b[0m \u001b[32m━━━━━━━━━━━━━━━━━━━━\u001b[0m\u001b[37m\u001b[0m \u001b[1m0s\u001b[0m 3ms/step - loss: 5422985.0000 - val_loss: 5126962.0000\n",
      "Epoch 95/250\n",
      "\u001b[1m50/50\u001b[0m \u001b[32m━━━━━━━━━━━━━━━━━━━━\u001b[0m\u001b[37m\u001b[0m \u001b[1m0s\u001b[0m 3ms/step - loss: 5345716.5000 - val_loss: 5119782.5000\n",
      "Epoch 96/250\n",
      "\u001b[1m50/50\u001b[0m \u001b[32m━━━━━━━━━━━━━━━━━━━━\u001b[0m\u001b[37m\u001b[0m \u001b[1m0s\u001b[0m 3ms/step - loss: 5131169.0000 - val_loss: 5093783.0000\n",
      "Epoch 97/250\n",
      "\u001b[1m50/50\u001b[0m \u001b[32m━━━━━━━━━━━━━━━━━━━━\u001b[0m\u001b[37m\u001b[0m \u001b[1m0s\u001b[0m 3ms/step - loss: 5341102.0000 - val_loss: 5072962.5000\n",
      "Epoch 98/250\n",
      "\u001b[1m50/50\u001b[0m \u001b[32m━━━━━━━━━━━━━━━━━━━━\u001b[0m\u001b[37m\u001b[0m \u001b[1m0s\u001b[0m 4ms/step - loss: 5497202.5000 - val_loss: 5068621.5000\n",
      "Epoch 99/250\n",
      "\u001b[1m50/50\u001b[0m \u001b[32m━━━━━━━━━━━━━━━━━━━━\u001b[0m\u001b[37m\u001b[0m \u001b[1m0s\u001b[0m 4ms/step - loss: 5188695.0000 - val_loss: 5042159.0000\n",
      "Epoch 100/250\n",
      "\u001b[1m50/50\u001b[0m \u001b[32m━━━━━━━━━━━━━━━━━━━━\u001b[0m\u001b[37m\u001b[0m \u001b[1m0s\u001b[0m 5ms/step - loss: 4869127.0000 - val_loss: 5027105.5000\n",
      "Epoch 101/250\n",
      "\u001b[1m50/50\u001b[0m \u001b[32m━━━━━━━━━━━━━━━━━━━━\u001b[0m\u001b[37m\u001b[0m \u001b[1m0s\u001b[0m 4ms/step - loss: 5219002.0000 - val_loss: 5010839.5000\n",
      "Epoch 102/250\n",
      "\u001b[1m50/50\u001b[0m \u001b[32m━━━━━━━━━━━━━━━━━━━━\u001b[0m\u001b[37m\u001b[0m \u001b[1m0s\u001b[0m 4ms/step - loss: 5002590.0000 - val_loss: 5000488.0000\n",
      "Epoch 103/250\n",
      "\u001b[1m50/50\u001b[0m \u001b[32m━━━━━━━━━━━━━━━━━━━━\u001b[0m\u001b[37m\u001b[0m \u001b[1m0s\u001b[0m 4ms/step - loss: 4944178.5000 - val_loss: 4983359.0000\n",
      "Epoch 104/250\n",
      "\u001b[1m50/50\u001b[0m \u001b[32m━━━━━━━━━━━━━━━━━━━━\u001b[0m\u001b[37m\u001b[0m \u001b[1m0s\u001b[0m 4ms/step - loss: 5144471.0000 - val_loss: 4979212.5000\n",
      "Epoch 105/250\n",
      "\u001b[1m50/50\u001b[0m \u001b[32m━━━━━━━━━━━━━━━━━━━━\u001b[0m\u001b[37m\u001b[0m \u001b[1m0s\u001b[0m 4ms/step - loss: 4890007.5000 - val_loss: 4953210.5000\n",
      "Epoch 106/250\n",
      "\u001b[1m50/50\u001b[0m \u001b[32m━━━━━━━━━━━━━━━━━━━━\u001b[0m\u001b[37m\u001b[0m \u001b[1m0s\u001b[0m 3ms/step - loss: 5042798.0000 - val_loss: 4937342.0000\n",
      "Epoch 107/250\n",
      "\u001b[1m50/50\u001b[0m \u001b[32m━━━━━━━━━━━━━━━━━━━━\u001b[0m\u001b[37m\u001b[0m \u001b[1m0s\u001b[0m 5ms/step - loss: 5028631.5000 - val_loss: 4936375.0000\n",
      "Epoch 108/250\n",
      "\u001b[1m50/50\u001b[0m \u001b[32m━━━━━━━━━━━━━━━━━━━━\u001b[0m\u001b[37m\u001b[0m \u001b[1m0s\u001b[0m 3ms/step - loss: 5229509.5000 - val_loss: 4921765.5000\n",
      "Epoch 109/250\n",
      "\u001b[1m50/50\u001b[0m \u001b[32m━━━━━━━━━━━━━━━━━━━━\u001b[0m\u001b[37m\u001b[0m \u001b[1m0s\u001b[0m 3ms/step - loss: 5011908.0000 - val_loss: 4896088.0000\n",
      "Epoch 110/250\n",
      "\u001b[1m50/50\u001b[0m \u001b[32m━━━━━━━━━━━━━━━━━━━━\u001b[0m\u001b[37m\u001b[0m \u001b[1m0s\u001b[0m 3ms/step - loss: 4828775.0000 - val_loss: 4889513.5000\n",
      "Epoch 111/250\n",
      "\u001b[1m50/50\u001b[0m \u001b[32m━━━━━━━━━━━━━━━━━━━━\u001b[0m\u001b[37m\u001b[0m \u001b[1m0s\u001b[0m 3ms/step - loss: 4993129.0000 - val_loss: 4876589.0000\n",
      "Epoch 112/250\n",
      "\u001b[1m50/50\u001b[0m \u001b[32m━━━━━━━━━━━━━━━━━━━━\u001b[0m\u001b[37m\u001b[0m \u001b[1m0s\u001b[0m 4ms/step - loss: 5027820.0000 - val_loss: 4870368.0000\n",
      "Epoch 113/250\n",
      "\u001b[1m50/50\u001b[0m \u001b[32m━━━━━━━━━━━━━━━━━━━━\u001b[0m\u001b[37m\u001b[0m \u001b[1m0s\u001b[0m 4ms/step - loss: 4891886.5000 - val_loss: 4848325.5000\n",
      "Epoch 114/250\n",
      "\u001b[1m50/50\u001b[0m \u001b[32m━━━━━━━━━━━━━━━━━━━━\u001b[0m\u001b[37m\u001b[0m \u001b[1m0s\u001b[0m 4ms/step - loss: 5073386.0000 - val_loss: 4833359.0000\n",
      "Epoch 115/250\n",
      "\u001b[1m50/50\u001b[0m \u001b[32m━━━━━━━━━━━━━━━━━━━━\u001b[0m\u001b[37m\u001b[0m \u001b[1m0s\u001b[0m 3ms/step - loss: 5028926.0000 - val_loss: 4817978.5000\n",
      "Epoch 116/250\n",
      "\u001b[1m50/50\u001b[0m \u001b[32m━━━━━━━━━━━━━━━━━━━━\u001b[0m\u001b[37m\u001b[0m \u001b[1m0s\u001b[0m 4ms/step - loss: 4952933.0000 - val_loss: 4827011.5000\n",
      "Epoch 117/250\n",
      "\u001b[1m50/50\u001b[0m \u001b[32m━━━━━━━━━━━━━━━━━━━━\u001b[0m\u001b[37m\u001b[0m \u001b[1m0s\u001b[0m 3ms/step - loss: 4945461.5000 - val_loss: 4799994.0000\n",
      "Epoch 118/250\n",
      "\u001b[1m50/50\u001b[0m \u001b[32m━━━━━━━━━━━━━━━━━━━━\u001b[0m\u001b[37m\u001b[0m \u001b[1m0s\u001b[0m 4ms/step - loss: 4794822.5000 - val_loss: 4779202.0000\n",
      "Epoch 119/250\n",
      "\u001b[1m50/50\u001b[0m \u001b[32m━━━━━━━━━━━━━━━━━━━━\u001b[0m\u001b[37m\u001b[0m \u001b[1m0s\u001b[0m 4ms/step - loss: 4970876.0000 - val_loss: 4775439.5000\n",
      "Epoch 120/250\n",
      "\u001b[1m50/50\u001b[0m \u001b[32m━━━━━━━━━━━━━━━━━━━━\u001b[0m\u001b[37m\u001b[0m \u001b[1m0s\u001b[0m 3ms/step - loss: 5008541.5000 - val_loss: 4778235.0000\n",
      "Epoch 121/250\n",
      "\u001b[1m50/50\u001b[0m \u001b[32m━━━━━━━━━━━━━━━━━━━━\u001b[0m\u001b[37m\u001b[0m \u001b[1m0s\u001b[0m 3ms/step - loss: 4730646.5000 - val_loss: 4749749.5000\n",
      "Epoch 122/250\n",
      "\u001b[1m50/50\u001b[0m \u001b[32m━━━━━━━━━━━━━━━━━━━━\u001b[0m\u001b[37m\u001b[0m \u001b[1m0s\u001b[0m 3ms/step - loss: 4932153.5000 - val_loss: 4760855.5000\n",
      "Epoch 123/250\n",
      "\u001b[1m50/50\u001b[0m \u001b[32m━━━━━━━━━━━━━━━━━━━━\u001b[0m\u001b[37m\u001b[0m \u001b[1m0s\u001b[0m 4ms/step - loss: 5462039.0000 - val_loss: 4723107.0000\n",
      "Epoch 124/250\n",
      "\u001b[1m50/50\u001b[0m \u001b[32m━━━━━━━━━━━━━━━━━━━━\u001b[0m\u001b[37m\u001b[0m \u001b[1m0s\u001b[0m 4ms/step - loss: 4989197.0000 - val_loss: 4703874.5000\n",
      "Epoch 125/250\n",
      "\u001b[1m50/50\u001b[0m \u001b[32m━━━━━━━━━━━━━━━━━━━━\u001b[0m\u001b[37m\u001b[0m \u001b[1m0s\u001b[0m 4ms/step - loss: 5114266.5000 - val_loss: 4718038.0000\n",
      "Epoch 126/250\n",
      "\u001b[1m50/50\u001b[0m \u001b[32m━━━━━━━━━━━━━━━━━━━━\u001b[0m\u001b[37m\u001b[0m \u001b[1m0s\u001b[0m 3ms/step - loss: 4710914.0000 - val_loss: 4686602.5000\n",
      "Epoch 127/250\n",
      "\u001b[1m50/50\u001b[0m \u001b[32m━━━━━━━━━━━━━━━━━━━━\u001b[0m\u001b[37m\u001b[0m \u001b[1m0s\u001b[0m 4ms/step - loss: 4711837.0000 - val_loss: 4673584.0000\n",
      "Epoch 128/250\n",
      "\u001b[1m50/50\u001b[0m \u001b[32m━━━━━━━━━━━━━━━━━━━━\u001b[0m\u001b[37m\u001b[0m \u001b[1m0s\u001b[0m 3ms/step - loss: 4820380.0000 - val_loss: 4667561.5000\n",
      "Epoch 129/250\n",
      "\u001b[1m50/50\u001b[0m \u001b[32m━━━━━━━━━━━━━━━━━━━━\u001b[0m\u001b[37m\u001b[0m \u001b[1m0s\u001b[0m 4ms/step - loss: 4820871.5000 - val_loss: 4659703.0000\n",
      "Epoch 130/250\n",
      "\u001b[1m50/50\u001b[0m \u001b[32m━━━━━━━━━━━━━━━━━━━━\u001b[0m\u001b[37m\u001b[0m \u001b[1m0s\u001b[0m 4ms/step - loss: 4817335.5000 - val_loss: 4643702.5000\n",
      "Epoch 131/250\n",
      "\u001b[1m50/50\u001b[0m \u001b[32m━━━━━━━━━━━━━━━━━━━━\u001b[0m\u001b[37m\u001b[0m \u001b[1m0s\u001b[0m 4ms/step - loss: 4669451.5000 - val_loss: 4628597.5000\n",
      "Epoch 132/250\n",
      "\u001b[1m50/50\u001b[0m \u001b[32m━━━━━━━━━━━━━━━━━━━━\u001b[0m\u001b[37m\u001b[0m \u001b[1m0s\u001b[0m 3ms/step - loss: 4636486.0000 - val_loss: 4620453.5000\n",
      "Epoch 133/250\n",
      "\u001b[1m50/50\u001b[0m \u001b[32m━━━━━━━━━━━━━━━━━━━━\u001b[0m\u001b[37m\u001b[0m \u001b[1m0s\u001b[0m 3ms/step - loss: 4771655.5000 - val_loss: 4649230.5000\n",
      "Epoch 134/250\n",
      "\u001b[1m50/50\u001b[0m \u001b[32m━━━━━━━━━━━━━━━━━━━━\u001b[0m\u001b[37m\u001b[0m \u001b[1m0s\u001b[0m 3ms/step - loss: 4572272.5000 - val_loss: 4603781.0000\n",
      "Epoch 135/250\n",
      "\u001b[1m50/50\u001b[0m \u001b[32m━━━━━━━━━━━━━━━━━━━━\u001b[0m\u001b[37m\u001b[0m \u001b[1m0s\u001b[0m 3ms/step - loss: 4941408.0000 - val_loss: 4593846.0000\n",
      "Epoch 136/250\n",
      "\u001b[1m50/50\u001b[0m \u001b[32m━━━━━━━━━━━━━━━━━━━━\u001b[0m\u001b[37m\u001b[0m \u001b[1m0s\u001b[0m 4ms/step - loss: 4700927.0000 - val_loss: 4580679.5000\n",
      "Epoch 137/250\n",
      "\u001b[1m50/50\u001b[0m \u001b[32m━━━━━━━━━━━━━━━━━━━━\u001b[0m\u001b[37m\u001b[0m \u001b[1m0s\u001b[0m 3ms/step - loss: 4600492.0000 - val_loss: 4577594.5000\n",
      "Epoch 138/250\n",
      "\u001b[1m50/50\u001b[0m \u001b[32m━━━━━━━━━━━━━━━━━━━━\u001b[0m\u001b[37m\u001b[0m \u001b[1m0s\u001b[0m 3ms/step - loss: 4716643.0000 - val_loss: 4562314.5000\n",
      "Epoch 139/250\n",
      "\u001b[1m50/50\u001b[0m \u001b[32m━━━━━━━━━━━━━━━━━━━━\u001b[0m\u001b[37m\u001b[0m \u001b[1m0s\u001b[0m 3ms/step - loss: 4569486.0000 - val_loss: 4555651.0000\n",
      "Epoch 140/250\n",
      "\u001b[1m50/50\u001b[0m \u001b[32m━━━━━━━━━━━━━━━━━━━━\u001b[0m\u001b[37m\u001b[0m \u001b[1m0s\u001b[0m 4ms/step - loss: 4534441.0000 - val_loss: 4589932.5000\n",
      "Epoch 141/250\n",
      "\u001b[1m50/50\u001b[0m \u001b[32m━━━━━━━━━━━━━━━━━━━━\u001b[0m\u001b[37m\u001b[0m \u001b[1m0s\u001b[0m 3ms/step - loss: 4595286.0000 - val_loss: 4535507.0000\n",
      "Epoch 142/250\n",
      "\u001b[1m50/50\u001b[0m \u001b[32m━━━━━━━━━━━━━━━━━━━━\u001b[0m\u001b[37m\u001b[0m \u001b[1m0s\u001b[0m 3ms/step - loss: 4669006.5000 - val_loss: 4533548.5000\n",
      "Epoch 143/250\n",
      "\u001b[1m50/50\u001b[0m \u001b[32m━━━━━━━━━━━━━━━━━━━━\u001b[0m\u001b[37m\u001b[0m \u001b[1m0s\u001b[0m 3ms/step - loss: 4608353.5000 - val_loss: 4515553.0000\n",
      "Epoch 144/250\n",
      "\u001b[1m50/50\u001b[0m \u001b[32m━━━━━━━━━━━━━━━━━━━━\u001b[0m\u001b[37m\u001b[0m \u001b[1m0s\u001b[0m 3ms/step - loss: 4599428.5000 - val_loss: 4507484.0000\n",
      "Epoch 145/250\n",
      "\u001b[1m50/50\u001b[0m \u001b[32m━━━━━━━━━━━━━━━━━━━━\u001b[0m\u001b[37m\u001b[0m \u001b[1m0s\u001b[0m 3ms/step - loss: 4558375.0000 - val_loss: 4518546.5000\n",
      "Epoch 146/250\n",
      "\u001b[1m50/50\u001b[0m \u001b[32m━━━━━━━━━━━━━━━━━━━━\u001b[0m\u001b[37m\u001b[0m \u001b[1m0s\u001b[0m 3ms/step - loss: 4506108.5000 - val_loss: 4490997.5000\n",
      "Epoch 147/250\n",
      "\u001b[1m50/50\u001b[0m \u001b[32m━━━━━━━━━━━━━━━━━━━━\u001b[0m\u001b[37m\u001b[0m \u001b[1m0s\u001b[0m 3ms/step - loss: 4548227.5000 - val_loss: 4483678.0000\n",
      "Epoch 148/250\n",
      "\u001b[1m50/50\u001b[0m \u001b[32m━━━━━━━━━━━━━━━━━━━━\u001b[0m\u001b[37m\u001b[0m \u001b[1m0s\u001b[0m 3ms/step - loss: 4736935.0000 - val_loss: 4478110.5000\n",
      "Epoch 149/250\n",
      "\u001b[1m50/50\u001b[0m \u001b[32m━━━━━━━━━━━━━━━━━━━━\u001b[0m\u001b[37m\u001b[0m \u001b[1m0s\u001b[0m 3ms/step - loss: 4748680.5000 - val_loss: 4473983.5000\n",
      "Epoch 150/250\n",
      "\u001b[1m50/50\u001b[0m \u001b[32m━━━━━━━━━━━━━━━━━━━━\u001b[0m\u001b[37m\u001b[0m \u001b[1m0s\u001b[0m 3ms/step - loss: 4685778.0000 - val_loss: 4476995.0000\n",
      "Epoch 151/250\n",
      "\u001b[1m50/50\u001b[0m \u001b[32m━━━━━━━━━━━━━━━━━━━━\u001b[0m\u001b[37m\u001b[0m \u001b[1m0s\u001b[0m 4ms/step - loss: 4605376.5000 - val_loss: 4448169.5000\n",
      "Epoch 152/250\n",
      "\u001b[1m50/50\u001b[0m \u001b[32m━━━━━━━━━━━━━━━━━━━━\u001b[0m\u001b[37m\u001b[0m \u001b[1m0s\u001b[0m 3ms/step - loss: 4385882.0000 - val_loss: 4448096.0000\n",
      "Epoch 153/250\n",
      "\u001b[1m50/50\u001b[0m \u001b[32m━━━━━━━━━━━━━━━━━━━━\u001b[0m\u001b[37m\u001b[0m \u001b[1m0s\u001b[0m 4ms/step - loss: 4495630.5000 - val_loss: 4438140.0000\n",
      "Epoch 154/250\n",
      "\u001b[1m50/50\u001b[0m \u001b[32m━━━━━━━━━━━━━━━━━━━━\u001b[0m\u001b[37m\u001b[0m \u001b[1m0s\u001b[0m 3ms/step - loss: 4669038.0000 - val_loss: 4426807.5000\n",
      "Epoch 155/250\n",
      "\u001b[1m50/50\u001b[0m \u001b[32m━━━━━━━━━━━━━━━━━━━━\u001b[0m\u001b[37m\u001b[0m \u001b[1m0s\u001b[0m 4ms/step - loss: 4753928.5000 - val_loss: 4417033.5000\n",
      "Epoch 156/250\n",
      "\u001b[1m50/50\u001b[0m \u001b[32m━━━━━━━━━━━━━━━━━━━━\u001b[0m\u001b[37m\u001b[0m \u001b[1m0s\u001b[0m 3ms/step - loss: 4558495.0000 - val_loss: 4433702.5000\n",
      "Epoch 157/250\n",
      "\u001b[1m50/50\u001b[0m \u001b[32m━━━━━━━━━━━━━━━━━━━━\u001b[0m\u001b[37m\u001b[0m \u001b[1m0s\u001b[0m 3ms/step - loss: 4434490.5000 - val_loss: 4409217.5000\n",
      "Epoch 158/250\n",
      "\u001b[1m50/50\u001b[0m \u001b[32m━━━━━━━━━━━━━━━━━━━━\u001b[0m\u001b[37m\u001b[0m \u001b[1m0s\u001b[0m 3ms/step - loss: 4546856.5000 - val_loss: 4401723.0000\n",
      "Epoch 159/250\n",
      "\u001b[1m50/50\u001b[0m \u001b[32m━━━━━━━━━━━━━━━━━━━━\u001b[0m\u001b[37m\u001b[0m \u001b[1m0s\u001b[0m 3ms/step - loss: 4559883.5000 - val_loss: 4389182.5000\n",
      "Epoch 160/250\n",
      "\u001b[1m50/50\u001b[0m \u001b[32m━━━━━━━━━━━━━━━━━━━━\u001b[0m\u001b[37m\u001b[0m \u001b[1m0s\u001b[0m 4ms/step - loss: 4649744.5000 - val_loss: 4386384.5000\n",
      "Epoch 161/250\n",
      "\u001b[1m50/50\u001b[0m \u001b[32m━━━━━━━━━━━━━━━━━━━━\u001b[0m\u001b[37m\u001b[0m \u001b[1m0s\u001b[0m 3ms/step - loss: 4510201.5000 - val_loss: 4379187.5000\n",
      "Epoch 162/250\n",
      "\u001b[1m50/50\u001b[0m \u001b[32m━━━━━━━━━━━━━━━━━━━━\u001b[0m\u001b[37m\u001b[0m \u001b[1m0s\u001b[0m 4ms/step - loss: 4439731.5000 - val_loss: 4367088.5000\n",
      "Epoch 163/250\n",
      "\u001b[1m50/50\u001b[0m \u001b[32m━━━━━━━━━━━━━━━━━━━━\u001b[0m\u001b[37m\u001b[0m \u001b[1m0s\u001b[0m 3ms/step - loss: 4716819.0000 - val_loss: 4365545.5000\n",
      "Epoch 164/250\n",
      "\u001b[1m50/50\u001b[0m \u001b[32m━━━━━━━━━━━━━━━━━━━━\u001b[0m\u001b[37m\u001b[0m \u001b[1m0s\u001b[0m 3ms/step - loss: 4597473.0000 - val_loss: 4355618.0000\n",
      "Epoch 165/250\n",
      "\u001b[1m50/50\u001b[0m \u001b[32m━━━━━━━━━━━━━━━━━━━━\u001b[0m\u001b[37m\u001b[0m \u001b[1m0s\u001b[0m 3ms/step - loss: 4541940.5000 - val_loss: 4360139.0000\n",
      "Epoch 166/250\n",
      "\u001b[1m50/50\u001b[0m \u001b[32m━━━━━━━━━━━━━━━━━━━━\u001b[0m\u001b[37m\u001b[0m \u001b[1m0s\u001b[0m 4ms/step - loss: 4471157.0000 - val_loss: 4354042.0000\n",
      "Epoch 167/250\n",
      "\u001b[1m50/50\u001b[0m \u001b[32m━━━━━━━━━━━━━━━━━━━━\u001b[0m\u001b[37m\u001b[0m \u001b[1m0s\u001b[0m 3ms/step - loss: 4654760.0000 - val_loss: 4366522.5000\n",
      "Epoch 168/250\n",
      "\u001b[1m50/50\u001b[0m \u001b[32m━━━━━━━━━━━━━━━━━━━━\u001b[0m\u001b[37m\u001b[0m \u001b[1m0s\u001b[0m 3ms/step - loss: 4505640.0000 - val_loss: 4337665.5000\n",
      "Epoch 169/250\n",
      "\u001b[1m50/50\u001b[0m \u001b[32m━━━━━━━━━━━━━━━━━━━━\u001b[0m\u001b[37m\u001b[0m \u001b[1m0s\u001b[0m 3ms/step - loss: 4494410.5000 - val_loss: 4324805.5000\n",
      "Epoch 170/250\n",
      "\u001b[1m50/50\u001b[0m \u001b[32m━━━━━━━━━━━━━━━━━━━━\u001b[0m\u001b[37m\u001b[0m \u001b[1m0s\u001b[0m 4ms/step - loss: 4719115.0000 - val_loss: 4329255.0000\n",
      "Epoch 171/250\n",
      "\u001b[1m50/50\u001b[0m \u001b[32m━━━━━━━━━━━━━━━━━━━━\u001b[0m\u001b[37m\u001b[0m \u001b[1m0s\u001b[0m 3ms/step - loss: 4316344.5000 - val_loss: 4350326.0000\n",
      "Epoch 172/250\n",
      "\u001b[1m50/50\u001b[0m \u001b[32m━━━━━━━━━━━━━━━━━━━━\u001b[0m\u001b[37m\u001b[0m \u001b[1m0s\u001b[0m 3ms/step - loss: 4402620.5000 - val_loss: 4339612.0000\n",
      "Epoch 173/250\n",
      "\u001b[1m50/50\u001b[0m \u001b[32m━━━━━━━━━━━━━━━━━━━━\u001b[0m\u001b[37m\u001b[0m \u001b[1m0s\u001b[0m 4ms/step - loss: 4450620.5000 - val_loss: 4298792.0000\n",
      "Epoch 174/250\n",
      "\u001b[1m50/50\u001b[0m \u001b[32m━━━━━━━━━━━━━━━━━━━━\u001b[0m\u001b[37m\u001b[0m \u001b[1m0s\u001b[0m 3ms/step - loss: 4497694.5000 - val_loss: 4327943.5000\n",
      "Epoch 175/250\n",
      "\u001b[1m50/50\u001b[0m \u001b[32m━━━━━━━━━━━━━━━━━━━━\u001b[0m\u001b[37m\u001b[0m \u001b[1m0s\u001b[0m 4ms/step - loss: 4248897.0000 - val_loss: 4290334.5000\n",
      "Epoch 176/250\n",
      "\u001b[1m50/50\u001b[0m \u001b[32m━━━━━━━━━━━━━━━━━━━━\u001b[0m\u001b[37m\u001b[0m \u001b[1m0s\u001b[0m 3ms/step - loss: 4442994.0000 - val_loss: 4281953.0000\n",
      "Epoch 177/250\n",
      "\u001b[1m50/50\u001b[0m \u001b[32m━━━━━━━━━━━━━━━━━━━━\u001b[0m\u001b[37m\u001b[0m \u001b[1m0s\u001b[0m 4ms/step - loss: 4443055.5000 - val_loss: 4281336.5000\n",
      "Epoch 178/250\n",
      "\u001b[1m50/50\u001b[0m \u001b[32m━━━━━━━━━━━━━━━━━━━━\u001b[0m\u001b[37m\u001b[0m \u001b[1m0s\u001b[0m 3ms/step - loss: 4429970.5000 - val_loss: 4275097.5000\n",
      "Epoch 179/250\n",
      "\u001b[1m50/50\u001b[0m \u001b[32m━━━━━━━━━━━━━━━━━━━━\u001b[0m\u001b[37m\u001b[0m \u001b[1m0s\u001b[0m 4ms/step - loss: 4394585.5000 - val_loss: 4298293.5000\n",
      "Epoch 180/250\n",
      "\u001b[1m50/50\u001b[0m \u001b[32m━━━━━━━━━━━━━━━━━━━━\u001b[0m\u001b[37m\u001b[0m \u001b[1m0s\u001b[0m 3ms/step - loss: 4559492.0000 - val_loss: 4305302.5000\n",
      "Epoch 181/250\n",
      "\u001b[1m50/50\u001b[0m \u001b[32m━━━━━━━━━━━━━━━━━━━━\u001b[0m\u001b[37m\u001b[0m \u001b[1m0s\u001b[0m 3ms/step - loss: 4508674.0000 - val_loss: 4261666.5000\n",
      "Epoch 182/250\n",
      "\u001b[1m50/50\u001b[0m \u001b[32m━━━━━━━━━━━━━━━━━━━━\u001b[0m\u001b[37m\u001b[0m \u001b[1m0s\u001b[0m 3ms/step - loss: 4436143.5000 - val_loss: 4253674.0000\n",
      "Epoch 183/250\n",
      "\u001b[1m50/50\u001b[0m \u001b[32m━━━━━━━━━━━━━━━━━━━━\u001b[0m\u001b[37m\u001b[0m \u001b[1m0s\u001b[0m 3ms/step - loss: 4215510.5000 - val_loss: 4245027.0000\n",
      "Epoch 184/250\n",
      "\u001b[1m50/50\u001b[0m \u001b[32m━━━━━━━━━━━━━━━━━━━━\u001b[0m\u001b[37m\u001b[0m \u001b[1m0s\u001b[0m 3ms/step - loss: 4452647.0000 - val_loss: 4287717.0000\n",
      "Epoch 185/250\n",
      "\u001b[1m50/50\u001b[0m \u001b[32m━━━━━━━━━━━━━━━━━━━━\u001b[0m\u001b[37m\u001b[0m \u001b[1m0s\u001b[0m 4ms/step - loss: 4300986.5000 - val_loss: 4248370.5000\n",
      "Epoch 186/250\n",
      "\u001b[1m50/50\u001b[0m \u001b[32m━━━━━━━━━━━━━━━━━━━━\u001b[0m\u001b[37m\u001b[0m \u001b[1m0s\u001b[0m 4ms/step - loss: 4473286.5000 - val_loss: 4231545.5000\n",
      "Epoch 187/250\n",
      "\u001b[1m50/50\u001b[0m \u001b[32m━━━━━━━━━━━━━━━━━━━━\u001b[0m\u001b[37m\u001b[0m \u001b[1m0s\u001b[0m 4ms/step - loss: 4281109.0000 - val_loss: 4239012.0000\n",
      "Epoch 188/250\n",
      "\u001b[1m50/50\u001b[0m \u001b[32m━━━━━━━━━━━━━━━━━━━━\u001b[0m\u001b[37m\u001b[0m \u001b[1m0s\u001b[0m 4ms/step - loss: 4382217.0000 - val_loss: 4268321.5000\n",
      "Epoch 189/250\n",
      "\u001b[1m50/50\u001b[0m \u001b[32m━━━━━━━━━━━━━━━━━━━━\u001b[0m\u001b[37m\u001b[0m \u001b[1m0s\u001b[0m 3ms/step - loss: 4582477.0000 - val_loss: 4230622.5000\n",
      "Epoch 190/250\n",
      "\u001b[1m50/50\u001b[0m \u001b[32m━━━━━━━━━━━━━━━━━━━━\u001b[0m\u001b[37m\u001b[0m \u001b[1m0s\u001b[0m 3ms/step - loss: 4300394.0000 - val_loss: 4235805.5000\n",
      "Epoch 191/250\n",
      "\u001b[1m50/50\u001b[0m \u001b[32m━━━━━━━━━━━━━━━━━━━━\u001b[0m\u001b[37m\u001b[0m \u001b[1m0s\u001b[0m 3ms/step - loss: 4423465.5000 - val_loss: 4218686.0000\n",
      "Epoch 192/250\n",
      "\u001b[1m50/50\u001b[0m \u001b[32m━━━━━━━━━━━━━━━━━━━━\u001b[0m\u001b[37m\u001b[0m \u001b[1m0s\u001b[0m 3ms/step - loss: 4344934.5000 - val_loss: 4207733.5000\n",
      "Epoch 193/250\n",
      "\u001b[1m50/50\u001b[0m \u001b[32m━━━━━━━━━━━━━━━━━━━━\u001b[0m\u001b[37m\u001b[0m \u001b[1m0s\u001b[0m 4ms/step - loss: 4308777.5000 - val_loss: 4196014.5000\n",
      "Epoch 194/250\n",
      "\u001b[1m50/50\u001b[0m \u001b[32m━━━━━━━━━━━━━━━━━━━━\u001b[0m\u001b[37m\u001b[0m \u001b[1m0s\u001b[0m 4ms/step - loss: 4351012.0000 - val_loss: 4191691.5000\n",
      "Epoch 195/250\n",
      "\u001b[1m50/50\u001b[0m \u001b[32m━━━━━━━━━━━━━━━━━━━━\u001b[0m\u001b[37m\u001b[0m \u001b[1m0s\u001b[0m 3ms/step - loss: 4476878.0000 - val_loss: 4214180.0000\n",
      "Epoch 196/250\n",
      "\u001b[1m50/50\u001b[0m \u001b[32m━━━━━━━━━━━━━━━━━━━━\u001b[0m\u001b[37m\u001b[0m \u001b[1m0s\u001b[0m 4ms/step - loss: 4438268.5000 - val_loss: 4180828.0000\n",
      "Epoch 197/250\n",
      "\u001b[1m50/50\u001b[0m \u001b[32m━━━━━━━━━━━━━━━━━━━━\u001b[0m\u001b[37m\u001b[0m \u001b[1m0s\u001b[0m 3ms/step - loss: 4494794.0000 - val_loss: 4181313.2500\n",
      "Epoch 198/250\n",
      "\u001b[1m50/50\u001b[0m \u001b[32m━━━━━━━━━━━━━━━━━━━━\u001b[0m\u001b[37m\u001b[0m \u001b[1m0s\u001b[0m 3ms/step - loss: 4033852.7500 - val_loss: 4169643.2500\n",
      "Epoch 199/250\n",
      "\u001b[1m50/50\u001b[0m \u001b[32m━━━━━━━━━━━━━━━━━━━━\u001b[0m\u001b[37m\u001b[0m \u001b[1m0s\u001b[0m 3ms/step - loss: 4507212.0000 - val_loss: 4195068.5000\n",
      "Epoch 200/250\n",
      "\u001b[1m50/50\u001b[0m \u001b[32m━━━━━━━━━━━━━━━━━━━━\u001b[0m\u001b[37m\u001b[0m \u001b[1m0s\u001b[0m 4ms/step - loss: 4198364.5000 - val_loss: 4176873.5000\n",
      "Epoch 201/250\n",
      "\u001b[1m50/50\u001b[0m \u001b[32m━━━━━━━━━━━━━━━━━━━━\u001b[0m\u001b[37m\u001b[0m \u001b[1m0s\u001b[0m 3ms/step - loss: 4219366.0000 - val_loss: 4157613.2500\n",
      "Epoch 202/250\n",
      "\u001b[1m50/50\u001b[0m \u001b[32m━━━━━━━━━━━━━━━━━━━━\u001b[0m\u001b[37m\u001b[0m \u001b[1m0s\u001b[0m 4ms/step - loss: 4208063.5000 - val_loss: 4156922.7500\n",
      "Epoch 203/250\n",
      "\u001b[1m50/50\u001b[0m \u001b[32m━━━━━━━━━━━━━━━━━━━━\u001b[0m\u001b[37m\u001b[0m \u001b[1m0s\u001b[0m 3ms/step - loss: 4239194.5000 - val_loss: 4143890.5000\n",
      "Epoch 204/250\n",
      "\u001b[1m50/50\u001b[0m \u001b[32m━━━━━━━━━━━━━━━━━━━━\u001b[0m\u001b[37m\u001b[0m \u001b[1m0s\u001b[0m 3ms/step - loss: 4240509.5000 - val_loss: 4138320.0000\n",
      "Epoch 205/250\n",
      "\u001b[1m50/50\u001b[0m \u001b[32m━━━━━━━━━━━━━━━━━━━━\u001b[0m\u001b[37m\u001b[0m \u001b[1m0s\u001b[0m 3ms/step - loss: 4436484.5000 - val_loss: 4135171.7500\n",
      "Epoch 206/250\n",
      "\u001b[1m50/50\u001b[0m \u001b[32m━━━━━━━━━━━━━━━━━━━━\u001b[0m\u001b[37m\u001b[0m \u001b[1m0s\u001b[0m 3ms/step - loss: 4182200.5000 - val_loss: 4160076.2500\n",
      "Epoch 207/250\n",
      "\u001b[1m50/50\u001b[0m \u001b[32m━━━━━━━━━━━━━━━━━━━━\u001b[0m\u001b[37m\u001b[0m \u001b[1m0s\u001b[0m 4ms/step - loss: 4266357.5000 - val_loss: 4127683.7500\n",
      "Epoch 208/250\n",
      "\u001b[1m50/50\u001b[0m \u001b[32m━━━━━━━━━━━━━━━━━━━━\u001b[0m\u001b[37m\u001b[0m \u001b[1m0s\u001b[0m 4ms/step - loss: 4287680.5000 - val_loss: 4123864.5000\n",
      "Epoch 209/250\n",
      "\u001b[1m50/50\u001b[0m \u001b[32m━━━━━━━━━━━━━━━━━━━━\u001b[0m\u001b[37m\u001b[0m \u001b[1m0s\u001b[0m 4ms/step - loss: 4124244.5000 - val_loss: 4114646.2500\n",
      "Epoch 210/250\n",
      "\u001b[1m50/50\u001b[0m \u001b[32m━━━━━━━━━━━━━━━━━━━━\u001b[0m\u001b[37m\u001b[0m \u001b[1m0s\u001b[0m 3ms/step - loss: 4301813.5000 - val_loss: 4110850.0000\n",
      "Epoch 211/250\n",
      "\u001b[1m50/50\u001b[0m \u001b[32m━━━━━━━━━━━━━━━━━━━━\u001b[0m\u001b[37m\u001b[0m \u001b[1m0s\u001b[0m 4ms/step - loss: 4367387.0000 - val_loss: 4107312.7500\n",
      "Epoch 212/250\n",
      "\u001b[1m50/50\u001b[0m \u001b[32m━━━━━━━━━━━━━━━━━━━━\u001b[0m\u001b[37m\u001b[0m \u001b[1m0s\u001b[0m 4ms/step - loss: 4274432.0000 - val_loss: 4146804.5000\n",
      "Epoch 213/250\n",
      "\u001b[1m50/50\u001b[0m \u001b[32m━━━━━━━━━━━━━━━━━━━━\u001b[0m\u001b[37m\u001b[0m \u001b[1m0s\u001b[0m 4ms/step - loss: 3928326.7500 - val_loss: 4176996.7500\n",
      "Epoch 214/250\n",
      "\u001b[1m50/50\u001b[0m \u001b[32m━━━━━━━━━━━━━━━━━━━━\u001b[0m\u001b[37m\u001b[0m \u001b[1m0s\u001b[0m 3ms/step - loss: 4176123.0000 - val_loss: 4106389.0000\n",
      "Epoch 215/250\n",
      "\u001b[1m50/50\u001b[0m \u001b[32m━━━━━━━━━━━━━━━━━━━━\u001b[0m\u001b[37m\u001b[0m \u001b[1m0s\u001b[0m 3ms/step - loss: 4486846.5000 - val_loss: 4100339.7500\n",
      "Epoch 216/250\n",
      "\u001b[1m50/50\u001b[0m \u001b[32m━━━━━━━━━━━━━━━━━━━━\u001b[0m\u001b[37m\u001b[0m \u001b[1m0s\u001b[0m 3ms/step - loss: 4330015.5000 - val_loss: 4092069.5000\n",
      "Epoch 217/250\n",
      "\u001b[1m50/50\u001b[0m \u001b[32m━━━━━━━━━━━━━━━━━━━━\u001b[0m\u001b[37m\u001b[0m \u001b[1m0s\u001b[0m 3ms/step - loss: 4164839.5000 - val_loss: 4081819.5000\n",
      "Epoch 218/250\n",
      "\u001b[1m50/50\u001b[0m \u001b[32m━━━━━━━━━━━━━━━━━━━━\u001b[0m\u001b[37m\u001b[0m \u001b[1m0s\u001b[0m 3ms/step - loss: 4033522.5000 - val_loss: 4079386.0000\n",
      "Epoch 219/250\n",
      "\u001b[1m50/50\u001b[0m \u001b[32m━━━━━━━━━━━━━━━━━━━━\u001b[0m\u001b[37m\u001b[0m \u001b[1m0s\u001b[0m 3ms/step - loss: 4339376.5000 - val_loss: 4092277.7500\n",
      "Epoch 220/250\n",
      "\u001b[1m50/50\u001b[0m \u001b[32m━━━━━━━━━━━━━━━━━━━━\u001b[0m\u001b[37m\u001b[0m \u001b[1m0s\u001b[0m 4ms/step - loss: 4114621.2500 - val_loss: 4075914.7500\n",
      "Epoch 221/250\n",
      "\u001b[1m50/50\u001b[0m \u001b[32m━━━━━━━━━━━━━━━━━━━━\u001b[0m\u001b[37m\u001b[0m \u001b[1m0s\u001b[0m 4ms/step - loss: 4034142.2500 - val_loss: 4076578.5000\n",
      "Epoch 222/250\n",
      "\u001b[1m50/50\u001b[0m \u001b[32m━━━━━━━━━━━━━━━━━━━━\u001b[0m\u001b[37m\u001b[0m \u001b[1m0s\u001b[0m 3ms/step - loss: 4167115.0000 - val_loss: 4066999.2500\n",
      "Epoch 223/250\n",
      "\u001b[1m50/50\u001b[0m \u001b[32m━━━━━━━━━━━━━━━━━━━━\u001b[0m\u001b[37m\u001b[0m \u001b[1m0s\u001b[0m 4ms/step - loss: 4079056.7500 - val_loss: 4083994.0000\n",
      "Epoch 224/250\n",
      "\u001b[1m50/50\u001b[0m \u001b[32m━━━━━━━━━━━━━━━━━━━━\u001b[0m\u001b[37m\u001b[0m \u001b[1m0s\u001b[0m 3ms/step - loss: 4327473.5000 - val_loss: 4075685.5000\n",
      "Epoch 225/250\n",
      "\u001b[1m50/50\u001b[0m \u001b[32m━━━━━━━━━━━━━━━━━━━━\u001b[0m\u001b[37m\u001b[0m \u001b[1m0s\u001b[0m 3ms/step - loss: 4111405.0000 - val_loss: 4099356.2500\n",
      "Epoch 226/250\n",
      "\u001b[1m50/50\u001b[0m \u001b[32m━━━━━━━━━━━━━━━━━━━━\u001b[0m\u001b[37m\u001b[0m \u001b[1m0s\u001b[0m 4ms/step - loss: 4052404.7500 - val_loss: 4074582.2500\n",
      "Epoch 227/250\n",
      "\u001b[1m50/50\u001b[0m \u001b[32m━━━━━━━━━━━━━━━━━━━━\u001b[0m\u001b[37m\u001b[0m \u001b[1m0s\u001b[0m 4ms/step - loss: 4157576.0000 - val_loss: 4065006.2500\n",
      "Epoch 228/250\n",
      "\u001b[1m50/50\u001b[0m \u001b[32m━━━━━━━━━━━━━━━━━━━━\u001b[0m\u001b[37m\u001b[0m \u001b[1m0s\u001b[0m 5ms/step - loss: 4106873.0000 - val_loss: 4050483.7500\n",
      "Epoch 229/250\n",
      "\u001b[1m50/50\u001b[0m \u001b[32m━━━━━━━━━━━━━━━━━━━━\u001b[0m\u001b[37m\u001b[0m \u001b[1m0s\u001b[0m 4ms/step - loss: 4099775.2500 - val_loss: 4114910.2500\n",
      "Epoch 230/250\n",
      "\u001b[1m50/50\u001b[0m \u001b[32m━━━━━━━━━━━━━━━━━━━━\u001b[0m\u001b[37m\u001b[0m \u001b[1m0s\u001b[0m 4ms/step - loss: 4143746.2500 - val_loss: 4054288.0000\n",
      "Epoch 231/250\n",
      "\u001b[1m50/50\u001b[0m \u001b[32m━━━━━━━━━━━━━━━━━━━━\u001b[0m\u001b[37m\u001b[0m \u001b[1m0s\u001b[0m 4ms/step - loss: 4143117.7500 - val_loss: 4064729.2500\n",
      "Epoch 232/250\n",
      "\u001b[1m50/50\u001b[0m \u001b[32m━━━━━━━━━━━━━━━━━━━━\u001b[0m\u001b[37m\u001b[0m \u001b[1m0s\u001b[0m 4ms/step - loss: 4237302.5000 - val_loss: 4046205.7500\n",
      "Epoch 233/250\n",
      "\u001b[1m50/50\u001b[0m \u001b[32m━━━━━━━━━━━━━━━━━━━━\u001b[0m\u001b[37m\u001b[0m \u001b[1m0s\u001b[0m 4ms/step - loss: 4137006.0000 - val_loss: 4035403.0000\n",
      "Epoch 234/250\n",
      "\u001b[1m50/50\u001b[0m \u001b[32m━━━━━━━━━━━━━━━━━━━━\u001b[0m\u001b[37m\u001b[0m \u001b[1m0s\u001b[0m 3ms/step - loss: 4211812.0000 - val_loss: 4043916.0000\n",
      "Epoch 235/250\n",
      "\u001b[1m50/50\u001b[0m \u001b[32m━━━━━━━━━━━━━━━━━━━━\u001b[0m\u001b[37m\u001b[0m \u001b[1m0s\u001b[0m 3ms/step - loss: 4136323.2500 - val_loss: 4051080.0000\n",
      "Epoch 236/250\n",
      "\u001b[1m50/50\u001b[0m \u001b[32m━━━━━━━━━━━━━━━━━━━━\u001b[0m\u001b[37m\u001b[0m \u001b[1m0s\u001b[0m 4ms/step - loss: 4231757.0000 - val_loss: 4059624.2500\n",
      "Epoch 237/250\n",
      "\u001b[1m50/50\u001b[0m \u001b[32m━━━━━━━━━━━━━━━━━━━━\u001b[0m\u001b[37m\u001b[0m \u001b[1m0s\u001b[0m 4ms/step - loss: 4107102.5000 - val_loss: 4031101.7500\n",
      "Epoch 238/250\n",
      "\u001b[1m50/50\u001b[0m \u001b[32m━━━━━━━━━━━━━━━━━━━━\u001b[0m\u001b[37m\u001b[0m \u001b[1m0s\u001b[0m 3ms/step - loss: 4160585.7500 - val_loss: 4025778.2500\n",
      "Epoch 239/250\n",
      "\u001b[1m50/50\u001b[0m \u001b[32m━━━━━━━━━━━━━━━━━━━━\u001b[0m\u001b[37m\u001b[0m \u001b[1m0s\u001b[0m 3ms/step - loss: 4188840.2500 - val_loss: 4054488.2500\n",
      "Epoch 240/250\n",
      "\u001b[1m50/50\u001b[0m \u001b[32m━━━━━━━━━━━━━━━━━━━━\u001b[0m\u001b[37m\u001b[0m \u001b[1m0s\u001b[0m 3ms/step - loss: 4073583.0000 - val_loss: 4107991.0000\n",
      "Epoch 241/250\n",
      "\u001b[1m50/50\u001b[0m \u001b[32m━━━━━━━━━━━━━━━━━━━━\u001b[0m\u001b[37m\u001b[0m \u001b[1m0s\u001b[0m 3ms/step - loss: 4118532.5000 - val_loss: 4012230.5000\n",
      "Epoch 242/250\n",
      "\u001b[1m50/50\u001b[0m \u001b[32m━━━━━━━━━━━━━━━━━━━━\u001b[0m\u001b[37m\u001b[0m \u001b[1m0s\u001b[0m 4ms/step - loss: 4103269.5000 - val_loss: 4031274.2500\n",
      "Epoch 243/250\n",
      "\u001b[1m50/50\u001b[0m \u001b[32m━━━━━━━━━━━━━━━━━━━━\u001b[0m\u001b[37m\u001b[0m \u001b[1m0s\u001b[0m 3ms/step - loss: 4000650.2500 - val_loss: 4009009.7500\n",
      "Epoch 244/250\n",
      "\u001b[1m50/50\u001b[0m \u001b[32m━━━━━━━━━━━━━━━━━━━━\u001b[0m\u001b[37m\u001b[0m \u001b[1m0s\u001b[0m 4ms/step - loss: 4242407.0000 - val_loss: 4005540.0000\n",
      "Epoch 245/250\n",
      "\u001b[1m50/50\u001b[0m \u001b[32m━━━━━━━━━━━━━━━━━━━━\u001b[0m\u001b[37m\u001b[0m \u001b[1m0s\u001b[0m 4ms/step - loss: 4119136.7500 - val_loss: 4005891.7500\n",
      "Epoch 246/250\n",
      "\u001b[1m50/50\u001b[0m \u001b[32m━━━━━━━━━━━━━━━━━━━━\u001b[0m\u001b[37m\u001b[0m \u001b[1m0s\u001b[0m 3ms/step - loss: 4271487.5000 - val_loss: 3999192.5000\n",
      "Epoch 247/250\n",
      "\u001b[1m50/50\u001b[0m \u001b[32m━━━━━━━━━━━━━━━━━━━━\u001b[0m\u001b[37m\u001b[0m \u001b[1m0s\u001b[0m 3ms/step - loss: 4068274.0000 - val_loss: 4047115.0000\n",
      "Epoch 248/250\n",
      "\u001b[1m50/50\u001b[0m \u001b[32m━━━━━━━━━━━━━━━━━━━━\u001b[0m\u001b[37m\u001b[0m \u001b[1m0s\u001b[0m 4ms/step - loss: 4042969.5000 - val_loss: 3990916.2500\n",
      "Epoch 249/250\n",
      "\u001b[1m50/50\u001b[0m \u001b[32m━━━━━━━━━━━━━━━━━━━━\u001b[0m\u001b[37m\u001b[0m \u001b[1m0s\u001b[0m 4ms/step - loss: 4233188.5000 - val_loss: 3990350.5000\n",
      "Epoch 250/250\n",
      "\u001b[1m50/50\u001b[0m \u001b[32m━━━━━━━━━━━━━━━━━━━━\u001b[0m\u001b[37m\u001b[0m \u001b[1m0s\u001b[0m 4ms/step - loss: 4053203.7500 - val_loss: 3984077.0000\n"
     ]
    },
    {
     "data": {
      "text/plain": [
       "<keras.src.callbacks.history.History at 0x7acdd4202e30>"
      ]
     },
     "execution_count": 57,
     "metadata": {},
     "output_type": "execute_result"
    }
   ],
   "source": [
    "model.fit(x = x_train, y = y_train, validation_data = (x_test, y_test), batch_size = 250, epochs = 250)"
   ]
  },
  {
   "cell_type": "code",
   "execution_count": 58,
   "id": "18d36ba2",
   "metadata": {
    "execution": {
     "iopub.execute_input": "2024-05-05T12:39:01.950555Z",
     "iopub.status.busy": "2024-05-05T12:39:01.948904Z",
     "iopub.status.idle": "2024-05-05T12:39:01.956468Z",
     "shell.execute_reply": "2024-05-05T12:39:01.955202Z"
    },
    "papermill": {
     "duration": 0.165267,
     "end_time": "2024-05-05T12:39:01.959102",
     "exception": false,
     "start_time": "2024-05-05T12:39:01.793835",
     "status": "completed"
    },
    "tags": []
   },
   "outputs": [],
   "source": [
    "loss_data = pd.DataFrame(model.history.history)"
   ]
  },
  {
   "cell_type": "code",
   "execution_count": 59,
   "id": "22d2916c",
   "metadata": {
    "execution": {
     "iopub.execute_input": "2024-05-05T12:39:02.268004Z",
     "iopub.status.busy": "2024-05-05T12:39:02.266544Z",
     "iopub.status.idle": "2024-05-05T12:39:02.286575Z",
     "shell.execute_reply": "2024-05-05T12:39:02.285033Z"
    },
    "papermill": {
     "duration": 0.177886,
     "end_time": "2024-05-05T12:39:02.289582",
     "exception": false,
     "start_time": "2024-05-05T12:39:02.111696",
     "status": "completed"
    },
    "tags": []
   },
   "outputs": [
    {
     "data": {
      "text/html": [
       "<div>\n",
       "<style scoped>\n",
       "    .dataframe tbody tr th:only-of-type {\n",
       "        vertical-align: middle;\n",
       "    }\n",
       "\n",
       "    .dataframe tbody tr th {\n",
       "        vertical-align: top;\n",
       "    }\n",
       "\n",
       "    .dataframe thead th {\n",
       "        text-align: right;\n",
       "    }\n",
       "</style>\n",
       "<table border=\"1\" class=\"dataframe\">\n",
       "  <thead>\n",
       "    <tr style=\"text-align: right;\">\n",
       "      <th></th>\n",
       "      <th>loss</th>\n",
       "      <th>val_loss</th>\n",
       "    </tr>\n",
       "  </thead>\n",
       "  <tbody>\n",
       "    <tr>\n",
       "      <th>0</th>\n",
       "      <td>1.725467e+08</td>\n",
       "      <td>1.739325e+08</td>\n",
       "    </tr>\n",
       "    <tr>\n",
       "      <th>1</th>\n",
       "      <td>1.724610e+08</td>\n",
       "      <td>1.737255e+08</td>\n",
       "    </tr>\n",
       "    <tr>\n",
       "      <th>2</th>\n",
       "      <td>1.718214e+08</td>\n",
       "      <td>1.722199e+08</td>\n",
       "    </tr>\n",
       "    <tr>\n",
       "      <th>3</th>\n",
       "      <td>1.676194e+08</td>\n",
       "      <td>1.632581e+08</td>\n",
       "    </tr>\n",
       "    <tr>\n",
       "      <th>4</th>\n",
       "      <td>1.478580e+08</td>\n",
       "      <td>1.272901e+08</td>\n",
       "    </tr>\n",
       "    <tr>\n",
       "      <th>...</th>\n",
       "      <td>...</td>\n",
       "      <td>...</td>\n",
       "    </tr>\n",
       "    <tr>\n",
       "      <th>245</th>\n",
       "      <td>4.108020e+06</td>\n",
       "      <td>3.999192e+06</td>\n",
       "    </tr>\n",
       "    <tr>\n",
       "      <th>246</th>\n",
       "      <td>4.099101e+06</td>\n",
       "      <td>4.047115e+06</td>\n",
       "    </tr>\n",
       "    <tr>\n",
       "      <th>247</th>\n",
       "      <td>4.106968e+06</td>\n",
       "      <td>3.990916e+06</td>\n",
       "    </tr>\n",
       "    <tr>\n",
       "      <th>248</th>\n",
       "      <td>4.099736e+06</td>\n",
       "      <td>3.990350e+06</td>\n",
       "    </tr>\n",
       "    <tr>\n",
       "      <th>249</th>\n",
       "      <td>4.096922e+06</td>\n",
       "      <td>3.984077e+06</td>\n",
       "    </tr>\n",
       "  </tbody>\n",
       "</table>\n",
       "<p>250 rows × 2 columns</p>\n",
       "</div>"
      ],
      "text/plain": [
       "             loss      val_loss\n",
       "0    1.725467e+08  1.739325e+08\n",
       "1    1.724610e+08  1.737255e+08\n",
       "2    1.718214e+08  1.722199e+08\n",
       "3    1.676194e+08  1.632581e+08\n",
       "4    1.478580e+08  1.272901e+08\n",
       "..            ...           ...\n",
       "245  4.108020e+06  3.999192e+06\n",
       "246  4.099101e+06  4.047115e+06\n",
       "247  4.106968e+06  3.990916e+06\n",
       "248  4.099736e+06  3.990350e+06\n",
       "249  4.096922e+06  3.984077e+06\n",
       "\n",
       "[250 rows x 2 columns]"
      ]
     },
     "execution_count": 59,
     "metadata": {},
     "output_type": "execute_result"
    }
   ],
   "source": [
    "loss_data"
   ]
  },
  {
   "cell_type": "code",
   "execution_count": 60,
   "id": "555c9a95",
   "metadata": {
    "execution": {
     "iopub.execute_input": "2024-05-05T12:39:02.616438Z",
     "iopub.status.busy": "2024-05-05T12:39:02.616017Z",
     "iopub.status.idle": "2024-05-05T12:39:02.965893Z",
     "shell.execute_reply": "2024-05-05T12:39:02.964432Z"
    },
    "papermill": {
     "duration": 0.51807,
     "end_time": "2024-05-05T12:39:02.968669",
     "exception": false,
     "start_time": "2024-05-05T12:39:02.450599",
     "status": "completed"
    },
    "tags": []
   },
   "outputs": [
    {
     "data": {
      "text/plain": [
       "<Axes: >"
      ]
     },
     "execution_count": 60,
     "metadata": {},
     "output_type": "execute_result"
    },
    {
     "data": {
      "image/png": "[encoded data removed]",
      "text/plain": [
       "<Figure size 640x480 with 1 Axes>"
      ]
     },
     "metadata": {},
     "output_type": "display_data"
    }
   ],
   "source": [
    "loss_data.plot()"
   ]
  },
  {
   "cell_type": "code",
   "execution_count": 61,
   "id": "91d99a59",
   "metadata": {
    "execution": {
     "iopub.execute_input": "2024-05-05T12:39:03.293357Z",
     "iopub.status.busy": "2024-05-05T12:39:03.292873Z",
     "iopub.status.idle": "2024-05-05T12:39:03.298391Z",
     "shell.execute_reply": "2024-05-05T12:39:03.296999Z"
    },
    "papermill": {
     "duration": 0.170594,
     "end_time": "2024-05-05T12:39:03.301039",
     "exception": false,
     "start_time": "2024-05-05T12:39:03.130445",
     "status": "completed"
    },
    "tags": []
   },
   "outputs": [],
   "source": [
    "from sklearn.metrics import mean_squared_error, mean_absolute_error"
   ]
  },
  {
   "cell_type": "code",
   "execution_count": 62,
   "id": "328c9fcb",
   "metadata": {
    "execution": {
     "iopub.execute_input": "2024-05-05T12:39:03.622103Z",
     "iopub.status.busy": "2024-05-05T12:39:03.621613Z",
     "iopub.status.idle": "2024-05-05T12:39:04.080329Z",
     "shell.execute_reply": "2024-05-05T12:39:04.079262Z"
    },
    "papermill": {
     "duration": 0.623062,
     "end_time": "2024-05-05T12:39:04.083567",
     "exception": false,
     "start_time": "2024-05-05T12:39:03.460505",
     "status": "completed"
    },
    "tags": []
   },
   "outputs": [
    {
     "name": "stdout",
     "output_type": "stream",
     "text": [
      "\u001b[1m167/167\u001b[0m \u001b[32m━━━━━━━━━━━━━━━━━━━━\u001b[0m\u001b[37m\u001b[0m \u001b[1m0s\u001b[0m 1ms/step\n"
     ]
    }
   ],
   "source": [
    "prediction_array = model.predict(x_test)"
   ]
  },
  {
   "cell_type": "code",
   "execution_count": 63,
   "id": "dc4c6d04",
   "metadata": {
    "execution": {
     "iopub.execute_input": "2024-05-05T12:39:04.406786Z",
     "iopub.status.busy": "2024-05-05T12:39:04.406374Z",
     "iopub.status.idle": "2024-05-05T12:39:04.418585Z",
     "shell.execute_reply": "2024-05-05T12:39:04.416757Z"
    },
    "papermill": {
     "duration": 0.178575,
     "end_time": "2024-05-05T12:39:04.421494",
     "exception": false,
     "start_time": "2024-05-05T12:39:04.242919",
     "status": "completed"
    },
    "tags": []
   },
   "outputs": [
    {
     "name": "stdout",
     "output_type": "stream",
     "text": [
      "1420.0057314341655\n",
      "0.9739448489645107\n"
     ]
    }
   ],
   "source": [
    "mae = mean_absolute_error(y_test, prediction_array)\n",
    "print(mae)\n",
    "accuracy_ratio = 1 - mae / (max(y_train) - min(y_train))\n",
    "print(accuracy_ratio)"
   ]
  },
  {
   "cell_type": "markdown",
   "id": "4ee21b35",
   "metadata": {
    "papermill": {
     "duration": 0.159382,
     "end_time": "2024-05-05T12:39:04.740354",
     "exception": false,
     "start_time": "2024-05-05T12:39:04.580972",
     "status": "completed"
    },
    "tags": []
   },
   "source": [
    "**Mean Absolue Error: 1538**\n",
    "<br>\n",
    "**Accuracy Ratio: 97%**"
   ]
  },
  {
   "cell_type": "code",
   "execution_count": 64,
   "id": "bf7c5dd7",
   "metadata": {
    "execution": {
     "iopub.execute_input": "2024-05-05T12:39:05.069623Z",
     "iopub.status.busy": "2024-05-05T12:39:05.069232Z",
     "iopub.status.idle": "2024-05-05T12:39:05.399692Z",
     "shell.execute_reply": "2024-05-05T12:39:05.398348Z"
    },
    "papermill": {
     "duration": 0.499042,
     "end_time": "2024-05-05T12:39:05.402464",
     "exception": false,
     "start_time": "2024-05-05T12:39:04.903422",
     "status": "completed"
    },
    "tags": []
   },
   "outputs": [
    {
     "data": {
      "text/plain": [
       "[<matplotlib.lines.Line2D at 0x7acdb768f100>]"
      ]
     },
     "execution_count": 64,
     "metadata": {},
     "output_type": "execute_result"
    },
    {
     "data": {
      "image/png": "[encoded data removed]",
      "text/plain": [
       "<Figure size 640x480 with 1 Axes>"
      ]
     },
     "metadata": {},
     "output_type": "display_data"
    }
   ],
   "source": [
    "plt.scatter(y_test, prediction_array)\n",
    "plt.plot(y_test, y_test, \"g*-\")"
   ]
  },
  {
   "cell_type": "code",
   "execution_count": 65,
   "id": "9631c9b8",
   "metadata": {
    "execution": {
     "iopub.execute_input": "2024-05-05T12:39:05.730784Z",
     "iopub.status.busy": "2024-05-05T12:39:05.730316Z",
     "iopub.status.idle": "2024-05-05T12:39:05.946424Z",
     "shell.execute_reply": "2024-05-05T12:39:05.945207Z"
    },
    "papermill": {
     "duration": 0.384289,
     "end_time": "2024-05-05T12:39:05.949140",
     "exception": false,
     "start_time": "2024-05-05T12:39:05.564851",
     "status": "completed"
    },
    "tags": []
   },
   "outputs": [
    {
     "data": {
      "text/plain": [
       "Text(0.5, 1.0, 'Model Accuracy')"
      ]
     },
     "execution_count": 65,
     "metadata": {},
     "output_type": "execute_result"
    },
    {
     "data": {
      "image/png": "[encoded data removed]",
      "text/plain": [
       "<Figure size 640x480 with 1 Axes>"
      ]
     },
     "metadata": {},
     "output_type": "display_data"
    }
   ],
   "source": [
    "plt.bar([\"Accuracy\"], [accuracy_ratio*100], color=['Red'])\n",
    "plt.ylim(0, 100)  \n",
    "plt.ylabel('Accuracy Ratio (%)')\n",
    "plt.title('Model Accuracy')"
   ]
  }
 ],
 "metadata": {
  "kaggle": {
   "accelerator": "none",
   "dataSources": [
    {
     "datasetId": 2073626,
     "sourceId": 3442322,
     "sourceType": "datasetVersion"
    }
   ],
   "dockerImageVersionId": 30698,
   "isGpuEnabled": false,
   "isInternetEnabled": true,
   "language": "python",
   "sourceType": "notebook"
  },
  "kernelspec": {
   "display_name": "Python 3",
   "language": "python",
   "name": "python3"
  },
  "language_info": {
   "codemirror_mode": {
    "name": "ipython",
    "version": 3
   },
   "file_extension": ".py",
   "mimetype": "text/x-python",
   "name": "python",
   "nbconvert_exporter": "python",
   "pygments_lexer": "ipython3",
   "version": "3.10.13"
  },
  "papermill": {
   "default_parameters": {},
   "duration": 106.438177,
   "end_time": "2024-05-05T12:39:09.471807",
   "environment_variables": {},
   "exception": null,
   "input_path": "__notebook__.ipynb",
   "output_path": "__notebook__.ipynb",
   "parameters": {},
   "start_time": "2024-05-05T12:37:23.033630",
   "version": "2.5.0"
  }
 },
 "nbformat": 4,
 "nbformat_minor": 5
}
